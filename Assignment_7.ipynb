{
  "nbformat": 4,
  "nbformat_minor": 0,
  "metadata": {
    "colab": {
      "name": "Assignment 7.ipynb",
      "provenance": [],
      "collapsed_sections": [],
      "mount_file_id": "1x60wP2Kcnf3y1tzPjMbcOH1TZsCrchip",
      "authorship_tag": "ABX9TyNsEoQ0f/zL5f6nHtjsThjg",
      "include_colab_link": true
    },
    "kernelspec": {
      "name": "python3",
      "display_name": "Python 3"
    }
  },
  "cells": [
    {
      "cell_type": "markdown",
      "metadata": {
        "id": "view-in-github",
        "colab_type": "text"
      },
      "source": [
        "<a href=\"https://colab.research.google.com/github/Mohadese-ghayoomi/Assignments-of-DL/blob/main/Assignment_7.ipynb\" target=\"_parent\"><img src=\"https://colab.research.google.com/assets/colab-badge.svg\" alt=\"Open In Colab\"/></a>"
      ]
    },
    {
      "cell_type": "markdown",
      "metadata": {
        "id": "zR4iFrFLwgIF"
      },
      "source": [
        "# **Importing the required Libraries**"
      ]
    },
    {
      "cell_type": "code",
      "metadata": {
        "id": "Nvpx8gtHbFAN"
      },
      "source": [
        "import tensorflow as tf\n",
        "\n",
        "import matplotlib.pyplot as plt\n",
        "import matplotlib.ticker as ticker\n",
        "from sklearn.model_selection import train_test_split\n",
        "\n",
        "import unicodedata\n",
        "import re\n",
        "import numpy as np\n",
        "import os\n",
        "import io\n",
        "import time"
      ],
      "execution_count": 90,
      "outputs": []
    },
    {
      "cell_type": "markdown",
      "metadata": {
        "id": "8kW-4juWwff3"
      },
      "source": [
        "# **Loading the Dataset**"
      ]
    },
    {
      "cell_type": "code",
      "metadata": {
        "colab": {
          "base_uri": "https://localhost:8080/",
          "height": 35
        },
        "id": "ZwGYJUMCd0QE",
        "outputId": "3e00c7a6-fe92-4cfa-de04-5b5f0b27ce14"
      },
      "source": [
        "os.getcwd()"
      ],
      "execution_count": 91,
      "outputs": [
        {
          "output_type": "execute_result",
          "data": {
            "application/vnd.google.colaboratory.intrinsic+json": {
              "type": "string"
            },
            "text/plain": [
              "'/content/drive/My Drive/Colab Notebooks'"
            ]
          },
          "metadata": {
            "tags": []
          },
          "execution_count": 91
        }
      ]
    },
    {
      "cell_type": "code",
      "metadata": {
        "id": "mPRG8loSd2U6"
      },
      "source": [
        "os.chdir('/content/drive/My Drive/Colab Notebooks')"
      ],
      "execution_count": 92,
      "outputs": []
    },
    {
      "cell_type": "code",
      "metadata": {
        "id": "VKTthbzNbMDU"
      },
      "source": [
        "from google.colab import drive\r\n"
      ],
      "execution_count": 93,
      "outputs": []
    },
    {
      "cell_type": "code",
      "metadata": {
        "colab": {
          "base_uri": "https://localhost:8080/"
        },
        "id": "odRdewGwb05e",
        "outputId": "7c99d1dd-354e-4bc2-e250-0e6b2c34c22d"
      },
      "source": [
        "drive.mount('/content/drive')"
      ],
      "execution_count": 94,
      "outputs": [
        {
          "output_type": "stream",
          "text": [
            "Drive already mounted at /content/drive; to attempt to forcibly remount, call drive.mount(\"/content/drive\", force_remount=True).\n"
          ],
          "name": "stdout"
        }
      ]
    },
    {
      "cell_type": "code",
      "metadata": {
        "id": "8L8-LfS341FW"
      },
      "source": [
        "# Converts the unicode file to ascii\n",
        "def unicode_to_ascii(s):\n",
        "  return ''.join(c for c in unicodedata.normalize('NFD', s)\n",
        "      if unicodedata.category(c) != 'Mn')\n",
        "\n",
        "\n",
        "def preprocess_sentence(w):\n",
        "  w = unicode_to_ascii(w.lower().strip())\n",
        "\n",
        "  # creating a space between a word and the punctuation following it\n",
        "  # eg: \"he is a boy.\" => \"he is a boy .\"\n",
        "  # Reference:- https://stackoverflow.com/questions/3645931/python-padding-punctuation-with-white-spaces-keeping-punctuation\n",
        "  w = re.sub(r\"([?.!,¿])\", r\" \\1 \", w)\n",
        "  w = re.sub(r'[\" \"]+', \" \", w)\n",
        "\n",
        "  # replacing everything with space except (a-z, A-Z,\".\", \"?\", \"!\", \",\")\n",
        "  #w = re.sub(r\"[^a-zA-Z?.!,¿ا ب پ ت س ج چ ح خ د ذ ر ز ژ س ش ص ض ط ظ ع غ ف ق ک گ ل م ن و ه ی]+\", \" \", w)\n",
        "\n",
        "  w = w.strip()\n",
        "\n",
        "  # adding a start and an end token to the sentence\n",
        "  # so that the model know when to start and stop predicting.\n",
        "  w = '<start> ' + w + ' <end>'\n",
        "  return w"
      ],
      "execution_count": 95,
      "outputs": []
    },
    {
      "cell_type": "code",
      "metadata": {
        "colab": {
          "base_uri": "https://localhost:8080/"
        },
        "id": "ewypq4st41H4",
        "outputId": "ea5ab147-1a3b-4568-ef7b-41ec5e0975c8"
      },
      "source": [
        "en_sentence = u\"Get out!\"\n",
        "pes_sentence = u\"برو بیرون!\"\n",
        "print(preprocess_sentence(en_sentence))\n",
        "print(preprocess_sentence(pes_sentence))\n",
        "print(preprocess_sentence(pes_sentence).encode('utf-8'))"
      ],
      "execution_count": 96,
      "outputs": [
        {
          "output_type": "stream",
          "text": [
            "<start> get out ! <end>\n",
            "<start> برو بیرون ! <end>\n",
            "b'<start> \\xd8\\xa8\\xd8\\xb1\\xd9\\x88 \\xd8\\xa8\\xdb\\x8c\\xd8\\xb1\\xd9\\x88\\xd9\\x86 ! <end>'\n"
          ],
          "name": "stdout"
        }
      ]
    },
    {
      "cell_type": "code",
      "metadata": {
        "id": "O8nyrSxz41J0"
      },
      "source": [
        "# 1. Remove the accents\n",
        "# 2. Clean the sentences\n",
        "# 3. Return word pairs in the format: [ENGLISH, persian]\n",
        "def create_dataset(path, num_examples):\n",
        "  lines = io.open(path, encoding='UTF-8').read().strip().split('\\n')\n",
        "\n",
        "  word_pairs = [[preprocess_sentence(w) for w in l.split('\\t')[:-1] ]  for l in lines[:num_examples]]\n",
        "\n",
        "  return zip(*word_pairs)"
      ],
      "execution_count": 97,
      "outputs": []
    },
    {
      "cell_type": "code",
      "metadata": {
        "colab": {
          "base_uri": "https://localhost:8080/"
        },
        "id": "YvACRGKkabYW",
        "outputId": "518cef0d-294e-423d-9f86-84134e87ea63"
      },
      "source": [
        "path_to_file = \"pes.txt\"\n",
        "en, pes = create_dataset(\"pes.txt\", 50)\n",
        "print(en)\n",
        "print(pes)"
      ],
      "execution_count": 98,
      "outputs": [
        {
          "output_type": "stream",
          "text": [
            "('<start> who ? <end>', '<start> go on . <end>', '<start> smile . <end>', '<start> attack ! <end>', '<start> got it ! <end>', '<start> i know . <end>', '<start> listen . <end>', '<start> really ? <end>', '<start> really ? <end>', '<start> why me ? <end>', '<start> be cool . <end>', '<start> be cool . <end>', '<start> be cool . <end>', '<start> come in . <end>', '<start> come on ! <end>', '<start> get out ! <end>', '<start> get out ! <end>', '<start> go away ! <end>', '<start> go away ! <end>', '<start> help me ! <end>', '<start> help me ! <end>', '<start> hold it ! <end>', '<start> see you . <end>', '<start> see you . <end>', '<start> shut up ! <end>', '<start> so long . <end>', '<start> take it . <end>', '<start> tell me . <end>', '<start> welcome . <end>', '<start> get away ! <end>', '<start> grab him . <end>', '<start> hurry up . <end>', '<start> keep out ! <end>', '<start> speak up ! <end>', '<start> terrific ! <end>', '<start> we agree . <end>', '<start> what for ? <end>', '<start> aim . fire ! <end>', '<start> birds fly . <end>', '<start> calm down . <end>', \"<start> don't lie . <end>\", '<start> excuse me . <end>', '<start> fantastic ! <end>', \"<start> how's tom ? <end>\", '<start> i fainted . <end>', '<start> i will go . <end>', \"<start> i'm needy . <end>\", \"<start> i'm sorry . <end>\", \"<start> it's true . <end>\", '<start> let it go . <end>')\n",
            "('<start> چه کسی؟ <end>', '<start> ادامه بده ( ادامه دادن ) <end>', '<start> لبخند بزن . <end>', '<start> حمله ! <end>', '<start> گرفتم ! <end>', '<start> من می دانم . <end>', '<start> گوش کن . <end>', '<start> واقعا؟ <end>', '<start> جدا؟ <end>', '<start> چرا من؟ <end>', '<start> راحت باش . <end>', '<start> خونسرد باش . <end>', '<start> باحال باش . <end>', '<start> بیا داخل . بیا تو . <end>', '<start> بجنب ! <end>', '<start> برو بیرون ! <end>', '<start> پیاده شو ! <end>', '<start> برو بیرون ! <end>', '<start> گم شو ! <end>', '<start> به من کمک کن . <end>', '<start> کمکم کن . <end>', '<start> بایست ! <end>', '<start> به امید دیدار . <end>', '<start> میبینمت . <end>', '<start> خفه شو ! <end>', '<start> خداحافظ . <end>', '<start> بگیرش <end>', '<start> به من بگو . <end>', '<start> خوش امدید . <end>', '<start> دور شو ! <end>', '<start> دستگیرش کن . <end>', '<start> عجله کن ! <end>', '<start> برو بیرون ! <end>', '<start> حرفت را بزن ! <end>', '<start> فوق العاده <end>', '<start> ما به توافق رسیدیم . <end>', '<start> به چه دلیلی؟ <end>', '<start> هدف،اتش ! <end>', '<start> پرنده ها پرواز می کنند . <end>', '<start> ارام باش . <end>', '<start> دروغ نگو . <end>', '<start> ببخشید . <end>', '<start> خیلی با حال ! بسیار عالی ! <end>', '<start> تام حالش چطوره؟ <end>', '<start> من غش کردم . <end>', '<start> خواهم رفت . <end>', '<start> من نیازمندم . <end>', '<start> من متاسفم . <end>', '<start> درست است . <end>', '<start> ولش کن . <end>')\n"
          ],
          "name": "stdout"
        }
      ]
    },
    {
      "cell_type": "code",
      "metadata": {
        "colab": {
          "base_uri": "https://localhost:8080/"
        },
        "id": "bP0BN0vohCin",
        "outputId": "c79c0489-eecc-415b-872c-e9ed0a8cbeb5"
      },
      "source": [
        "#path_to_file = \"deu.txt\"\r\n",
        "#en, deu = create_dataset(\"deu.txt\", None)\r\n",
        "#print(en[-1])\r\n",
        "#print(deu[-1])"
      ],
      "execution_count": null,
      "outputs": [
        {
          "output_type": "stream",
          "text": [
            "<start> doubtless there exists in this world precisely the right woman for any given man to marry and vice versa; but when you consider that a human being has the opportunity of being acquainted with only a few hundred people , and out of the few hundred that there are but a dozen or less whom he knows intimately , and out of the dozen , one or two friends at most , it will easily be seen , when we remember the number of millions who inhabit this world , that probably , since the earth was created , the right man has never yet met the right woman . <end>\n",
            "<start> ohne zweifel findet sich auf dieser welt zu jedem mann genau die richtige ehefrau und umgekehrt; wenn man jedoch in betracht zieht , dass ein mensch nur gelegenheit hat , mit ein paar hundert anderen bekannt zu sein , von denen ihm nur ein dutzend oder weniger nahesteht , darunter hochstens ein oder zwei freunde , dann erahnt man eingedenk der millionen einwohner dieser welt leicht , dass seit erschaffung ebenderselben wohl noch nie der richtige mann der richtigen frau begegnet ist . <end>\n"
          ],
          "name": "stdout"
        }
      ]
    },
    {
      "cell_type": "markdown",
      "metadata": {
        "id": "HG6ZlwCfoSDb"
      },
      "source": [
        "source :https://www.tensorflow.org/guide/keras/masking_and_padding"
      ]
    },
    {
      "cell_type": "code",
      "metadata": {
        "id": "3OKxumy841Tr"
      },
      "source": [
        "#This class allows to vectorize a text corpus, by turning each text into either a sequence of integers\r\n",
        "#(each integer being the index of a token in a dictionary) or into a vector where the coefficient for each token could be binary\r\n",
        "def tokenize(lang):\r\n",
        "  lang_tokenizer = tf.keras.preprocessing.text.Tokenizer(\r\n",
        "      filters='')\r\n",
        "#Trains the model for a fixed number of epochs (iterations on a dataset)\r\n",
        "  lang_tokenizer.fit_on_texts(lang)\r\n",
        "#Transforms each text in texts to a sequence of integers.\r\n",
        "#Each item in texts can also be a list, in which case we assume each item of that list to be a token.\r\n",
        "  tensor = lang_tokenizer.texts_to_sequences(lang)\r\n",
        "#Pads sequences to the same length\r\n",
        "#Since the input data for a deep learning model must be a single tensor\r\n",
        "#(of shape e.g. (batch_size, 6, vocab_size) in this case), samples that are shorter than the longest item\r\n",
        "#need to be padded with some placeholder value (alternatively, one might also truncate long samples before padding short samples).\r\n",
        "#Keras provides a utility function to truncate and pad Python lists to a common length\r\n",
        "  tensor = tf.keras.preprocessing.sequence.pad_sequences(tensor,\r\n",
        "                                                         padding='post') #pad after each sequence\r\n",
        "\r\n",
        "  return tensor, lang_tokenizer"
      ],
      "execution_count": 99,
      "outputs": []
    },
    {
      "cell_type": "code",
      "metadata": {
        "id": "sSt1gkjhTY90"
      },
      "source": [
        "#load the dataset, tokenize it and return output as tensors.\r\n",
        "def load_dataset(path, num_examples=None):\r\n",
        "  # creating cleaned input, output pairs\r\n",
        "  targ_lang, inp_lang = create_dataset(path, num_examples)\r\n",
        "\r\n",
        "  input_tensor, inp_lang_tokenizer = tokenize(inp_lang)\r\n",
        "  target_tensor, targ_lang_tokenizer = tokenize(targ_lang)\r\n",
        "\r\n",
        "  return input_tensor, target_tensor, inp_lang_tokenizer, targ_lang_tokenizer"
      ],
      "execution_count": 100,
      "outputs": []
    },
    {
      "cell_type": "markdown",
      "metadata": {
        "id": "hwQ5pD7lo0Ep"
      },
      "source": [
        "source :https://www.tensorflow.org/guide/keras/masking_and_padding\r\n",
        "\r\n",
        "Masking\r\n",
        "Now that all samples have a uniform length, the model must be informed that some part of the data is actually padding and should be ignored. That mechanism is masking.\r\n",
        "\r\n",
        "There are three ways to introduce input masks in Keras models:\r\n",
        "\r\n",
        "*   Add a keras.layers.Masking layer.\r\n",
        "*   Configure a keras.layers.Embedding layer with mask_zero=True.\r\n",
        "*   pass a mask argument manually when calling layers that support this argument (e.g. RNN layers).\r\n",
        "\r\n"
      ]
    },
    {
      "cell_type": "markdown",
      "metadata": {
        "id": "jUd6Kpysy9ET"
      },
      "source": [
        "#**Limitation the size of the dataset to experiment faster**"
      ]
    },
    {
      "cell_type": "code",
      "metadata": {
        "id": "_onAgUEM41ZE"
      },
      "source": [
        "# Try experimenting with the size of that dataset\r\n",
        "#num_examples of persian words = 2275\r\n",
        "num_examples = 100000\r\n",
        "input_tensor, target_tensor, inp_lang, targ_lang = load_dataset(path_to_file, num_examples)\r\n",
        "\r\n",
        "# Calculate max_length of the target tensors\r\n",
        "# encoder output of shape (batch_size, max_length, hidden_size) \r\n",
        "# encoder hidden state of shape (batch_size, hidden_size)\r\n",
        "max_length_targ, max_length_inp = target_tensor.shape[1], input_tensor.shape[1]"
      ],
      "execution_count": 101,
      "outputs": []
    },
    {
      "cell_type": "code",
      "metadata": {
        "colab": {
          "base_uri": "https://localhost:8080/"
        },
        "id": "M3UlU3-U1KGx",
        "outputId": "00f48407-70d2-4f98-8eee-4ce392da37be"
      },
      "source": [
        "# Creating training and validation sets using an 80-20 split\r\n",
        "input_tensor_train, input_tensor_val, target_tensor_train, target_tensor_val = train_test_split(input_tensor, target_tensor, test_size=0.2)\r\n",
        "\r\n",
        "# Show length\r\n",
        "print(len(input_tensor_train), len(target_tensor_train), len(input_tensor_val), len(target_tensor_val))"
      ],
      "execution_count": 102,
      "outputs": [
        {
          "output_type": "stream",
          "text": [
            "1820 1820 455 455\n"
          ],
          "name": "stdout"
        }
      ]
    },
    {
      "cell_type": "code",
      "metadata": {
        "id": "GTzpNvOZ4ap2"
      },
      "source": [
        "def convert(lang, tensor):\r\n",
        "  for t in tensor:\r\n",
        "    if t!=0:\r\n",
        "      print (\"%d ----> %s\" % (t, lang.index_word[t]))"
      ],
      "execution_count": 103,
      "outputs": []
    },
    {
      "cell_type": "code",
      "metadata": {
        "colab": {
          "base_uri": "https://localhost:8080/"
        },
        "id": "2i8CdPOa4ews",
        "outputId": "fc7d1071-1867-40fc-c2bc-02fc25791d12"
      },
      "source": [
        "print (\"Input Language; index to word mapping\")\r\n",
        "convert(inp_lang, input_tensor_train[2])\r\n",
        "print ()\r\n",
        "print (\"Target Language; index to word mapping\")\r\n",
        "convert(targ_lang, target_tensor_train[2])"
      ],
      "execution_count": 104,
      "outputs": [
        {
          "output_type": "stream",
          "text": [
            "Input Language; index to word mapping\n",
            "1 ----> <start>\n",
            "28 ----> چه\n",
            "528 ----> موقع\n",
            "8 ----> می\n",
            "140 ----> توانم\n",
            "361 ----> شنا\n",
            "235 ----> کنم؟\n",
            "2 ----> <end>\n",
            "\n",
            "Target Language; index to word mapping\n",
            "1 ----> <start>\n",
            "59 ----> when\n",
            "49 ----> can\n",
            "5 ----> i\n",
            "636 ----> swim\n",
            "60 ----> here\n",
            "10 ----> ?\n",
            "2 ----> <end>\n"
          ],
          "name": "stdout"
        }
      ]
    },
    {
      "cell_type": "code",
      "metadata": {
        "colab": {
          "base_uri": "https://localhost:8080/"
        },
        "id": "WI-6ippfhK4d",
        "outputId": "4396525e-c357-4dc9-b944-066bdcf4a219"
      },
      "source": [
        "#print (\"Input Language; index to word mapping\")\r\n",
        "#convert(inp_lang, input_tensor_train[2])\r\n",
        "#print ()\r\n",
        "#print (\"Target Language; index to word mapping\")\r\n",
        "#convert(targ_lang, target_tensor_train[2])"
      ],
      "execution_count": null,
      "outputs": [
        {
          "output_type": "stream",
          "text": [
            "Input Language; index to word mapping\n",
            "1 ----> <start>\n",
            "12 ----> du\n",
            "50 ----> bist\n",
            "759 ----> verliebt\n",
            "3 ----> .\n",
            "2 ----> <end>\n",
            "\n",
            "Target Language; index to word mapping\n",
            "1 ----> <start>\n",
            "48 ----> you're\n",
            "27 ----> in\n",
            "98 ----> love\n",
            "3 ----> .\n",
            "2 ----> <end>\n"
          ],
          "name": "stdout"
        }
      ]
    },
    {
      "cell_type": "markdown",
      "metadata": {
        "id": "vO5uz11s5KKt"
      },
      "source": [
        "# **Create a tf.data dataset**"
      ]
    },
    {
      "cell_type": "code",
      "metadata": {
        "colab": {
          "base_uri": "https://localhost:8080/"
        },
        "id": "6o05tnCW5Jvv",
        "outputId": "17db31c6-d97e-416d-8abf-63a40901ac1f"
      },
      "source": [
        "BUFFER_SIZE = len(input_tensor_train)\r\n",
        "BATCH_SIZE = 64\r\n",
        "steps_per_epoch = len(input_tensor_train)//BATCH_SIZE\r\n",
        "embedding_dim = 256\r\n",
        "units = 1024\r\n",
        "vocab_inp_size = len(inp_lang.word_index)+1\r\n",
        "vocab_tar_size = len(targ_lang.word_index)+1\r\n",
        "\r\n",
        "dataset = tf.data.Dataset.from_tensor_slices((input_tensor_train, target_tensor_train)).shuffle(BUFFER_SIZE)\r\n",
        "dataset = dataset.batch(BATCH_SIZE, drop_remainder=True)\r\n",
        "print(dataset)"
      ],
      "execution_count": 105,
      "outputs": [
        {
          "output_type": "stream",
          "text": [
            "<BatchDataset shapes: ((64, 33), (64, 37)), types: (tf.int32, tf.int32)>\n"
          ],
          "name": "stdout"
        }
      ]
    },
    {
      "cell_type": "code",
      "metadata": {
        "colab": {
          "base_uri": "https://localhost:8080/"
        },
        "id": "E5GJwMzSOl2D",
        "outputId": "0622e89a-6f9d-4b53-d7d4-9dab42704ae2"
      },
      "source": [
        "example_input_batch, example_target_batch = next(iter(dataset))\r\n",
        "example_input_batch.shape, example_target_batch.shape"
      ],
      "execution_count": 106,
      "outputs": [
        {
          "output_type": "execute_result",
          "data": {
            "text/plain": [
              "(TensorShape([64, 33]), TensorShape([64, 37]))"
            ]
          },
          "metadata": {
            "tags": []
          },
          "execution_count": 106
        }
      ]
    },
    {
      "cell_type": "markdown",
      "metadata": {
        "id": "WQVv0mj_YL4B"
      },
      "source": [
        "# **Encoder class**"
      ]
    },
    {
      "cell_type": "code",
      "metadata": {
        "id": "Jh6myGhEkCKL"
      },
      "source": [
        "class Encoder(tf.keras.Model):\r\n",
        "  def __init__(self, vocab_size, embedding_dim, enc_units, batch_sz):\r\n",
        "    super(Encoder, self).__init__()\r\n",
        "    self.batch_sz = batch_sz\r\n",
        "    self.enc_units = enc_units\r\n",
        "    self.embedding = tf.keras.layers.Embedding(vocab_size, embedding_dim)\r\n",
        "    self.gru = tf.keras.layers.GRU(self.enc_units,\r\n",
        "                                   return_sequences=True,\r\n",
        "                                   return_state=True,\r\n",
        "                                   recurrent_initializer='glorot_uniform')\r\n",
        "\r\n",
        "  def call(self, x, hidden):\r\n",
        "    x = self.embedding(x)\r\n",
        "    output, state = self.gru(x, initial_state = hidden)\r\n",
        "    return output, state\r\n",
        "\r\n",
        "  def initialize_hidden_state(self):\r\n",
        "    return tf.zeros((self.batch_sz, self.enc_units))"
      ],
      "execution_count": 107,
      "outputs": []
    },
    {
      "cell_type": "code",
      "metadata": {
        "colab": {
          "base_uri": "https://localhost:8080/"
        },
        "id": "UUugjN7yX2kO",
        "outputId": "f03e8f0a-b459-4605-c949-e1da3c520a9e"
      },
      "source": [
        "encoder = Encoder(vocab_inp_size, embedding_dim, units, BATCH_SIZE)\r\n",
        "\r\n",
        "# sample input\r\n",
        "sample_hidden = encoder.initialize_hidden_state()\r\n",
        "sample_output, sample_hidden = encoder(example_input_batch, sample_hidden)\r\n",
        "print ('Encoder output shape: (batch size, sequence length, units) {}'.format(sample_output.shape))\r\n",
        "print ('Encoder Hidden state shape: (batch size, units) {}'.format(sample_hidden.shape))"
      ],
      "execution_count": 108,
      "outputs": [
        {
          "output_type": "stream",
          "text": [
            "Encoder output shape: (batch size, sequence length, units) (64, 33, 1024)\n",
            "Encoder Hidden state shape: (batch size, units) (64, 1024)\n"
          ],
          "name": "stdout"
        }
      ]
    },
    {
      "cell_type": "markdown",
      "metadata": {
        "id": "ZIRgQ2p4X_TN"
      },
      "source": [
        "# **Attention Vector**"
      ]
    },
    {
      "cell_type": "code",
      "metadata": {
        "id": "cNBOpI3bX2ni"
      },
      "source": [
        "class BahdanauAttention(tf.keras.layers.Layer):\r\n",
        "  def __init__(self, units):\r\n",
        "    super(BahdanauAttention, self).__init__()\r\n",
        "    self.W1 = tf.keras.layers.Dense(units)\r\n",
        "    self.W2 = tf.keras.layers.Dense(units)\r\n",
        "    self.V = tf.keras.layers.Dense(1)\r\n",
        "\r\n",
        "  def call(self, query, values):\r\n",
        "    # query hidden state shape == (batch_size, hidden size)\r\n",
        "    # query_with_time_axis shape == (batch_size, 1, hidden size)\r\n",
        "    # values shape == (batch_size, max_len, hidden size)\r\n",
        "    # we are doing this to broadcast addition along the time axis to calculate the score\r\n",
        "    query_with_time_axis = tf.expand_dims(query, 1)\r\n",
        "\r\n",
        "    # score shape == (batch_size, max_length, 1)\r\n",
        "    # we get 1 at the last axis because we are applying score to self.V\r\n",
        "    # the shape of the tensor before applying self.V is (batch_size, max_length, units)\r\n",
        "    score = self.V(tf.nn.tanh(\r\n",
        "        self.W1(query_with_time_axis) + self.W2(values)))\r\n",
        "\r\n",
        "    # attention_weights shape == (batch_size, max_length, 1)\r\n",
        "    attention_weights = tf.nn.softmax(score, axis=1)\r\n",
        "\r\n",
        "    # context_vector shape after sum == (batch_size, hidden_size)\r\n",
        "    context_vector = attention_weights * values\r\n",
        "    context_vector = tf.reduce_sum(context_vector, axis=1)\r\n",
        "\r\n",
        "    return context_vector, attention_weights"
      ],
      "execution_count": 84,
      "outputs": []
    },
    {
      "cell_type": "code",
      "metadata": {
        "colab": {
          "base_uri": "https://localhost:8080/"
        },
        "id": "C7AU9JmUYTEw",
        "outputId": "1772c045-51ba-404d-b1f5-444b051bf35a"
      },
      "source": [
        "attention_layer = BahdanauAttention(10)\r\n",
        "attention_result, attention_weights = attention_layer(sample_hidden, sample_output)\r\n",
        "\r\n",
        "print(\"Attention result shape: (batch size, units) {}\".format(attention_result.shape))\r\n",
        "print(\"Attention weights shape: (batch_size, sequence_length, 1) {}\".format(attention_weights.shape))"
      ],
      "execution_count": 85,
      "outputs": [
        {
          "output_type": "stream",
          "text": [
            "Attention result shape: (batch size, units) (64, 1024)\n",
            "Attention weights shape: (batch_size, sequence_length, 1) (64, 33, 1)\n"
          ],
          "name": "stdout"
        }
      ]
    },
    {
      "cell_type": "code",
      "metadata": {
        "id": "Ore6mYiFwDVQ"
      },
      "source": [
        "class Decoder(tf.keras.Model):\r\n",
        "  def __init__(self, vocab_size, embedding_dim, dec_units, batch_sz):\r\n",
        "    super(Decoder, self).__init__()\r\n",
        "    self.batch_sz = batch_sz\r\n",
        "    self.dec_units = dec_units\r\n",
        "    self.embedding = tf.keras.layers.Embedding(vocab_size, embedding_dim)\r\n",
        "    self.gru = tf.keras.layers.GRU(self.dec_units,\r\n",
        "                                   return_sequences=True,\r\n",
        "                                   return_state=True,\r\n",
        "                                   recurrent_initializer='glorot_uniform')\r\n",
        "    self.fc = tf.keras.layers.Dense(vocab_size)\r\n",
        "\r\n",
        "    # used for attention\r\n",
        "    self.attention = BahdanauAttention(self.dec_units)\r\n",
        "\r\n",
        "  def call(self, x, hidden, enc_output):\r\n",
        "    # enc_output shape == (batch_size, max_length, hidden_size)\r\n",
        "    context_vector, attention_weights = self.attention(hidden, enc_output)\r\n",
        "\r\n",
        "    # x shape after passing through embedding == (batch_size, 1, embedding_dim)\r\n",
        "    x = self.embedding(x)\r\n",
        "\r\n",
        "    # x shape after concatenation == (batch_size, 1, embedding_dim + hidden_size)\r\n",
        "    x = tf.concat([tf.expand_dims(context_vector, 1), x], axis=-1)\r\n",
        "\r\n",
        "    # passing the concatenated vector to the GRU\r\n",
        "    output, state = self.gru(x)\r\n",
        "\r\n",
        "    # output shape == (batch_size * 1, hidden_size)\r\n",
        "    output = tf.reshape(output, (-1, output.shape[2]))\r\n",
        "\r\n",
        "    # output shape == (batch_size, vocab)\r\n",
        "    x = self.fc(output)\r\n",
        "\r\n",
        "    return x, state, attention_weights"
      ],
      "execution_count": 86,
      "outputs": []
    },
    {
      "cell_type": "code",
      "metadata": {
        "colab": {
          "base_uri": "https://localhost:8080/"
        },
        "id": "IU-RvloXwGlk",
        "outputId": "6dbd41f1-1237-4728-9327-e2b1170ad878"
      },
      "source": [
        "decoder = Decoder(vocab_tar_size, embedding_dim, units, BATCH_SIZE)\r\n",
        "\r\n",
        "sample_decoder_output, _, _ = decoder(tf.random.uniform((BATCH_SIZE, 1)),\r\n",
        "                                      sample_hidden, sample_output)\r\n",
        "\r\n",
        "print ('Decoder output shape: (batch_size, vocab size) {}'.format(sample_decoder_output.shape))"
      ],
      "execution_count": 87,
      "outputs": [
        {
          "output_type": "stream",
          "text": [
            "Decoder output shape: (batch_size, vocab size) (64, 2571)\n"
          ],
          "name": "stdout"
        }
      ]
    },
    {
      "cell_type": "markdown",
      "metadata": {
        "id": "pd_UAOG2wYrS"
      },
      "source": [
        "# **optimizer and the loss function**"
      ]
    },
    {
      "cell_type": "code",
      "metadata": {
        "id": "RsxfkaGLwaws"
      },
      "source": [
        "optimizer = tf.keras.optimizers.Adam()\r\n",
        "loss_object = tf.keras.losses.SparseCategoricalCrossentropy(\r\n",
        "    from_logits=True, reduction='none')\r\n",
        "\r\n",
        "def loss_function(real, pred):\r\n",
        "  mask = tf.math.logical_not(tf.math.equal(real, 0))\r\n",
        "  loss_ = loss_object(real, pred)\r\n",
        "\r\n",
        "  mask = tf.cast(mask, dtype=loss_.dtype)\r\n",
        "  loss_ *= mask\r\n",
        "\r\n",
        "  return tf.reduce_mean(loss_)"
      ],
      "execution_count": 88,
      "outputs": []
    },
    {
      "cell_type": "code",
      "metadata": {
        "id": "DNucRbx8wsl-"
      },
      "source": [
        "checkpoint_dir = '/content/drive/My Drive/Colab Notebooks/CheckPoints'\r\n",
        "checkpoint_prefix = os.path.join(checkpoint_dir, \"ckpt\")\r\n",
        "checkpoint = tf.train.Checkpoint(optimizer=optimizer,\r\n",
        "                                encoder=encoder,\r\n",
        "                                 decoder=decoder)"
      ],
      "execution_count": 89,
      "outputs": []
    },
    {
      "cell_type": "code",
      "metadata": {
        "id": "d7hi6Y4ShT0N"
      },
      "source": [
        "#checkpoint_dir = '/content/drive/My Drive/Colab Notebooks/CheckPointsDeutsch'\r\n",
        "#checkpoint_prefix = os.path.join(checkpoint_dir, \"ckpt\")\r\n",
        "#checkpoint = tf.train.Checkpoint(optimizer=optimizer,\r\n",
        "#                                 encoder=encoder,\r\n",
        "#                                 decoder=decoder)"
      ],
      "execution_count": null,
      "outputs": []
    },
    {
      "cell_type": "code",
      "metadata": {
        "id": "qvi9l8Aix-7O"
      },
      "source": [
        "@tf.function\r\n",
        "def train_step(inp, targ, enc_hidden):\r\n",
        "  loss = 0\r\n",
        "\r\n",
        "  with tf.GradientTape() as tape:\r\n",
        "    enc_output, enc_hidden = encoder(inp, enc_hidden)\r\n",
        "\r\n",
        "    dec_hidden = enc_hidden\r\n",
        "\r\n",
        "    dec_input = tf.expand_dims([targ_lang.word_index['<start>']] * BATCH_SIZE, 1)\r\n",
        "\r\n",
        "    # Teacher forcing - feeding the target as the next input\r\n",
        "    for t in range(1, targ.shape[1]):\r\n",
        "      # passing enc_output to the decoder\r\n",
        "      predictions, dec_hidden, _ = decoder(dec_input, dec_hidden, enc_output)\r\n",
        "\r\n",
        "      loss += loss_function(targ[:, t], predictions)\r\n",
        "\r\n",
        "      # using teacher forcing\r\n",
        "      dec_input = tf.expand_dims(targ[:, t], 1)\r\n",
        "\r\n",
        "  batch_loss = (loss / int(targ.shape[1]))\r\n",
        "\r\n",
        "  variables = encoder.trainable_variables + decoder.trainable_variables\r\n",
        "\r\n",
        "  gradients = tape.gradient(loss, variables)\r\n",
        "\r\n",
        "  optimizer.apply_gradients(zip(gradients, variables))\r\n",
        "\r\n",
        "  return batch_loss"
      ],
      "execution_count": null,
      "outputs": []
    },
    {
      "cell_type": "code",
      "metadata": {
        "colab": {
          "base_uri": "https://localhost:8080/"
        },
        "id": "qvdGqc03zJTH",
        "outputId": "8da8aa28-d9e3-4608-e3ab-94567c1f783b"
      },
      "source": [
        "EPOCHS = 50\r\n",
        "\r\n",
        "for epoch in range(EPOCHS):\r\n",
        "  start = time.time()\r\n",
        "\r\n",
        "  enc_hidden = encoder.initialize_hidden_state()\r\n",
        "  total_loss = 0\r\n",
        "\r\n",
        "  for (batch, (inp, targ)) in enumerate(dataset.take(steps_per_epoch)):\r\n",
        "    batch_loss = train_step(inp, targ, enc_hidden)\r\n",
        "    total_loss += batch_loss\r\n",
        "\r\n",
        "    if batch % 100 == 0:\r\n",
        "      print('Epoch {} Batch {} Loss {:.4f}'.format(epoch + 1,\r\n",
        "                                                   batch,\r\n",
        "                                                   batch_loss.numpy()))\r\n",
        "  # saving (checkpoint) the model every 2 epochs\r\n",
        "  if (epoch + 1) % 2 == 0:\r\n",
        "    checkpoint.save(file_prefix = checkpoint_prefix)\r\n",
        "\r\n",
        "  print('Epoch {} Loss {:.4f}'.format(epoch + 1,\r\n",
        "                                      total_loss / steps_per_epoch))\r\n",
        "  print('Time taken for 1 epoch {} sec\\n'.format(time.time() - start))"
      ],
      "execution_count": null,
      "outputs": [
        {
          "output_type": "stream",
          "text": [
            "Epoch 1 Batch 0 Loss 1.7574\n",
            "Epoch 1 Loss 1.4428\n",
            "Time taken for 1 epoch 487.21891617774963 sec\n",
            "\n",
            "Epoch 2 Batch 0 Loss 1.1973\n",
            "Epoch 2 Loss 1.2059\n",
            "Time taken for 1 epoch 438.14834856987 sec\n",
            "\n",
            "Epoch 3 Batch 0 Loss 1.2154\n",
            "Epoch 3 Loss 1.1342\n",
            "Time taken for 1 epoch 429.5998623371124 sec\n",
            "\n",
            "Epoch 4 Batch 0 Loss 0.9652\n",
            "Epoch 4 Loss 1.0776\n",
            "Time taken for 1 epoch 463.9787516593933 sec\n",
            "\n",
            "Epoch 5 Batch 0 Loss 1.0603\n",
            "Epoch 5 Loss 1.0265\n",
            "Time taken for 1 epoch 459.9793314933777 sec\n",
            "\n",
            "Epoch 6 Batch 0 Loss 0.9906\n",
            "Epoch 6 Loss 0.9783\n",
            "Time taken for 1 epoch 463.2251205444336 sec\n",
            "\n",
            "Epoch 7 Batch 0 Loss 0.9278\n",
            "Epoch 7 Loss 0.9312\n",
            "Time taken for 1 epoch 463.37100625038147 sec\n",
            "\n",
            "Epoch 8 Batch 0 Loss 0.9209\n",
            "Epoch 8 Loss 0.8878\n",
            "Time taken for 1 epoch 462.47581672668457 sec\n",
            "\n",
            "Epoch 9 Batch 0 Loss 0.7947\n",
            "Epoch 9 Loss 0.8468\n",
            "Time taken for 1 epoch 461.00004482269287 sec\n",
            "\n",
            "Epoch 10 Batch 0 Loss 0.8316\n",
            "Epoch 10 Loss 0.8017\n",
            "Time taken for 1 epoch 459.3907678127289 sec\n",
            "\n",
            "Epoch 11 Batch 0 Loss 0.7798\n",
            "Epoch 11 Loss 0.7570\n",
            "Time taken for 1 epoch 462.51036167144775 sec\n",
            "\n",
            "Epoch 12 Batch 0 Loss 0.6089\n",
            "Epoch 12 Loss 0.7120\n",
            "Time taken for 1 epoch 464.9954528808594 sec\n",
            "\n",
            "Epoch 13 Batch 0 Loss 0.6600\n",
            "Epoch 13 Loss 0.6672\n",
            "Time taken for 1 epoch 463.02703642845154 sec\n",
            "\n",
            "Epoch 14 Batch 0 Loss 0.6032\n",
            "Epoch 14 Loss 0.6245\n",
            "Time taken for 1 epoch 461.726279258728 sec\n",
            "\n",
            "Epoch 15 Batch 0 Loss 0.5696\n",
            "Epoch 15 Loss 0.5847\n",
            "Time taken for 1 epoch 468.12992429733276 sec\n",
            "\n",
            "Epoch 16 Batch 0 Loss 0.4723\n",
            "Epoch 16 Loss 0.5416\n",
            "Time taken for 1 epoch 466.39163064956665 sec\n",
            "\n",
            "Epoch 17 Batch 0 Loss 0.4587\n",
            "Epoch 17 Loss 0.4985\n",
            "Time taken for 1 epoch 462.5165078639984 sec\n",
            "\n",
            "Epoch 18 Batch 0 Loss 0.4521\n",
            "Epoch 18 Loss 0.4592\n",
            "Time taken for 1 epoch 459.7862732410431 sec\n",
            "\n",
            "Epoch 19 Batch 0 Loss 0.4303\n",
            "Epoch 19 Loss 0.4169\n",
            "Time taken for 1 epoch 455.7186050415039 sec\n",
            "\n",
            "Epoch 20 Batch 0 Loss 0.3667\n",
            "Epoch 20 Loss 0.3812\n",
            "Time taken for 1 epoch 467.97242164611816 sec\n",
            "\n",
            "Epoch 21 Batch 0 Loss 0.2910\n",
            "Epoch 21 Loss 0.3448\n",
            "Time taken for 1 epoch 465.8854947090149 sec\n",
            "\n",
            "Epoch 22 Batch 0 Loss 0.2987\n",
            "Epoch 22 Loss 0.3071\n",
            "Time taken for 1 epoch 463.47405886650085 sec\n",
            "\n",
            "Epoch 23 Batch 0 Loss 0.2669\n",
            "Epoch 23 Loss 0.2750\n",
            "Time taken for 1 epoch 462.20309019088745 sec\n",
            "\n",
            "Epoch 24 Batch 0 Loss 0.2324\n",
            "Epoch 24 Loss 0.2415\n",
            "Time taken for 1 epoch 467.2332196235657 sec\n",
            "\n",
            "Epoch 25 Batch 0 Loss 0.1897\n",
            "Epoch 25 Loss 0.2114\n",
            "Time taken for 1 epoch 462.2255256175995 sec\n",
            "\n",
            "Epoch 26 Batch 0 Loss 0.1695\n",
            "Epoch 26 Loss 0.1833\n",
            "Time taken for 1 epoch 467.12002420425415 sec\n",
            "\n",
            "Epoch 27 Batch 0 Loss 0.1247\n",
            "Epoch 27 Loss 0.1558\n",
            "Time taken for 1 epoch 464.51840806007385 sec\n",
            "\n",
            "Epoch 28 Batch 0 Loss 0.0955\n",
            "Epoch 28 Loss 0.1314\n",
            "Time taken for 1 epoch 439.41309690475464 sec\n",
            "\n",
            "Epoch 29 Batch 0 Loss 0.0850\n",
            "Epoch 29 Loss 0.1077\n",
            "Time taken for 1 epoch 436.4542922973633 sec\n",
            "\n",
            "Epoch 30 Batch 0 Loss 0.0731\n",
            "Epoch 30 Loss 0.0887\n",
            "Time taken for 1 epoch 432.77401399612427 sec\n",
            "\n",
            "Epoch 31 Batch 0 Loss 0.0641\n",
            "Epoch 31 Loss 0.0715\n",
            "Time taken for 1 epoch 434.8064351081848 sec\n",
            "\n",
            "Epoch 32 Batch 0 Loss 0.0465\n",
            "Epoch 32 Loss 0.0552\n",
            "Time taken for 1 epoch 431.10882210731506 sec\n",
            "\n",
            "Epoch 33 Batch 0 Loss 0.0375\n",
            "Epoch 33 Loss 0.0443\n",
            "Time taken for 1 epoch 457.68502163887024 sec\n",
            "\n",
            "Epoch 34 Batch 0 Loss 0.0387\n",
            "Epoch 34 Loss 0.0360\n",
            "Time taken for 1 epoch 465.0615494251251 sec\n",
            "\n",
            "Epoch 35 Batch 0 Loss 0.0203\n",
            "Epoch 35 Loss 0.0277\n",
            "Time taken for 1 epoch 457.3425679206848 sec\n",
            "\n",
            "Epoch 36 Batch 0 Loss 0.0208\n",
            "Epoch 36 Loss 0.0214\n",
            "Time taken for 1 epoch 472.4917743206024 sec\n",
            "\n",
            "Epoch 37 Batch 0 Loss 0.0152\n",
            "Epoch 37 Loss 0.0178\n",
            "Time taken for 1 epoch 468.80262994766235 sec\n",
            "\n",
            "Epoch 38 Batch 0 Loss 0.0164\n",
            "Epoch 38 Loss 0.0140\n",
            "Time taken for 1 epoch 462.0932240486145 sec\n",
            "\n",
            "Epoch 39 Batch 0 Loss 0.0119\n",
            "Epoch 39 Loss 0.0118\n",
            "Time taken for 1 epoch 469.72492957115173 sec\n",
            "\n",
            "Epoch 40 Batch 0 Loss 0.0075\n",
            "Epoch 40 Loss 0.0103\n",
            "Time taken for 1 epoch 464.48925733566284 sec\n",
            "\n",
            "Epoch 41 Batch 0 Loss 0.0055\n",
            "Epoch 41 Loss 0.0095\n",
            "Time taken for 1 epoch 465.9468128681183 sec\n",
            "\n",
            "Epoch 42 Batch 0 Loss 0.0065\n",
            "Epoch 42 Loss 0.0082\n",
            "Time taken for 1 epoch 465.40530705451965 sec\n",
            "\n",
            "Epoch 43 Batch 0 Loss 0.0059\n",
            "Epoch 43 Loss 0.0076\n",
            "Time taken for 1 epoch 455.93378806114197 sec\n",
            "\n",
            "Epoch 44 Batch 0 Loss 0.0049\n",
            "Epoch 44 Loss 0.0069\n",
            "Time taken for 1 epoch 467.5834128856659 sec\n",
            "\n",
            "Epoch 45 Batch 0 Loss 0.0047\n",
            "Epoch 45 Loss 0.0063\n",
            "Time taken for 1 epoch 466.5999894142151 sec\n",
            "\n",
            "Epoch 46 Batch 0 Loss 0.0052\n",
            "Epoch 46 Loss 0.0059\n",
            "Time taken for 1 epoch 465.2087404727936 sec\n",
            "\n",
            "Epoch 47 Batch 0 Loss 0.0040\n",
            "Epoch 47 Loss 0.0060\n",
            "Time taken for 1 epoch 463.86462688446045 sec\n",
            "\n",
            "Epoch 48 Batch 0 Loss 0.0051\n",
            "Epoch 48 Loss 0.0059\n",
            "Time taken for 1 epoch 465.7783327102661 sec\n",
            "\n",
            "Epoch 49 Batch 0 Loss 0.0046\n",
            "Epoch 49 Loss 0.0072\n",
            "Time taken for 1 epoch 471.10947728157043 sec\n",
            "\n",
            "Epoch 50 Batch 0 Loss 0.0085\n",
            "Epoch 50 Loss 0.0103\n",
            "Time taken for 1 epoch 472.9056932926178 sec\n",
            "\n"
          ],
          "name": "stdout"
        }
      ]
    },
    {
      "cell_type": "markdown",
      "metadata": {
        "id": "Hy71SuNd039B"
      },
      "source": [
        "# **Evaluation**"
      ]
    },
    {
      "cell_type": "code",
      "metadata": {
        "id": "P9qqrN9w08gz"
      },
      "source": [
        "def evaluate(sentence):\r\n",
        "  attention_plot = np.zeros((max_length_targ, max_length_inp))\r\n",
        "\r\n",
        "  sentence = preprocess_sentence(sentence)\r\n",
        "\r\n",
        "  inputs = [inp_lang.word_index[i] for i in sentence.split(' ')]\r\n",
        "  inputs = tf.keras.preprocessing.sequence.pad_sequences([inputs],\r\n",
        "                                                         maxlen=max_length_inp,\r\n",
        "                                                         padding='post')\r\n",
        "  inputs = tf.convert_to_tensor(inputs)\r\n",
        "\r\n",
        "  result = ''\r\n",
        "\r\n",
        "  hidden = [tf.zeros((1, units))]\r\n",
        "  enc_out, enc_hidden = encoder(inputs, hidden)\r\n",
        "\r\n",
        "  dec_hidden = enc_hidden\r\n",
        "  dec_input = tf.expand_dims([targ_lang.word_index['<start>']], 0)\r\n",
        "\r\n",
        "  for t in range(max_length_targ):\r\n",
        "    predictions, dec_hidden, attention_weights = decoder(dec_input,\r\n",
        "                                                         dec_hidden,\r\n",
        "                                                         enc_out)\r\n",
        "\r\n",
        "    # storing the attention weights to plot later on\r\n",
        "    attention_weights = tf.reshape(attention_weights, (-1, ))\r\n",
        "    attention_plot[t] = attention_weights.numpy()\r\n",
        "\r\n",
        "    predicted_id = tf.argmax(predictions[0]).numpy()\r\n",
        "\r\n",
        "    result += targ_lang.index_word[predicted_id] + ' '\r\n",
        "\r\n",
        "    if targ_lang.index_word[predicted_id] == '<end>':\r\n",
        "      return result, sentence, attention_plot\r\n",
        "\r\n",
        "    # the predicted ID is fed back into the model\r\n",
        "    dec_input = tf.expand_dims([predicted_id], 0)\r\n",
        "\r\n",
        "  return result, sentence, attention_plot"
      ],
      "execution_count": null,
      "outputs": []
    },
    {
      "cell_type": "code",
      "metadata": {
        "id": "L9TDP36M1Rq5"
      },
      "source": [
        "# function for plotting the attention weights\r\n",
        "def plot_attention(attention, sentence, predicted_sentence):\r\n",
        "  fig = plt.figure(figsize=(10,10))\r\n",
        "  ax = fig.add_subplot(1, 1, 1)\r\n",
        "  ax.matshow(attention, cmap='viridis')\r\n",
        "\r\n",
        "  fontdict = {'fontsize': 14}\r\n",
        "\r\n",
        "  ax.set_xticklabels([''] + sentence, fontdict=fontdict, rotation=90)\r\n",
        "  ax.set_yticklabels([''] + predicted_sentence, fontdict=fontdict)\r\n",
        "\r\n",
        "  ax.xaxis.set_major_locator(ticker.MultipleLocator(1))\r\n",
        "  ax.yaxis.set_major_locator(ticker.MultipleLocator(1))\r\n",
        "\r\n",
        "  plt.show()"
      ],
      "execution_count": null,
      "outputs": []
    },
    {
      "cell_type": "code",
      "metadata": {
        "id": "3jpo5Lal1WlV"
      },
      "source": [
        "def translate(sentence):\r\n",
        "  result, sentence, attention_plot = evaluate(sentence)\r\n",
        "\r\n",
        "  print('Input: %s' % (sentence))\r\n",
        "  print('Predicted translation: {}'.format(result))\r\n",
        "\r\n",
        "  attention_plot = attention_plot[:len(result.split(' ')), :len(sentence.split(' '))]\r\n",
        "  plot_attention(attention_plot, sentence.split(' '), result.split(' '))"
      ],
      "execution_count": null,
      "outputs": []
    },
    {
      "cell_type": "markdown",
      "metadata": {
        "id": "TwxzBRk_1emB"
      },
      "source": [
        "# **testing**"
      ]
    },
    {
      "cell_type": "code",
      "metadata": {
        "colab": {
          "base_uri": "https://localhost:8080/"
        },
        "id": "OSrntAZE1jLq",
        "outputId": "171c560c-aca1-40f9-e099-e2bee64acd08"
      },
      "source": [
        "# restoring the latest checkpoint in checkpoint_dir\r\n",
        "checkpoint.restore(tf.train.latest_checkpoint(checkpoint_dir))"
      ],
      "execution_count": null,
      "outputs": [
        {
          "output_type": "execute_result",
          "data": {
            "text/plain": [
              "<tensorflow.python.training.tracking.util.CheckpointLoadStatus at 0x7fed877f74e0>"
            ]
          },
          "metadata": {
            "tags": []
          },
          "execution_count": 93
        }
      ]
    },
    {
      "cell_type": "markdown",
      "metadata": {
        "id": "EgM_XdWjirbs"
      },
      "source": [
        "# **Persian and English**"
      ]
    },
    {
      "cell_type": "code",
      "metadata": {
        "colab": {
          "base_uri": "https://localhost:8080/",
          "height": 675
        },
        "id": "VsbJMzjGiYoH",
        "outputId": "7dca1521-13c1-44c6-fe32-717f773a71d9"
      },
      "source": [
        "translate(u' هوا خیلی تاریک بود.')"
      ],
      "execution_count": null,
      "outputs": [
        {
          "output_type": "stream",
          "text": [
            "Input: <start> هوا خیلی تاریک بود . <end>\n",
            "Predicted translation: it was so dark . <end> \n"
          ],
          "name": "stdout"
        },
        {
          "output_type": "display_data",
          "data": {
            "image/png": "[encoded data removed]",
            "text/plain": [
              "<Figure size 720x720 with 1 Axes>"
            ]
          },
          "metadata": {
            "tags": [],
            "needs_background": "light"
          }
        }
      ]
    },
    {
      "cell_type": "code",
      "metadata": {
        "colab": {
          "base_uri": "https://localhost:8080/",
          "height": 411
        },
        "id": "E6LM_VOt2TDM",
        "outputId": "737edfd3-0b33-4db1-d575-5520b4760d28"
      },
      "source": [
        "translate(u'او به من گفت تا پنج دقیقه دیگر می رسد ')"
      ],
      "execution_count": null,
      "outputs": [
        {
          "output_type": "stream",
          "text": [
            "Input: <start> او به من گفت تا پنج دقیقه دیگر می رسد <end>\n",
            "Predicted translation: she is wrong ? <end> \n"
          ],
          "name": "stdout"
        },
        {
          "output_type": "display_data",
          "data": {
            "image/png": "[encoded data removed]",
            "text/plain": [
              "<Figure size 720x720 with 1 Axes>"
            ]
          },
          "metadata": {
            "tags": [],
            "needs_background": "light"
          }
        }
      ]
    },
    {
      "cell_type": "code",
      "metadata": {
        "colab": {
          "base_uri": "https://localhost:8080/",
          "height": 610
        },
        "id": "6J6P5gkBAxPI",
        "outputId": "22e412e6-0294-4684-8385-ee5adf469ed1"
      },
      "source": [
        "translate(u'یک دقیقه صبر کنید لطفا')"
      ],
      "execution_count": null,
      "outputs": [
        {
          "output_type": "stream",
          "text": [
            "Input: <start> یک دقیقه صبر کنید لطفا <end>\n",
            "Predicted translation: see the way . <end> \n"
          ],
          "name": "stdout"
        },
        {
          "output_type": "display_data",
          "data": {
            "image/png": "[encoded data removed]",
            "text/plain": [
              "<Figure size 720x720 with 1 Axes>"
            ]
          },
          "metadata": {
            "tags": [],
            "needs_background": "light"
          }
        }
      ]
    },
    {
      "cell_type": "code",
      "metadata": {
        "colab": {
          "base_uri": "https://localhost:8080/",
          "height": 675
        },
        "id": "7WFQmS9hA7SD",
        "outputId": "f7cbcee2-f378-4790-e812-1aeaa087a9be"
      },
      "source": [
        "translate(u' ادامه بده')"
      ],
      "execution_count": null,
      "outputs": [
        {
          "output_type": "stream",
          "text": [
            "Input: <start> ادامه بده <end>\n",
            "Predicted translation: every rose has its thorns . <end> \n"
          ],
          "name": "stdout"
        },
        {
          "output_type": "display_data",
          "data": {
            "image/png": "[encoded data removed]",
            "text/plain": [
              "<Figure size 720x720 with 1 Axes>"
            ]
          },
          "metadata": {
            "tags": [],
            "needs_background": "light"
          }
        }
      ]
    },
    {
      "cell_type": "code",
      "metadata": {
        "colab": {
          "base_uri": "https://localhost:8080/",
          "height": 530
        },
        "id": "OkNFCknq47Gu",
        "outputId": "3567dba6-e911-4fb2-bfdc-73b02b36c453"
      },
      "source": [
        "translate(u'به من کمک کن.')"
      ],
      "execution_count": null,
      "outputs": [
        {
          "output_type": "stream",
          "text": [
            "Input: <start> به من کمک کن . <end>\n",
            "Predicted translation: help me ! <end> \n"
          ],
          "name": "stdout"
        },
        {
          "output_type": "display_data",
          "data": {
            "image/png": "[encoded data removed]",
            "text/plain": [
              "<Figure size 720x720 with 1 Axes>"
            ]
          },
          "metadata": {
            "tags": [],
            "needs_background": "light"
          }
        }
      ]
    },
    {
      "cell_type": "code",
      "metadata": {
        "colab": {
          "base_uri": "https://localhost:8080/",
          "height": 597
        },
        "id": "yqPxhbVW5Iyf",
        "outputId": "c7055a7f-3dad-4305-fbb8-2d769ef50447"
      },
      "source": [
        "translate(u'حرفت را بزن!')"
      ],
      "execution_count": null,
      "outputs": [
        {
          "output_type": "stream",
          "text": [
            "Input: <start> حرفت را بزن ! <end>\n",
            "Predicted translation: speak up ! <end> \n"
          ],
          "name": "stdout"
        },
        {
          "output_type": "display_data",
          "data": {
            "image/png": "[encoded data removed]",
            "text/plain": [
              "<Figure size 720x720 with 1 Axes>"
            ]
          },
          "metadata": {
            "tags": [],
            "needs_background": "light"
          }
        }
      ]
    },
    {
      "cell_type": "markdown",
      "metadata": {
        "id": "pWNYV2SHeBTT"
      },
      "source": [
        "# **Luong Attention**"
      ]
    },
    {
      "cell_type": "code",
      "metadata": {
        "id": "UNGGelojd_vG"
      },
      "source": [
        "#Luong-style attention uses the current decoder output to compute the alignment vector\r\n",
        "#Luong’s multiplicative attention \r\n",
        "#take the dot product of a matrix (W) and the encoder’s output. What layer can do a dot product----> Dense layer\r\n",
        "class LuongAttention(tf.keras.layers.Layer):\r\n",
        "  def __init__(self,units, max_len_inp):\r\n",
        "    super(LuongAttention,self).__init__()\r\n",
        "    self.W = tf.keras.layers.Dense(units)\r\n",
        "    self.V = tf.keras.layers.Dense(max_length_inp)\r\n",
        "  \r\n",
        "  def call(self, query, values):\r\n",
        "    query_with_time_axis = tf.expand_dims(query, 1)\r\n",
        "\r\n",
        "    score = tf.matmul(self.W(query_with_time_axis), values, transpose_b=True)   \r\n",
        "    score = tf.transpose(score, [0, 2, 1])\r\n",
        " \r\n",
        "    attention_weights = tf.nn.softmax(score,axis = 1)\r\n",
        " \r\n",
        "    context = attention_weights*values\r\n",
        "  \r\n",
        "    context = tf.reduce_sum(context, axis=1)\r\n",
        "  \r\n",
        "    return context, attention_weights"
      ],
      "execution_count": null,
      "outputs": []
    },
    {
      "cell_type": "code",
      "metadata": {
        "id": "S0eyWjjHd__t",
        "colab": {
          "base_uri": "https://localhost:8080/"
        },
        "outputId": "c7453a2c-7248-457c-88b6-76016841554d"
      },
      "source": [
        "attention_layer = LuongAttention(1024,max_length_inp)\r\n",
        "attention_result, attention_weights = attention_layer(sample_hidden, sample_output)\r\n",
        "\r\n",
        "print(\"Attention result shape: (batch size, units) {}\".format(attention_result.shape))\r\n",
        "print(\"Attention weights shape: (batch_size, sequence_length, 1) {}\".format(attention_weights.shape))"
      ],
      "execution_count": null,
      "outputs": [
        {
          "output_type": "stream",
          "text": [
            "Attention result shape: (batch size, units) (64, 1024)\n",
            "Attention weights shape: (batch_size, sequence_length, 1) (64, 33, 1)\n"
          ],
          "name": "stdout"
        }
      ]
    },
    {
      "cell_type": "code",
      "metadata": {
        "id": "2zB2zpu3eACY"
      },
      "source": [
        "class Decoder(tf.keras.Model):\r\n",
        "  def __init__(self, vocab_size, embedding_dim, dec_units, batch_sz):\r\n",
        "    super(Decoder, self).__init__()\r\n",
        "    self.batch_sz = batch_sz\r\n",
        "    self.dec_units = dec_units\r\n",
        "    self.embedding = tf.keras.layers.Embedding(vocab_size, embedding_dim)\r\n",
        "    self.gru = tf.keras.layers.GRU(self.dec_units,\r\n",
        "                                   return_sequences=True,\r\n",
        "                                   return_state=True,\r\n",
        "                                   recurrent_initializer='glorot_uniform')\r\n",
        "    \r\n",
        "    self.max_input_length = max_length_inp\r\n",
        "    self.fc = tf.keras.layers.Dense(vocab_size)\r\n",
        "\r\n",
        "    # used for attention\r\n",
        "    self.attention = LuongAttention(self.dec_units, self.max_input_length)\r\n",
        "\r\n",
        "  def call(self, x, hidden, enc_output):\r\n",
        "    # enc_output shape == (batch_size, max_length, hidden_size)\r\n",
        "    context_vector, attention_weights = self.attention(hidden, enc_output)\r\n",
        "\r\n",
        "    # x shape after passing through embedding == (batch_size, 1, embedding_dim)\r\n",
        "    x = self.embedding(x)\r\n",
        "\r\n",
        "    # x shape after concatenation == (batch_size, 1, embedding_dim + hidden_size)\r\n",
        "    x = tf.concat([tf.expand_dims(context_vector, 1), x], axis=-1)\r\n",
        "\r\n",
        "    # passing the concatenated vector to the GRU\r\n",
        "    output, state = self.gru(x)\r\n",
        "\r\n",
        "    # output shape == (batch_size * 1, hidden_size)\r\n",
        "    output = tf.reshape(output, (-1, output.shape[2]))\r\n",
        "\r\n",
        "    # output shape == (batch_size, vocab)\r\n",
        "    x = self.fc(output)\r\n",
        "\r\n",
        "    return x, state, attention_weights"
      ],
      "execution_count": null,
      "outputs": []
    },
    {
      "cell_type": "code",
      "metadata": {
        "id": "xQOQ7E-leAFD",
        "colab": {
          "base_uri": "https://localhost:8080/"
        },
        "outputId": "d84f7e4c-3b38-4c0d-b6b8-5ff3fd6315c9"
      },
      "source": [
        "decoder = Decoder(vocab_tar_size, embedding_dim, units, BATCH_SIZE)\r\n",
        "\r\n",
        "sample_decoder_output, _, _ = decoder(tf.random.uniform((BATCH_SIZE, 1)),\r\n",
        "                                      sample_hidden, sample_output)\r\n",
        "\r\n",
        "print ('Decoder output shape: (batch_size, vocab size) {}'.format(sample_decoder_output.shape))"
      ],
      "execution_count": null,
      "outputs": [
        {
          "output_type": "stream",
          "text": [
            "Decoder output shape: (batch_size, vocab size) (64, 2571)\n"
          ],
          "name": "stdout"
        }
      ]
    },
    {
      "cell_type": "code",
      "metadata": {
        "id": "tLO1fwqMeAIU"
      },
      "source": [
        "optimizer = tf.keras.optimizers.Adam()\r\n",
        "loss_object = tf.keras.losses.SparseCategoricalCrossentropy(\r\n",
        "    from_logits=True, reduction='none')\r\n",
        "\r\n",
        "def loss_function(real, pred):\r\n",
        "  mask = tf.math.logical_not(tf.math.equal(real, 0))\r\n",
        "  loss_ = loss_object(real, pred)\r\n",
        "\r\n",
        "  mask = tf.cast(mask, dtype=loss_.dtype)\r\n",
        "  loss_ *= mask\r\n",
        "\r\n",
        "  return tf.reduce_mean(loss_)"
      ],
      "execution_count": null,
      "outputs": []
    },
    {
      "cell_type": "code",
      "metadata": {
        "id": "DhXHhZ4QeAKh"
      },
      "source": [
        "checkpoint_dir = '/content/drive/My Drive/Colab Notebooks/luong'\r\n",
        "checkpoint_prefix = os.path.join(checkpoint_dir, \"ckpt\")\r\n",
        "checkpoint = tf.train.Checkpoint(optimizer=optimizer,\r\n",
        "                                 encoder=encoder,\r\n",
        "                                 decoder=decoder)"
      ],
      "execution_count": null,
      "outputs": []
    },
    {
      "cell_type": "code",
      "metadata": {
        "id": "dahtB5JHeAgZ"
      },
      "source": [
        "@tf.function\r\n",
        "def train_step(inp, targ, enc_hidden):\r\n",
        "  loss = 0\r\n",
        "\r\n",
        "  with tf.GradientTape() as tape:\r\n",
        "    enc_output, enc_hidden = encoder(inp, enc_hidden)\r\n",
        "\r\n",
        "    dec_hidden = enc_hidden\r\n",
        "\r\n",
        "    dec_input = tf.expand_dims([targ_lang.word_index['<start>']] * BATCH_SIZE, 1)\r\n",
        "\r\n",
        "    # Teacher forcing - feeding the target as the next input\r\n",
        "    for t in range(1, targ.shape[1]):\r\n",
        "      # passing enc_output to the decoder\r\n",
        "      predictions, dec_hidden, _ = decoder(dec_input, dec_hidden, enc_output)\r\n",
        "\r\n",
        "      loss += loss_function(targ[:, t], predictions)\r\n",
        "\r\n",
        "      # using teacher forcing\r\n",
        "      dec_input = tf.expand_dims(targ[:, t], 1)\r\n",
        "\r\n",
        "  batch_loss = (loss / int(targ.shape[1]))\r\n",
        "\r\n",
        "  variables = encoder.trainable_variables + decoder.trainable_variables\r\n",
        "\r\n",
        "  gradients = tape.gradient(loss, variables)\r\n",
        "\r\n",
        "  optimizer.apply_gradients(zip(gradients, variables))\r\n",
        "\r\n",
        "  return batch_loss"
      ],
      "execution_count": null,
      "outputs": []
    },
    {
      "cell_type": "code",
      "metadata": {
        "id": "jIkG4Kq-fOGf",
        "colab": {
          "base_uri": "https://localhost:8080/"
        },
        "outputId": "892171ca-fe18-4d7f-bbb5-fae2a3360759"
      },
      "source": [
        "EPOCHS=50\r\n",
        "\r\n",
        "for epoch in range(EPOCHS):\r\n",
        "  start = time.time()\r\n",
        "\r\n",
        "  enc_hidden = encoder.initialize_hidden_state()\r\n",
        "  total_loss = 0\r\n",
        "\r\n",
        "  for (batch, (inp, targ)) in enumerate(dataset.take(steps_per_epoch)):\r\n",
        "    batch_loss = train_step(inp, targ, enc_hidden)\r\n",
        "    total_loss += batch_loss\r\n",
        "\r\n",
        "    if batch % 100 == 0:\r\n",
        "      print('Epoch {} Batch {} Loss {:.4f}'.format(epoch + 1,\r\n",
        "                                                   batch,\r\n",
        "                                                   batch_loss.numpy()))\r\n",
        "  # saving (checkpoint) the model every 2 epochs\r\n",
        "  if (epoch + 1) % 2 == 0:\r\n",
        "    checkpoint.save(file_prefix = checkpoint_prefix)\r\n",
        "\r\n",
        "  print('Epoch {} Loss {:.4f}'.format(epoch + 1,\r\n",
        "                                      total_loss / steps_per_epoch))\r\n",
        "  print('Time taken for 1 epoch {} sec\\n'.format(time.time() - start))"
      ],
      "execution_count": null,
      "outputs": [
        {
          "output_type": "stream",
          "text": [
            "Epoch 1 Batch 0 Loss 1.9200\n",
            "Epoch 1 Loss 1.4629\n",
            "Time taken for 1 epoch 247.33612489700317 sec\n",
            "\n",
            "Epoch 2 Batch 0 Loss 1.3057\n",
            "Epoch 2 Loss 1.2517\n",
            "Time taken for 1 epoch 203.74336314201355 sec\n",
            "\n",
            "Epoch 3 Batch 0 Loss 1.1780\n",
            "Epoch 3 Loss 1.1675\n",
            "Time taken for 1 epoch 200.39355373382568 sec\n",
            "\n",
            "Epoch 4 Batch 0 Loss 1.1646\n",
            "Epoch 4 Loss 1.0982\n",
            "Time taken for 1 epoch 199.7145800590515 sec\n",
            "\n",
            "Epoch 5 Batch 0 Loss 1.1294\n",
            "Epoch 5 Loss 1.0394\n",
            "Time taken for 1 epoch 200.97117924690247 sec\n",
            "\n",
            "Epoch 6 Batch 0 Loss 0.9599\n",
            "Epoch 6 Loss 0.9915\n",
            "Time taken for 1 epoch 202.97289848327637 sec\n",
            "\n",
            "Epoch 7 Batch 0 Loss 0.9594\n",
            "Epoch 7 Loss 0.9499\n",
            "Time taken for 1 epoch 204.8530809879303 sec\n",
            "\n",
            "Epoch 8 Batch 0 Loss 0.8769\n",
            "Epoch 8 Loss 0.9098\n",
            "Time taken for 1 epoch 200.7117154598236 sec\n",
            "\n",
            "Epoch 9 Batch 0 Loss 0.8777\n",
            "Epoch 9 Loss 0.8751\n",
            "Time taken for 1 epoch 196.81235527992249 sec\n",
            "\n",
            "Epoch 10 Batch 0 Loss 0.7646\n",
            "Epoch 10 Loss 0.8413\n",
            "Time taken for 1 epoch 197.1666603088379 sec\n",
            "\n",
            "Epoch 11 Batch 0 Loss 0.7635\n",
            "Epoch 11 Loss 0.8048\n",
            "Time taken for 1 epoch 194.93712210655212 sec\n",
            "\n",
            "Epoch 12 Batch 0 Loss 0.6756\n",
            "Epoch 12 Loss 0.7725\n",
            "Time taken for 1 epoch 194.5741093158722 sec\n",
            "\n",
            "Epoch 13 Batch 0 Loss 0.7170\n",
            "Epoch 13 Loss 0.7336\n",
            "Time taken for 1 epoch 197.2170855998993 sec\n",
            "\n",
            "Epoch 14 Batch 0 Loss 0.6298\n",
            "Epoch 14 Loss 0.6981\n",
            "Time taken for 1 epoch 198.76493883132935 sec\n",
            "\n",
            "Epoch 15 Batch 0 Loss 0.6291\n",
            "Epoch 15 Loss 0.6668\n",
            "Time taken for 1 epoch 196.49991059303284 sec\n",
            "\n",
            "Epoch 16 Batch 0 Loss 0.5342\n",
            "Epoch 16 Loss 0.6277\n",
            "Time taken for 1 epoch 194.17993998527527 sec\n",
            "\n",
            "Epoch 17 Batch 0 Loss 0.6021\n",
            "Epoch 17 Loss 0.5921\n",
            "Time taken for 1 epoch 194.04485845565796 sec\n",
            "\n",
            "Epoch 18 Batch 0 Loss 0.5127\n",
            "Epoch 18 Loss 0.5576\n",
            "Time taken for 1 epoch 198.22544884681702 sec\n",
            "\n",
            "Epoch 19 Batch 0 Loss 0.4596\n",
            "Epoch 19 Loss 0.5262\n",
            "Time taken for 1 epoch 198.53937220573425 sec\n",
            "\n",
            "Epoch 20 Batch 0 Loss 0.4758\n",
            "Epoch 20 Loss 0.4914\n",
            "Time taken for 1 epoch 197.51333689689636 sec\n",
            "\n",
            "Epoch 21 Batch 0 Loss 0.4548\n",
            "Epoch 21 Loss 0.4635\n",
            "Time taken for 1 epoch 194.81697249412537 sec\n",
            "\n",
            "Epoch 22 Batch 0 Loss 0.4595\n",
            "Epoch 22 Loss 0.4333\n",
            "Time taken for 1 epoch 196.28890228271484 sec\n",
            "\n",
            "Epoch 23 Batch 0 Loss 0.3448\n",
            "Epoch 23 Loss 0.4164\n",
            "Time taken for 1 epoch 197.58541417121887 sec\n",
            "\n",
            "Epoch 24 Batch 0 Loss 0.3356\n",
            "Epoch 24 Loss 0.3659\n",
            "Time taken for 1 epoch 194.51823592185974 sec\n",
            "\n",
            "Epoch 25 Batch 0 Loss 0.3046\n",
            "Epoch 25 Loss 0.3365\n",
            "Time taken for 1 epoch 194.01966190338135 sec\n",
            "\n",
            "Epoch 26 Batch 0 Loss 0.3368\n",
            "Epoch 26 Loss 0.3520\n",
            "Time taken for 1 epoch 193.9162700176239 sec\n",
            "\n",
            "Epoch 27 Batch 0 Loss 0.2976\n",
            "Epoch 27 Loss 0.3198\n",
            "Time taken for 1 epoch 194.15488195419312 sec\n",
            "\n",
            "Epoch 28 Batch 0 Loss 0.2453\n",
            "Epoch 28 Loss 0.2877\n",
            "Time taken for 1 epoch 193.68535733222961 sec\n",
            "\n",
            "Epoch 29 Batch 0 Loss 0.2337\n",
            "Epoch 29 Loss 0.2524\n",
            "Time taken for 1 epoch 194.3079891204834 sec\n",
            "\n",
            "Epoch 30 Batch 0 Loss 0.2045\n",
            "Epoch 30 Loss 0.2225\n",
            "Time taken for 1 epoch 193.91013550758362 sec\n",
            "\n",
            "Epoch 31 Batch 0 Loss 0.1633\n",
            "Epoch 31 Loss 0.1927\n",
            "Time taken for 1 epoch 195.07537722587585 sec\n",
            "\n",
            "Epoch 32 Batch 0 Loss 0.1476\n",
            "Epoch 32 Loss 0.1699\n",
            "Time taken for 1 epoch 195.06005096435547 sec\n",
            "\n",
            "Epoch 33 Batch 0 Loss 0.1645\n",
            "Epoch 33 Loss 0.1545\n",
            "Time taken for 1 epoch 195.30902481079102 sec\n",
            "\n",
            "Epoch 34 Batch 0 Loss 0.1329\n",
            "Epoch 34 Loss 0.1395\n",
            "Time taken for 1 epoch 198.33377361297607 sec\n",
            "\n",
            "Epoch 35 Batch 0 Loss 0.1121\n",
            "Epoch 35 Loss 0.1209\n",
            "Time taken for 1 epoch 200.5672607421875 sec\n",
            "\n",
            "Epoch 36 Batch 0 Loss 0.1145\n",
            "Epoch 36 Loss 0.1264\n",
            "Time taken for 1 epoch 206.3175027370453 sec\n",
            "\n",
            "Epoch 37 Batch 0 Loss 0.0809\n",
            "Epoch 37 Loss 0.1100\n",
            "Time taken for 1 epoch 200.32505702972412 sec\n",
            "\n",
            "Epoch 38 Batch 0 Loss 0.0908\n",
            "Epoch 38 Loss 0.1011\n",
            "Time taken for 1 epoch 198.86999464035034 sec\n",
            "\n",
            "Epoch 39 Batch 0 Loss 0.0672\n",
            "Epoch 39 Loss 0.0875\n",
            "Time taken for 1 epoch 198.09203958511353 sec\n",
            "\n",
            "Epoch 40 Batch 0 Loss 0.0790\n",
            "Epoch 40 Loss 0.0694\n",
            "Time taken for 1 epoch 200.44148468971252 sec\n",
            "\n",
            "Epoch 41 Batch 0 Loss 0.0594\n",
            "Epoch 41 Loss 0.0556\n",
            "Time taken for 1 epoch 198.62932753562927 sec\n",
            "\n",
            "Epoch 42 Batch 0 Loss 0.0356\n",
            "Epoch 42 Loss 0.0478\n",
            "Time taken for 1 epoch 199.06258511543274 sec\n",
            "\n",
            "Epoch 43 Batch 0 Loss 0.0348\n",
            "Epoch 43 Loss 0.0386\n",
            "Time taken for 1 epoch 198.09112000465393 sec\n",
            "\n",
            "Epoch 44 Batch 0 Loss 0.0279\n",
            "Epoch 44 Loss 0.0356\n",
            "Time taken for 1 epoch 198.22183561325073 sec\n",
            "\n",
            "Epoch 45 Batch 0 Loss 0.0295\n",
            "Epoch 45 Loss 0.0375\n",
            "Time taken for 1 epoch 198.02698469161987 sec\n",
            "\n",
            "Epoch 46 Batch 0 Loss 0.0187\n",
            "Epoch 46 Loss 0.0379\n",
            "Time taken for 1 epoch 196.87581849098206 sec\n",
            "\n",
            "Epoch 47 Batch 0 Loss 0.0297\n",
            "Epoch 47 Loss 0.0443\n",
            "Time taken for 1 epoch 200.12710690498352 sec\n",
            "\n",
            "Epoch 48 Batch 0 Loss 0.0511\n",
            "Epoch 48 Loss 0.0505\n",
            "Time taken for 1 epoch 202.21987509727478 sec\n",
            "\n",
            "Epoch 49 Batch 0 Loss 0.0294\n",
            "Epoch 49 Loss 0.0612\n",
            "Time taken for 1 epoch 200.7630865573883 sec\n",
            "\n",
            "Epoch 50 Batch 0 Loss 0.1388\n",
            "Epoch 50 Loss 0.1151\n",
            "Time taken for 1 epoch 199.07431316375732 sec\n",
            "\n"
          ],
          "name": "stdout"
        }
      ]
    },
    {
      "cell_type": "code",
      "metadata": {
        "id": "GJ3wDOGKfOJ7"
      },
      "source": [
        "def evaluate(sentence):\r\n",
        "  attention_plot = np.zeros((max_length_targ, max_length_inp))\r\n",
        "\r\n",
        "  sentence = preprocess_sentence(sentence)\r\n",
        "\r\n",
        "  inputs = [inp_lang.word_index[i] for i in sentence.split(' ')]\r\n",
        "  inputs = tf.keras.preprocessing.sequence.pad_sequences([inputs],\r\n",
        "                                                         maxlen=max_length_inp,\r\n",
        "                                                         padding='post')\r\n",
        "  inputs = tf.convert_to_tensor(inputs)\r\n",
        "\r\n",
        "  result = ''\r\n",
        "\r\n",
        "  hidden = [tf.zeros((1, units))]\r\n",
        "  enc_out, enc_hidden = encoder(inputs, hidden)\r\n",
        "\r\n",
        "  dec_hidden = enc_hidden\r\n",
        "  dec_input = tf.expand_dims([targ_lang.word_index['<start>']], 0)\r\n",
        "\r\n",
        "  for t in range(max_length_targ):\r\n",
        "    predictions, dec_hidden, attention_weights = decoder(dec_input,\r\n",
        "                                                         dec_hidden,\r\n",
        "                                                         enc_out)\r\n",
        "\r\n",
        "    # storing the attention weights to plot later on\r\n",
        "    attention_weights = tf.reshape(attention_weights, (-1, ))\r\n",
        "    attention_plot[t] = attention_weights.numpy()\r\n",
        "\r\n",
        "    predicted_id = tf.argmax(predictions[0]).numpy()\r\n",
        "\r\n",
        "    result += targ_lang.index_word[predicted_id] + ' '\r\n",
        "\r\n",
        "    if targ_lang.index_word[predicted_id] == '<end>':\r\n",
        "      return result, sentence, attention_plot\r\n",
        "\r\n",
        "    # the predicted ID is fed back into the model\r\n",
        "    dec_input = tf.expand_dims([predicted_id], 0)\r\n",
        "\r\n",
        "  return result, sentence, attention_plot"
      ],
      "execution_count": null,
      "outputs": []
    },
    {
      "cell_type": "code",
      "metadata": {
        "id": "3KlEQMNufYp5"
      },
      "source": [
        "# function for plotting the attention weights\r\n",
        "def plot_attention(attention, sentence, predicted_sentence):\r\n",
        "  fig = plt.figure(figsize=(10,10))\r\n",
        "  ax = fig.add_subplot(1, 1, 1)\r\n",
        "  ax.matshow(attention, cmap='viridis',clim=[0,1])\r\n",
        "\r\n",
        "  fontdict = {'fontsize': 14}\r\n",
        "\r\n",
        "  ax.set_xticklabels([''] + sentence, fontdict=fontdict, rotation=90)\r\n",
        "  ax.set_yticklabels([''] + predicted_sentence, fontdict=fontdict)\r\n",
        "\r\n",
        "  ax.xaxis.set_major_locator(ticker.MultipleLocator(1))\r\n",
        "  ax.yaxis.set_major_locator(ticker.MultipleLocator(1))\r\n",
        "\r\n",
        "  plt.show()"
      ],
      "execution_count": null,
      "outputs": []
    },
    {
      "cell_type": "code",
      "metadata": {
        "id": "B8Jv6H04fYsr"
      },
      "source": [
        "def translate(sentence):\r\n",
        "  result, sentence, attention_plot = evaluate(sentence)\r\n",
        "\r\n",
        "  print('Input: %s' % (sentence))\r\n",
        "  print('Predicted translation: {}'.format(result))\r\n",
        "\r\n",
        "  attention_plot = attention_plot[:len(result.split(' ')), :len(sentence.split(' '))]\r\n",
        "  plot_attention(attention_plot, sentence.split(' '), result.split(' '))"
      ],
      "execution_count": null,
      "outputs": []
    },
    {
      "cell_type": "code",
      "metadata": {
        "id": "-aYQVdm2fYvC",
        "colab": {
          "base_uri": "https://localhost:8080/"
        },
        "outputId": "bb2dbd14-1a85-49aa-a440-6856f59bc697"
      },
      "source": [
        "# restoring the latest checkpoint in checkpoint_dir\r\n",
        "checkpoint.restore(tf.train.latest_checkpoint(checkpoint_dir))"
      ],
      "execution_count": null,
      "outputs": [
        {
          "output_type": "execute_result",
          "data": {
            "text/plain": [
              "<tensorflow.python.training.tracking.util.CheckpointLoadStatus at 0x7f172b6e6438>"
            ]
          },
          "metadata": {
            "tags": []
          },
          "execution_count": 34
        }
      ]
    },
    {
      "cell_type": "code",
      "metadata": {
        "id": "RFIX6P76fY3K",
        "colab": {
          "base_uri": "https://localhost:8080/"
        },
        "outputId": "fc6a1f17-1ee6-48d2-b537-2d12f9e0b058"
      },
      "source": [
        "translate(u'من اینجا تنها هستم')"
      ],
      "execution_count": null,
      "outputs": [
        {
          "output_type": "stream",
          "text": [
            "Input: <start> من اینجا تنها هستم <end>\n",
            "Predicted translation: who's that talking to your favorite dessert ? <end> \n"
          ],
          "name": "stdout"
        },
        {
          "output_type": "display_data",
          "data": {
            "image/png": "[encoded data removed]",
            "text/plain": [
              "<Figure size 720x720 with 1 Axes>"
            ]
          },
          "metadata": {
            "tags": [],
            "needs_background": "light"
          }
        }
      ]
    },
    {
      "cell_type": "code",
      "metadata": {
        "id": "nRd4Fu1bf3zK",
        "colab": {
          "base_uri": "https://localhost:8080/"
        },
        "outputId": "909caafb-cea1-43d6-ec1b-59f0efa47da5"
      },
      "source": [
        "translate(u' هوا خیلی تاریک بود.')"
      ],
      "execution_count": null,
      "outputs": [
        {
          "output_type": "stream",
          "text": [
            "Input: <start> هوا خیلی تاریک بود . <end>\n",
            "Predicted translation: the doctors examined the baby . <end> \n"
          ],
          "name": "stdout"
        },
        {
          "output_type": "display_data",
          "data": {
            "image/png": "[encoded data removed]",
            "text/plain": [
              "<Figure size 720x720 with 1 Axes>"
            ]
          },
          "metadata": {
            "tags": [],
            "needs_background": "light"
          }
        }
      ]
    },
    {
      "cell_type": "code",
      "metadata": {
        "id": "4vfuD7_DfzkW",
        "colab": {
          "base_uri": "https://localhost:8080/"
        },
        "outputId": "26861bee-839c-4f30-9bb3-8fe57127dc24"
      },
      "source": [
        "translate(u'او به من گفت تا پنج دقیقه دیگر می رسد ')"
      ],
      "execution_count": null,
      "outputs": [
        {
          "output_type": "stream",
          "text": [
            "Input: <start> او به من گفت تا پنج دقیقه دیگر می رسد <end>\n",
            "Predicted translation: insure it will come again . <end> \n"
          ],
          "name": "stdout"
        },
        {
          "output_type": "display_data",
          "data": {
            "image/png": "[encoded data removed]",
            "text/plain": [
              "<Figure size 720x720 with 1 Axes>"
            ]
          },
          "metadata": {
            "tags": [],
            "needs_background": "light"
          }
        }
      ]
    },
    {
      "cell_type": "code",
      "metadata": {
        "id": "yQm3T_sGfnYS",
        "colab": {
          "base_uri": "https://localhost:8080/"
        },
        "outputId": "17093859-0e4f-4af6-9ebd-5df898c05fef"
      },
      "source": [
        "translate(u'یک دقیقه صبر کنید لطفا')"
      ],
      "execution_count": null,
      "outputs": [
        {
          "output_type": "stream",
          "text": [
            "Input: <start> یک دقیقه صبر کنید لطفا <end>\n",
            "Predicted translation: what are you doing . <end> \n"
          ],
          "name": "stdout"
        },
        {
          "output_type": "display_data",
          "data": {
            "image/png": "[encoded data removed]",
            "text/plain": [
              "<Figure size 720x720 with 1 Axes>"
            ]
          },
          "metadata": {
            "tags": [],
            "needs_background": "light"
          }
        }
      ]
    },
    {
      "cell_type": "code",
      "metadata": {
        "id": "194WwXoxfncu",
        "colab": {
          "base_uri": "https://localhost:8080/"
        },
        "outputId": "b4476d99-4c42-4dcf-cc20-d0ab455c511c"
      },
      "source": [
        "translate(u' ادامه بده')"
      ],
      "execution_count": null,
      "outputs": [
        {
          "output_type": "stream",
          "text": [
            "Input: <start> ادامه بده <end>\n",
            "Predicted translation: ignorance and heat . <end> \n"
          ],
          "name": "stdout"
        },
        {
          "output_type": "display_data",
          "data": {
            "image/png": "[encoded data removed]",
            "text/plain": [
              "<Figure size 720x720 with 1 Axes>"
            ]
          },
          "metadata": {
            "tags": [],
            "needs_background": "light"
          }
        }
      ]
    },
    {
      "cell_type": "code",
      "metadata": {
        "id": "GWxEDfgQfne1",
        "colab": {
          "base_uri": "https://localhost:8080/"
        },
        "outputId": "9de5bdd7-9ba6-4b96-e245-e9725e1fb883"
      },
      "source": [
        "translate(u'به من کمک کن.')"
      ],
      "execution_count": null,
      "outputs": [
        {
          "output_type": "stream",
          "text": [
            "Input: <start> به من کمک کن . <end>\n",
            "Predicted translation: help me ! <end> \n"
          ],
          "name": "stdout"
        },
        {
          "output_type": "display_data",
          "data": {
            "image/png": "[encoded data removed]",
            "text/plain": [
              "<Figure size 720x720 with 1 Axes>"
            ]
          },
          "metadata": {
            "tags": [],
            "needs_background": "light"
          }
        }
      ]
    },
    {
      "cell_type": "code",
      "metadata": {
        "id": "FmeWMkj4fnhQ",
        "colab": {
          "base_uri": "https://localhost:8080/"
        },
        "outputId": "a6da33ef-c8f4-4ffb-d4b0-66859f821688"
      },
      "source": [
        "translate(u'حرفت را بزن!')"
      ],
      "execution_count": null,
      "outputs": [
        {
          "output_type": "stream",
          "text": [
            "Input: <start> حرفت را بزن ! <end>\n",
            "Predicted translation: speak up ! <end> \n"
          ],
          "name": "stdout"
        },
        {
          "output_type": "display_data",
          "data": {
            "image/png": "[encoded data removed]",
            "text/plain": [
              "<Figure size 720x720 with 1 Axes>"
            ]
          },
          "metadata": {
            "tags": [],
            "needs_background": "light"
          }
        }
      ]
    },
    {
      "cell_type": "markdown",
      "metadata": {
        "id": "g6GFVzOcIH2Y"
      },
      "source": [
        "# **DotProduct**"
      ]
    },
    {
      "cell_type": "code",
      "metadata": {
        "id": "La7SIazSHHve"
      },
      "source": [
        "class DotProduct(tf.keras.layers.Layer):\r\n",
        "  def __init__(self,units):\r\n",
        "    super(DotProduct,self).__init__()\r\n",
        "  \r\n",
        "  def call(self, query, values):\r\n",
        "\r\n",
        "    query_with_time_axis = tf.expand_dims(query, 1)\r\n",
        "    \r\n",
        "    score  = tf.expand_dims((tf.reduce_sum( tf.multiply(values,query_with_time_axis), 2)),2)\r\n",
        "\r\n",
        "    attention_weights  = tf.nn.softmax(score,axis = 1)\r\n",
        "    \r\n",
        "    context_vector  = attention_weights*values\r\n",
        "    context_vector  = tf.reduce_sum(context_vector , axis=1)\r\n",
        "    \r\n",
        "    return context_vector, attention_weights"
      ],
      "execution_count": 109,
      "outputs": []
    },
    {
      "cell_type": "code",
      "metadata": {
        "colab": {
          "base_uri": "https://localhost:8080/"
        },
        "id": "81d4_clfHR-U",
        "outputId": "c2e8d322-6a5f-4fa1-c148-777474ce4817"
      },
      "source": [
        "attention_layer = DotProduct(10)\r\n",
        "attention_result, attention_weights = attention_layer(sample_hidden, sample_output)\r\n",
        "\r\n",
        "print(\"Attention result shape: (batch size, units) {}\".format(attention_result.shape))\r\n",
        "print(\"Attention weights shape: (batch_size, sequence_length, 1) {}\".format(attention_weights.shape))"
      ],
      "execution_count": 110,
      "outputs": [
        {
          "output_type": "stream",
          "text": [
            "Attention result shape: (batch size, units) (64, 1024)\n",
            "Attention weights shape: (batch_size, sequence_length, 1) (64, 33, 1)\n"
          ],
          "name": "stdout"
        }
      ]
    },
    {
      "cell_type": "code",
      "metadata": {
        "id": "KzYPfFxtHSA8"
      },
      "source": [
        "\r\n",
        "class Decoder(tf.keras.Model):\r\n",
        "  def __init__(self, vocab_size, embedding_dim, dec_units, batch_sz):\r\n",
        "    super(Decoder, self).__init__()\r\n",
        "    self.batch_sz = batch_sz\r\n",
        "    self.dec_units = dec_units\r\n",
        "    self.embedding = tf.keras.layers.Embedding(vocab_size, embedding_dim)\r\n",
        "    self.gru = tf.keras.layers.GRU(self.dec_units,\r\n",
        "                                   return_sequences=True,\r\n",
        "                                   return_state=True,\r\n",
        "                                   recurrent_initializer='glorot_uniform')\r\n",
        "    self.fc = tf.keras.layers.Dense(vocab_size)\r\n",
        "\r\n",
        "    # used for attention\r\n",
        "    self.attention = DotProduct(self.dec_units)\r\n",
        "\r\n",
        "  def call(self, x, hidden, enc_output):\r\n",
        "    # enc_output shape == (batch_size, max_length, hidden_size)\r\n",
        "    context_vector, attention_weights = self.attention(hidden, enc_output)\r\n",
        "\r\n",
        "    # x shape after passing through embedding == (batch_size, 1, embedding_dim)\r\n",
        "    x = self.embedding(x)\r\n",
        "\r\n",
        "    # x shape after concatenation == (batch_size, 1, embedding_dim + hidden_size)\r\n",
        "    x = tf.concat([tf.expand_dims(context_vector, 1), x], axis=-1)\r\n",
        "\r\n",
        "    # passing the concatenated vector to the GRU\r\n",
        "    output, state = self.gru(x)\r\n",
        "\r\n",
        "    # output shape == (batch_size * 1, hidden_size)\r\n",
        "    output = tf.reshape(output, (-1, output.shape[2]))\r\n",
        "\r\n",
        "    # output shape == (batch_size, vocab)\r\n",
        "    x = self.fc(output)\r\n",
        "\r\n",
        "    return x, state, attention_weights"
      ],
      "execution_count": 111,
      "outputs": []
    },
    {
      "cell_type": "code",
      "metadata": {
        "colab": {
          "base_uri": "https://localhost:8080/"
        },
        "id": "R7ZkCJYJHSD4",
        "outputId": "ec5c6daa-d2da-45fd-e4c3-bb04bf6b2191"
      },
      "source": [
        "decoder = Decoder(vocab_tar_size, embedding_dim, units, BATCH_SIZE)\r\n",
        "\r\n",
        "sample_decoder_output, _, _ = decoder(tf.random.uniform((BATCH_SIZE, 1)),\r\n",
        "                                      sample_hidden, sample_output)\r\n",
        "\r\n",
        "print ('Decoder output shape: (batch_size, vocab size) {}'.format(sample_decoder_output.shape))"
      ],
      "execution_count": 113,
      "outputs": [
        {
          "output_type": "stream",
          "text": [
            "Decoder output shape: (batch_size, vocab size) (64, 2571)\n"
          ],
          "name": "stdout"
        }
      ]
    },
    {
      "cell_type": "code",
      "metadata": {
        "id": "DHeV4t9_HSGC"
      },
      "source": [
        "optimizer = tf.keras.optimizers.Adam()\r\n",
        "loss_object = tf.keras.losses.SparseCategoricalCrossentropy(\r\n",
        "    from_logits=True, reduction='none')\r\n",
        "\r\n",
        "def loss_function(real, pred):\r\n",
        "  mask = tf.math.logical_not(tf.math.equal(real, 0))\r\n",
        "  loss_ = loss_object(real, pred)\r\n",
        "\r\n",
        "  mask = tf.cast(mask, dtype=loss_.dtype)\r\n",
        "  loss_ *= mask\r\n",
        "\r\n",
        "  return tf.reduce_mean(loss_)"
      ],
      "execution_count": 114,
      "outputs": []
    },
    {
      "cell_type": "code",
      "metadata": {
        "id": "vOt-geucHSIJ"
      },
      "source": [
        "checkpoint_dir = '/content/drive/My Drive/Colab Notebooks/dotproduct'\r\n",
        "checkpoint_prefix = os.path.join(checkpoint_dir, \"ckpt\")\r\n",
        "checkpoint = tf.train.Checkpoint(optimizer=optimizer,\r\n",
        "                                 encoder=encoder,\r\n",
        "                                 decoder=decoder)"
      ],
      "execution_count": 115,
      "outputs": []
    },
    {
      "cell_type": "code",
      "metadata": {
        "id": "vDXChS7KHZjN"
      },
      "source": [
        "@tf.function\r\n",
        "def train_step(inp, targ, enc_hidden):\r\n",
        "  loss = 0\r\n",
        "\r\n",
        "  with tf.GradientTape() as tape:\r\n",
        "    enc_output, enc_hidden = encoder(inp, enc_hidden)\r\n",
        "\r\n",
        "    dec_hidden = enc_hidden\r\n",
        "\r\n",
        "    dec_input = tf.expand_dims([targ_lang.word_index['<start>']] * BATCH_SIZE, 1)\r\n",
        "\r\n",
        "    # Teacher forcing - feeding the target as the next input\r\n",
        "    for t in range(1, targ.shape[1]):\r\n",
        "      # passing enc_output to the decoder\r\n",
        "      predictions, dec_hidden, _ = decoder(dec_input, dec_hidden, enc_output)\r\n",
        "\r\n",
        "      loss += loss_function(targ[:, t], predictions)\r\n",
        "\r\n",
        "      # using teacher forcing\r\n",
        "      dec_input = tf.expand_dims(targ[:, t], 1)\r\n",
        "\r\n",
        "  batch_loss = (loss / int(targ.shape[1]))\r\n",
        "\r\n",
        "  variables = encoder.trainable_variables + decoder.trainable_variables\r\n",
        "\r\n",
        "  gradients = tape.gradient(loss, variables)\r\n",
        "\r\n",
        "  optimizer.apply_gradients(zip(gradients, variables))\r\n",
        "\r\n",
        "  return batch_loss"
      ],
      "execution_count": 117,
      "outputs": []
    },
    {
      "cell_type": "code",
      "metadata": {
        "colab": {
          "base_uri": "https://localhost:8080/"
        },
        "id": "canr03gDHZlV",
        "outputId": "1bebc5d8-69e3-4004-e109-e30645e5f34a"
      },
      "source": [
        "EPOCHS = 50\r\n",
        "\r\n",
        "for epoch in range(EPOCHS):\r\n",
        "  start = time.time()\r\n",
        "\r\n",
        "  enc_hidden = encoder.initialize_hidden_state()\r\n",
        "  total_loss = 0\r\n",
        "\r\n",
        "  for (batch, (inp, targ)) in enumerate(dataset.take(steps_per_epoch)):\r\n",
        "    batch_loss = train_step(inp, targ, enc_hidden)\r\n",
        "    total_loss += batch_loss\r\n",
        "\r\n",
        "    if batch % 100 == 0:\r\n",
        "      print('Epoch {} Batch {} Loss {:.4f}'.format(epoch + 1,\r\n",
        "                                                   batch,\r\n",
        "                                                   batch_loss.numpy()))\r\n",
        "  # saving (checkpoint) the model every 2 epochs\r\n",
        "  if (epoch + 1) % 2 == 0:\r\n",
        "    checkpoint.save(file_prefix = checkpoint_prefix)\r\n",
        "\r\n",
        "  print('Epoch {} Loss {:.4f}'.format(epoch + 1,\r\n",
        "                                      total_loss / steps_per_epoch))\r\n",
        "  print('Time taken for 1 epoch {} sec\\n'.format(time.time() - start))"
      ],
      "execution_count": 118,
      "outputs": [
        {
          "output_type": "stream",
          "text": [
            "Epoch 1 Batch 0 Loss 1.9201\n",
            "Epoch 1 Loss 1.4248\n",
            "Time taken for 1 epoch 246.7114613056183 sec\n",
            "\n",
            "Epoch 2 Batch 0 Loss 1.1556\n",
            "Epoch 2 Loss 1.2136\n",
            "Time taken for 1 epoch 199.30653619766235 sec\n",
            "\n",
            "Epoch 3 Batch 0 Loss 1.1793\n",
            "Epoch 3 Loss 1.1386\n",
            "Time taken for 1 epoch 204.5761365890503 sec\n",
            "\n",
            "Epoch 4 Batch 0 Loss 0.9693\n",
            "Epoch 4 Loss 1.0786\n",
            "Time taken for 1 epoch 199.75120639801025 sec\n",
            "\n",
            "Epoch 5 Batch 0 Loss 1.0685\n",
            "Epoch 5 Loss 1.0266\n",
            "Time taken for 1 epoch 205.79393815994263 sec\n",
            "\n",
            "Epoch 6 Batch 0 Loss 1.0777\n",
            "Epoch 6 Loss 0.9788\n",
            "Time taken for 1 epoch 202.67754483222961 sec\n",
            "\n",
            "Epoch 7 Batch 0 Loss 0.9433\n",
            "Epoch 7 Loss 0.9288\n",
            "Time taken for 1 epoch 199.92518424987793 sec\n",
            "\n",
            "Epoch 8 Batch 0 Loss 0.8776\n",
            "Epoch 8 Loss 0.8799\n",
            "Time taken for 1 epoch 199.5582399368286 sec\n",
            "\n",
            "Epoch 9 Batch 0 Loss 0.7522\n",
            "Epoch 9 Loss 0.8308\n",
            "Time taken for 1 epoch 201.0636076927185 sec\n",
            "\n",
            "Epoch 10 Batch 0 Loss 0.8510\n",
            "Epoch 10 Loss 0.7893\n",
            "Time taken for 1 epoch 200.63314056396484 sec\n",
            "\n",
            "Epoch 11 Batch 0 Loss 0.7813\n",
            "Epoch 11 Loss 0.7449\n",
            "Time taken for 1 epoch 200.26738953590393 sec\n",
            "\n",
            "Epoch 12 Batch 0 Loss 0.6767\n",
            "Epoch 12 Loss 0.7080\n",
            "Time taken for 1 epoch 201.05163145065308 sec\n",
            "\n",
            "Epoch 13 Batch 0 Loss 0.6149\n",
            "Epoch 13 Loss 0.6701\n",
            "Time taken for 1 epoch 199.5943992137909 sec\n",
            "\n",
            "Epoch 14 Batch 0 Loss 0.6034\n",
            "Epoch 14 Loss 0.6294\n",
            "Time taken for 1 epoch 199.41023445129395 sec\n",
            "\n",
            "Epoch 15 Batch 0 Loss 0.5222\n",
            "Epoch 15 Loss 0.5809\n",
            "Time taken for 1 epoch 201.34637594223022 sec\n",
            "\n",
            "Epoch 16 Batch 0 Loss 0.4837\n",
            "Epoch 16 Loss 0.5401\n",
            "Time taken for 1 epoch 201.7656762599945 sec\n",
            "\n",
            "Epoch 17 Batch 0 Loss 0.4680\n",
            "Epoch 17 Loss 0.5047\n",
            "Time taken for 1 epoch 199.93505454063416 sec\n",
            "\n",
            "Epoch 18 Batch 0 Loss 0.4317\n",
            "Epoch 18 Loss 0.4678\n",
            "Time taken for 1 epoch 200.73383045196533 sec\n",
            "\n",
            "Epoch 19 Batch 0 Loss 0.3469\n",
            "Epoch 19 Loss 0.4221\n",
            "Time taken for 1 epoch 198.96836495399475 sec\n",
            "\n",
            "Epoch 20 Batch 0 Loss 0.3727\n",
            "Epoch 20 Loss 0.3829\n",
            "Time taken for 1 epoch 199.5942986011505 sec\n",
            "\n",
            "Epoch 21 Batch 0 Loss 0.3124\n",
            "Epoch 21 Loss 0.3520\n",
            "Time taken for 1 epoch 199.55786442756653 sec\n",
            "\n",
            "Epoch 22 Batch 0 Loss 0.3223\n",
            "Epoch 22 Loss 0.3197\n",
            "Time taken for 1 epoch 198.79368209838867 sec\n",
            "\n",
            "Epoch 23 Batch 0 Loss 0.2353\n",
            "Epoch 23 Loss 0.2800\n",
            "Time taken for 1 epoch 200.89956998825073 sec\n",
            "\n",
            "Epoch 24 Batch 0 Loss 0.1970\n",
            "Epoch 24 Loss 0.2517\n",
            "Time taken for 1 epoch 202.46001029014587 sec\n",
            "\n",
            "Epoch 25 Batch 0 Loss 0.1844\n",
            "Epoch 25 Loss 0.2267\n",
            "Time taken for 1 epoch 201.80238699913025 sec\n",
            "\n",
            "Epoch 26 Batch 0 Loss 0.2336\n",
            "Epoch 26 Loss 0.2002\n",
            "Time taken for 1 epoch 202.59906601905823 sec\n",
            "\n",
            "Epoch 27 Batch 0 Loss 0.1730\n",
            "Epoch 27 Loss 0.1725\n",
            "Time taken for 1 epoch 200.73254680633545 sec\n",
            "\n",
            "Epoch 28 Batch 0 Loss 0.1609\n",
            "Epoch 28 Loss 0.1514\n",
            "Time taken for 1 epoch 200.43920803070068 sec\n",
            "\n",
            "Epoch 29 Batch 0 Loss 0.1105\n",
            "Epoch 29 Loss 0.1474\n",
            "Time taken for 1 epoch 201.6155388355255 sec\n",
            "\n",
            "Epoch 30 Batch 0 Loss 0.1077\n",
            "Epoch 30 Loss 0.1309\n",
            "Time taken for 1 epoch 200.43857073783875 sec\n",
            "\n",
            "Epoch 31 Batch 0 Loss 0.1247\n",
            "Epoch 31 Loss 0.1068\n",
            "Time taken for 1 epoch 200.7956931591034 sec\n",
            "\n",
            "Epoch 32 Batch 0 Loss 0.1031\n",
            "Epoch 32 Loss 0.1017\n",
            "Time taken for 1 epoch 201.41718745231628 sec\n",
            "\n",
            "Epoch 33 Batch 0 Loss 0.0698\n",
            "Epoch 33 Loss 0.0791\n",
            "Time taken for 1 epoch 199.6804678440094 sec\n",
            "\n",
            "Epoch 34 Batch 0 Loss 0.0603\n",
            "Epoch 34 Loss 0.0597\n",
            "Time taken for 1 epoch 202.12922382354736 sec\n",
            "\n",
            "Epoch 35 Batch 0 Loss 0.0436\n",
            "Epoch 35 Loss 0.0453\n",
            "Time taken for 1 epoch 201.46470642089844 sec\n",
            "\n",
            "Epoch 36 Batch 0 Loss 0.0248\n",
            "Epoch 36 Loss 0.0373\n",
            "Time taken for 1 epoch 202.34149050712585 sec\n",
            "\n",
            "Epoch 37 Batch 0 Loss 0.0530\n",
            "Epoch 37 Loss 0.0500\n",
            "Time taken for 1 epoch 203.1957037448883 sec\n",
            "\n",
            "Epoch 38 Batch 0 Loss 0.0372\n",
            "Epoch 38 Loss 0.0499\n",
            "Time taken for 1 epoch 200.57984375953674 sec\n",
            "\n",
            "Epoch 39 Batch 0 Loss 0.0358\n",
            "Epoch 39 Loss 0.0502\n",
            "Time taken for 1 epoch 200.64255619049072 sec\n",
            "\n",
            "Epoch 40 Batch 0 Loss 0.0392\n",
            "Epoch 40 Loss 0.0606\n",
            "Time taken for 1 epoch 201.07503867149353 sec\n",
            "\n",
            "Epoch 41 Batch 0 Loss 0.0490\n",
            "Epoch 41 Loss 0.0491\n",
            "Time taken for 1 epoch 202.9633502960205 sec\n",
            "\n",
            "Epoch 42 Batch 0 Loss 0.0419\n",
            "Epoch 42 Loss 0.0343\n",
            "Time taken for 1 epoch 203.00944638252258 sec\n",
            "\n",
            "Epoch 43 Batch 0 Loss 0.0247\n",
            "Epoch 43 Loss 0.0223\n",
            "Time taken for 1 epoch 201.22331261634827 sec\n",
            "\n",
            "Epoch 44 Batch 0 Loss 0.0101\n",
            "Epoch 44 Loss 0.0164\n",
            "Time taken for 1 epoch 199.51499581336975 sec\n",
            "\n",
            "Epoch 45 Batch 0 Loss 0.0135\n",
            "Epoch 45 Loss 0.0140\n",
            "Time taken for 1 epoch 200.14446020126343 sec\n",
            "\n",
            "Epoch 46 Batch 0 Loss 0.0080\n",
            "Epoch 46 Loss 0.0117\n",
            "Time taken for 1 epoch 199.4995822906494 sec\n",
            "\n",
            "Epoch 47 Batch 0 Loss 0.0143\n",
            "Epoch 47 Loss 0.0105\n",
            "Time taken for 1 epoch 198.34094285964966 sec\n",
            "\n",
            "Epoch 48 Batch 0 Loss 0.0065\n",
            "Epoch 48 Loss 0.0097\n",
            "Time taken for 1 epoch 199.2618534564972 sec\n",
            "\n",
            "Epoch 49 Batch 0 Loss 0.0074\n",
            "Epoch 49 Loss 0.0092\n",
            "Time taken for 1 epoch 199.56944513320923 sec\n",
            "\n",
            "Epoch 50 Batch 0 Loss 0.0059\n",
            "Epoch 50 Loss 0.0096\n",
            "Time taken for 1 epoch 202.96449208259583 sec\n",
            "\n"
          ],
          "name": "stdout"
        }
      ]
    },
    {
      "cell_type": "code",
      "metadata": {
        "id": "PUXH9GiTHZoJ"
      },
      "source": [
        "def evaluate(sentence):\r\n",
        "  attention_plot = np.zeros((max_length_targ, max_length_inp))\r\n",
        "\r\n",
        "  sentence = preprocess_sentence(sentence)\r\n",
        "\r\n",
        "  inputs = [inp_lang.word_index[i] for i in sentence.split(' ')]\r\n",
        "  inputs = tf.keras.preprocessing.sequence.pad_sequences([inputs],\r\n",
        "                                                         maxlen=max_length_inp,\r\n",
        "                                                         padding='post')\r\n",
        "  inputs = tf.convert_to_tensor(inputs)\r\n",
        "\r\n",
        "  result = ''\r\n",
        "\r\n",
        "  hidden = [tf.zeros((1, units))]\r\n",
        "  enc_out, enc_hidden = encoder(inputs, hidden)\r\n",
        "\r\n",
        "  dec_hidden = enc_hidden\r\n",
        "  dec_input = tf.expand_dims([targ_lang.word_index['<start>']], 0)\r\n",
        "\r\n",
        "  for t in range(max_length_targ):\r\n",
        "    predictions, dec_hidden, attention_weights = decoder(dec_input,\r\n",
        "                                                         dec_hidden,\r\n",
        "                                                         enc_out)\r\n",
        "\r\n",
        "    # storing the attention weights to plot later on\r\n",
        "    attention_weights = tf.reshape(attention_weights, (-1, ))\r\n",
        "    attention_plot[t] = attention_weights.numpy()\r\n",
        "\r\n",
        "    predicted_id = tf.argmax(predictions[0]).numpy()\r\n",
        "\r\n",
        "    result += targ_lang.index_word[predicted_id] + ' '\r\n",
        "\r\n",
        "    if targ_lang.index_word[predicted_id] == '<end>':\r\n",
        "      return result, sentence, attention_plot\r\n",
        "\r\n",
        "    # the predicted ID is fed back into the model\r\n",
        "    dec_input = tf.expand_dims([predicted_id], 0)\r\n",
        "\r\n",
        "  return result, sentence, attention_plot"
      ],
      "execution_count": 119,
      "outputs": []
    },
    {
      "cell_type": "code",
      "metadata": {
        "id": "-9PD9tHTHZqX"
      },
      "source": [
        "# function for plotting the attention weights\r\n",
        "def plot_attention(attention, sentence, predicted_sentence):\r\n",
        "  fig = plt.figure(figsize=(10,10))\r\n",
        "  ax = fig.add_subplot(1, 1, 1)\r\n",
        "  ax.matshow(attention, cmap='viridis',clim=[0,1])\r\n",
        "\r\n",
        "  fontdict = {'fontsize': 14}\r\n",
        "\r\n",
        "  ax.set_xticklabels([''] + sentence, fontdict=fontdict, rotation=90)\r\n",
        "  ax.set_yticklabels([''] + predicted_sentence, fontdict=fontdict)\r\n",
        "\r\n",
        "  ax.xaxis.set_major_locator(ticker.MultipleLocator(1))\r\n",
        "  ax.yaxis.set_major_locator(ticker.MultipleLocator(1))\r\n",
        "\r\n",
        "  plt.show()"
      ],
      "execution_count": 120,
      "outputs": []
    },
    {
      "cell_type": "code",
      "metadata": {
        "id": "mhqEQBSgHhHv"
      },
      "source": [
        "def translate(sentence):\r\n",
        "  result, sentence, attention_plot = evaluate(sentence)\r\n",
        "\r\n",
        "  print('Input: %s' % (sentence))\r\n",
        "  print('Predicted translation: {}'.format(result))\r\n",
        "\r\n",
        "  attention_plot = attention_plot[:len(result.split(' ')), :len(sentence.split(' '))]\r\n",
        "  plot_attention(attention_plot, sentence.split(' '), result.split(' '))"
      ],
      "execution_count": 121,
      "outputs": []
    },
    {
      "cell_type": "code",
      "metadata": {
        "colab": {
          "base_uri": "https://localhost:8080/"
        },
        "id": "KofAwA9PHhKT",
        "outputId": "df392573-9e55-443f-9d5c-24a34503b160"
      },
      "source": [
        "# restoring the latest checkpoint in checkpoint_dir\r\n",
        "checkpoint.restore(tf.train.latest_checkpoint(checkpoint_dir))"
      ],
      "execution_count": 122,
      "outputs": [
        {
          "output_type": "execute_result",
          "data": {
            "text/plain": [
              "<tensorflow.python.training.tracking.util.CheckpointLoadStatus at 0x7f5396aa0588>"
            ]
          },
          "metadata": {
            "tags": []
          },
          "execution_count": 122
        }
      ]
    },
    {
      "cell_type": "code",
      "metadata": {
        "colab": {
          "base_uri": "https://localhost:8080/",
          "height": 675
        },
        "id": "iKNiviSkH0wb",
        "outputId": "99dd44ad-92a8-4737-956d-3ad2ac3266c3"
      },
      "source": [
        "translate(u'من اینجا تنها هستم')"
      ],
      "execution_count": 53,
      "outputs": [
        {
          "output_type": "stream",
          "text": [
            "Input: <start> من اینجا تنها هستم <end>\n",
            "Predicted translation: what's your favorite dessert ? <end> \n"
          ],
          "name": "stdout"
        },
        {
          "output_type": "display_data",
          "data": {
            "image/png": "[encoded data removed]",
            "text/plain": [
              "<Figure size 720x720 with 1 Axes>"
            ]
          },
          "metadata": {
            "tags": [],
            "needs_background": "light"
          }
        }
      ]
    },
    {
      "cell_type": "code",
      "metadata": {
        "colab": {
          "base_uri": "https://localhost:8080/",
          "height": 675
        },
        "id": "ZDmlflk_H0zA",
        "outputId": "c22c3194-25b4-4899-c565-9c7733d674f8"
      },
      "source": [
        "translate(u' هوا خیلی تاریک بود.')"
      ],
      "execution_count": 54,
      "outputs": [
        {
          "output_type": "stream",
          "text": [
            "Input: <start> هوا خیلی تاریک بود . <end>\n",
            "Predicted translation: it was so dark . <end> \n"
          ],
          "name": "stdout"
        },
        {
          "output_type": "display_data",
          "data": {
            "image/png": "[encoded data removed]",
            "text/plain": [
              "<Figure size 720x720 with 1 Axes>"
            ]
          },
          "metadata": {
            "tags": [],
            "needs_background": "light"
          }
        }
      ]
    },
    {
      "cell_type": "code",
      "metadata": {
        "colab": {
          "base_uri": "https://localhost:8080/",
          "height": 675
        },
        "id": "8nsZKv1ZH03r",
        "outputId": "63b3d79e-b238-45ae-ffe2-b7463f512e46"
      },
      "source": [
        "translate(u'او به من گفت تا پنج دقیقه دیگر می رسد ')"
      ],
      "execution_count": 63,
      "outputs": [
        {
          "output_type": "stream",
          "text": [
            "Input: <start> او به من گفت تا پنج دقیقه دیگر می رسد <end>\n",
            "Predicted translation: he did he did he did he did he did he did he did he did he did he did he did he did he did he did he did he did he did he did he \n"
          ],
          "name": "stdout"
        },
        {
          "output_type": "display_data",
          "data": {
            "image/png": "[encoded data removed]",
            "text/plain": [
              "<Figure size 720x720 with 1 Axes>"
            ]
          },
          "metadata": {
            "tags": [],
            "needs_background": "light"
          }
        }
      ]
    },
    {
      "cell_type": "code",
      "metadata": {
        "colab": {
          "base_uri": "https://localhost:8080/",
          "height": 675
        },
        "id": "fGRDJZMvH054",
        "outputId": "c2d7f193-80c9-452e-d71e-c7034c750a6e"
      },
      "source": [
        "translate(u'یک دقیقه صبر کنید لطفا')"
      ],
      "execution_count": 58,
      "outputs": [
        {
          "output_type": "stream",
          "text": [
            "Input: <start> یک دقیقه صبر کنید لطفا <end>\n",
            "Predicted translation: hasn't a good idea ? <end> \n"
          ],
          "name": "stdout"
        },
        {
          "output_type": "display_data",
          "data": {
            "image/png": "[encoded data removed]",
            "text/plain": [
              "<Figure size 720x720 with 1 Axes>"
            ]
          },
          "metadata": {
            "tags": [],
            "needs_background": "light"
          }
        }
      ]
    },
    {
      "cell_type": "code",
      "metadata": {
        "colab": {
          "base_uri": "https://localhost:8080/",
          "height": 675
        },
        "id": "OHpKZpCZH1AL",
        "outputId": "db46f0ca-805b-4742-aaeb-91a9815163ed"
      },
      "source": [
        "translate(u' ادامه بده')"
      ],
      "execution_count": 59,
      "outputs": [
        {
          "output_type": "stream",
          "text": [
            "Input: <start> ادامه بده <end>\n",
            "Predicted translation: go on ! <end> \n"
          ],
          "name": "stdout"
        },
        {
          "output_type": "display_data",
          "data": {
            "image/png": "[encoded data removed]",
            "text/plain": [
              "<Figure size 720x720 with 1 Axes>"
            ]
          },
          "metadata": {
            "tags": [],
            "needs_background": "light"
          }
        }
      ]
    },
    {
      "cell_type": "code",
      "metadata": {
        "colab": {
          "base_uri": "https://localhost:8080/",
          "height": 530
        },
        "id": "blPtkkDUH1CX",
        "outputId": "082a581e-f63c-4324-d10b-b524dd8fb620"
      },
      "source": [
        "translate(u'به من کمک کن.')"
      ],
      "execution_count": 60,
      "outputs": [
        {
          "output_type": "stream",
          "text": [
            "Input: <start> به من کمک کن . <end>\n",
            "Predicted translation: let me . <end> \n"
          ],
          "name": "stdout"
        },
        {
          "output_type": "display_data",
          "data": {
            "image/png": "[encoded data removed]",
            "text/plain": [
              "<Figure size 720x720 with 1 Axes>"
            ]
          },
          "metadata": {
            "tags": [],
            "needs_background": "light"
          }
        }
      ]
    },
    {
      "cell_type": "code",
      "metadata": {
        "colab": {
          "base_uri": "https://localhost:8080/",
          "height": 597
        },
        "id": "6VpDQrEoH1Ek",
        "outputId": "5d879a77-7da8-4a83-a1ec-a1c161062179"
      },
      "source": [
        "translate(u'حرفت را بزن!')"
      ],
      "execution_count": 61,
      "outputs": [
        {
          "output_type": "stream",
          "text": [
            "Input: <start> حرفت را بزن ! <end>\n",
            "Predicted translation: speak up ! <end> \n"
          ],
          "name": "stdout"
        },
        {
          "output_type": "display_data",
          "data": {
            "image/png": "[encoded data removed]",
            "text/plain": [
              "<Figure size 720x720 with 1 Axes>"
            ]
          },
          "metadata": {
            "tags": [],
            "needs_background": "light"
          }
        }
      ]
    },
    {
      "cell_type": "markdown",
      "metadata": {
        "id": "5sohXAlygDi-"
      },
      "source": [
        "Do you think that the model attends to the correct tokens in the input language (if you understand both languages)?\r\n",
        "\r\n",
        "For few of them\r\n",
        "\r\n",
        "Do you see qualitative differences in the attention weights between different attention mechanisms?\r\n",
        "\r\n",
        "Dot product transalted most of the sentences correct.\r\n",
        "\r\n",
        "\r\n",
        "Questions-\r\n",
        "\r\n",
        "Which parts of the sentence are used as a token? Each character, each word, or are some words split up? Answer - - Each word\r\n",
        "\r\n",
        "Do the same tokens in different language have the same ID? e.g. Would the same token index map to the German word die and to the English word die? Answer - No\r\n",
        "\r\n",
        "What is the relation between the encoder output and the encoder hidden state which is used to initialize the decoder hidden state (for the architecture used in the tutorial)? Hidden states along with encoder output are used to calculate scores\r\n",
        "\r\n",
        "Is the decoder attending to all previous positions, including the previous decoder predictions? Yep\r\n",
        "\r\n",
        "Does the Encoder output change in different decoding steps? No\r\n",
        "\r\n",
        "Does the context vector change in different decoding steps? yes based on query\r\n",
        "\r\n",
        "The decoder uses teacher forcing. Does this mean the time steps can be computed in parallel? Answer - Can be, but predcition word depends on the previous word so might not be a good way\r\n",
        "\r\n",
        "Why is a mask applied to the loss function? Answer - because its padded sequence and we don't want loss over padded sequence"
      ]
    }
  ]
}