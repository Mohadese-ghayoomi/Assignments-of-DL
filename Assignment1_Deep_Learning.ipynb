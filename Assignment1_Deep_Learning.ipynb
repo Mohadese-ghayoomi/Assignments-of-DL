{
  "nbformat": 4,
  "nbformat_minor": 0,
  "metadata": {
    "colab": {
      "name": "Assignment1 - Deep Learning.ipynb",
      "provenance": [],
      "collapsed_sections": [
        "N6L8MiJaa-bK",
        "6Od1o3cabUSL",
        "NeAR7g7PcWBa",
        "lXd91Bws2kr9",
        "1so0XVJmt5zO",
        "iP0dctzEQ8Z9",
        "i23pb0TTy-NN"
      ],
      "mount_file_id": "1chFZez1eGstcP2v40dTvbiztwrqXjkcJ",
      "authorship_tag": "ABX9TyNQg7RoOYphMKXyBF77oJrd",
      "include_colab_link": true
    },
    "kernelspec": {
      "name": "python3",
      "display_name": "Python 3"
    }
  },
  "cells": [
    {
      "cell_type": "markdown",
      "metadata": {
        "id": "view-in-github",
        "colab_type": "text"
      },
      "source": [
        "<a href=\"https://colab.research.google.com/github/Mohadese-ghayoomi/Assignments-of-DL/blob/main/Assignment1_Deep_Learning.ipynb\" target=\"_parent\"><img src=\"https://colab.research.google.com/assets/colab-badge.svg\" alt=\"Open In Colab\"/></a>"
      ]
    },
    {
      "cell_type": "markdown",
      "metadata": {
        "id": "N6L8MiJaa-bK"
      },
      "source": [
        "# **Import Libraries**"
      ]
    },
    {
      "cell_type": "code",
      "metadata": {
        "id": "ARWMDuRpa9zO"
      },
      "source": [
        "import tensorflow as tf \n",
        "import numpy as np\n",
        "import os\n",
        "import matplotlib.pyplot as plt"
      ],
      "execution_count": null,
      "outputs": []
    },
    {
      "cell_type": "markdown",
      "metadata": {
        "id": "6Od1o3cabUSL"
      },
      "source": [
        "# **show version of Tensorflow**"
      ]
    },
    {
      "cell_type": "code",
      "metadata": {
        "id": "r3qHnNQMbcJe",
        "colab": {
          "base_uri": "https://localhost:8080/"
        },
        "outputId": "3cdb6460-6d59-436d-c853-a0eafd3cdf6e"
      },
      "source": [
        "print(tf.__version__)"
      ],
      "execution_count": null,
      "outputs": [
        {
          "output_type": "stream",
          "text": [
            "2.3.0\n"
          ],
          "name": "stdout"
        }
      ]
    },
    {
      "cell_type": "markdown",
      "metadata": {
        "id": "NeAR7g7PcWBa"
      },
      "source": [
        "# **Import one Dataset**"
      ]
    },
    {
      "cell_type": "code",
      "metadata": {
        "id": "wj92YSVJblaE",
        "colab": {
          "base_uri": "https://localhost:8080/",
          "height": 35
        },
        "outputId": "e5f8400f-94db-4974-e22e-93ac21379262"
      },
      "source": [
        "os.getcwd()"
      ],
      "execution_count": null,
      "outputs": [
        {
          "output_type": "execute_result",
          "data": {
            "application/vnd.google.colaboratory.intrinsic+json": {
              "type": "string"
            },
            "text/plain": [
              "'/content'"
            ]
          },
          "metadata": {
            "tags": []
          },
          "execution_count": 4
        }
      ]
    },
    {
      "cell_type": "code",
      "metadata": {
        "id": "ol2b70TMdEZP"
      },
      "source": [
        "os.chdir('/content/drive/My Drive/Colab Notebooks')"
      ],
      "execution_count": null,
      "outputs": []
    },
    {
      "cell_type": "code",
      "metadata": {
        "id": "j1Yaj3rEdl9D"
      },
      "source": [
        ""
      ],
      "execution_count": null,
      "outputs": []
    },
    {
      "cell_type": "code",
      "metadata": {
        "id": "YwTXcE3fdmye"
      },
      "source": [
        "from datasets import MNISTDataset"
      ],
      "execution_count": null,
      "outputs": []
    },
    {
      "cell_type": "markdown",
      "metadata": {
        "id": "lXd91Bws2kr9"
      },
      "source": [
        "# **About Seed**"
      ]
    },
    {
      "cell_type": "code",
      "metadata": {
        "id": "7gfClXIv1gUu",
        "colab": {
          "base_uri": "https://localhost:8080/"
        },
        "outputId": "b0bbe839-b084-49dc-b681-29f1f13cab8b"
      },
      "source": [
        "\n",
        "tf.random.set_seed(5);\n",
        "tf.random.normal([4], 0, 1, tf.float32)"
      ],
      "execution_count": null,
      "outputs": [
        {
          "output_type": "execute_result",
          "data": {
            "text/plain": [
              "<tf.Tensor: shape=(4,), dtype=float32, numpy=array([-0.18030666, -0.95028627, -0.03964049, -0.7425406 ], dtype=float32)>"
            ]
          },
          "metadata": {
            "tags": []
          },
          "execution_count": 7
        }
      ]
    },
    {
      "cell_type": "code",
      "metadata": {
        "id": "LLtXM3yLD6Ye",
        "colab": {
          "base_uri": "https://localhost:8080/"
        },
        "outputId": "b80f609f-b755-43ff-ff57-50e08ba4b667"
      },
      "source": [
        "tf.random.set_seed(5);\n",
        "tf.random.normal([2,2], 0, 1, tf.float32, seed=1 )"
      ],
      "execution_count": null,
      "outputs": [
        {
          "output_type": "execute_result",
          "data": {
            "text/plain": [
              "<tf.Tensor: shape=(2, 2), dtype=float32, numpy=\n",
              "array([[-1.3768897 , -0.01258316],\n",
              "       [-0.169515  ,  1.0824056 ]], dtype=float32)>"
            ]
          },
          "metadata": {
            "tags": []
          },
          "execution_count": 8
        }
      ]
    },
    {
      "cell_type": "code",
      "metadata": {
        "id": "QSm5emV016Do",
        "colab": {
          "base_uri": "https://localhost:8080/"
        },
        "outputId": "35b446f8-9d44-4fc8-b944-fe28821cc149"
      },
      "source": [
        "#If neither the global seed nor the operation seed is set: A randomly picked seed is used for this op.\n",
        "print(tf.random.uniform([1]))  # generates 'A1'\n",
        "print(tf.random.uniform([1]))  # generates 'A2'"
      ],
      "execution_count": null,
      "outputs": [
        {
          "output_type": "stream",
          "text": [
            "tf.Tensor([0.6263931], shape=(1,), dtype=float32)\n",
            "tf.Tensor([0.7017075], shape=(1,), dtype=float32)\n"
          ],
          "name": "stdout"
        }
      ]
    },
    {
      "cell_type": "code",
      "metadata": {
        "id": "Kq2Z_prM2K-0",
        "colab": {
          "base_uri": "https://localhost:8080/"
        },
        "outputId": "d4113f0b-1ef5-4237-e8ff-98dc1c7e7777"
      },
      "source": [
        "#If the global seed is set but the operation seed is not set, we get different results for every call to the random op, but the same sequence for every re-run of the program:\n",
        "tf.random.set_seed(1234)\n",
        "print(tf.random.uniform([1]))  # generates 'A1'\n",
        "print(tf.random.uniform([1]))  # generates 'A2' # the second call uses a different operation seed."
      ],
      "execution_count": null,
      "outputs": [
        {
          "output_type": "stream",
          "text": [
            "tf.Tensor([0.5380393], shape=(1,), dtype=float32)\n",
            "tf.Tensor([0.3253647], shape=(1,), dtype=float32)\n"
          ],
          "name": "stdout"
        }
      ]
    },
    {
      "cell_type": "code",
      "metadata": {
        "id": "BKDQvR0T434X",
        "colab": {
          "base_uri": "https://localhost:8080/"
        },
        "outputId": "93a7610d-6c19-4b7c-b183-7c0262e428ec"
      },
      "source": [
        "#If both the global and the operation seed are set: Both seeds are used in conjunction to determine the random sequence.\n",
        "tf.random.set_seed(1234)\n",
        "print(tf.random.uniform([1], seed=1))  # generates 'A1'\n",
        "print(tf.random.uniform([1], seed=1))  # generates 'A2'"
      ],
      "execution_count": null,
      "outputs": [
        {
          "output_type": "stream",
          "text": [
            "tf.Tensor([0.1689806], shape=(1,), dtype=float32)\n",
            "tf.Tensor([0.7539084], shape=(1,), dtype=float32)\n"
          ],
          "name": "stdout"
        }
      ]
    },
    {
      "cell_type": "code",
      "metadata": {
        "id": "MdR0G0aH5S-9",
        "colab": {
          "base_uri": "https://localhost:8080/"
        },
        "outputId": "d96dad5c-95d0-489c-c6d9-870b7734c377"
      },
      "source": [
        "#If the operation seed is set, but the global seed is not set: A default global seed and the specified operation seed are used to determine the random sequence.\n",
        "print(tf.random.uniform([1], seed=1))  # generates 'A1'\n",
        "print(tf.random.uniform([1], seed=1))  # generates 'A2'"
      ],
      "execution_count": null,
      "outputs": [
        {
          "output_type": "stream",
          "text": [
            "tf.Tensor([0.4243431], shape=(1,), dtype=float32)\n",
            "tf.Tensor([0.92531705], shape=(1,), dtype=float32)\n"
          ],
          "name": "stdout"
        }
      ]
    },
    {
      "cell_type": "code",
      "metadata": {
        "id": "LL_AsYCc8hQ0",
        "colab": {
          "base_uri": "https://localhost:8080/"
        },
        "outputId": "28a94a88-ea1f-4a86-fdf5-16cc64daf372"
      },
      "source": [
        "#tf.random.stateless_uniform (if run twice with the same seeds and shapes, it will produce the same pseudorandom numbers.)\n",
        "ints = tf.random.stateless_uniform(\n",
        "    [10], seed=(2, 3),minval=50, maxval=500, dtype=tf.int32)\n",
        "print(ints)"
      ],
      "execution_count": null,
      "outputs": [
        {
          "output_type": "stream",
          "text": [
            "tf.Tensor([230 491 136 130 380 231 116 139 356 366], shape=(10,), dtype=int32)\n"
          ],
          "name": "stdout"
        }
      ]
    },
    {
      "cell_type": "markdown",
      "metadata": {
        "id": "1so0XVJmt5zO"
      },
      "source": [
        "# ***Tesnsorflow***"
      ]
    },
    {
      "cell_type": "code",
      "metadata": {
        "id": "yACBEN_muD4V",
        "colab": {
          "base_uri": "https://localhost:8080/"
        },
        "outputId": "7994efed-c762-4ba8-a2f5-d91add2dd30f"
      },
      "source": [
        "#scalar\" or \"rank-0\" tensor\n",
        "rank_0_tensor = tf.constant(4)\n",
        "print(rank_0_tensor)"
      ],
      "execution_count": null,
      "outputs": [
        {
          "output_type": "stream",
          "text": [
            "tf.Tensor(4, shape=(), dtype=int32)\n"
          ],
          "name": "stdout"
        }
      ]
    },
    {
      "cell_type": "code",
      "metadata": {
        "id": "OsKPV9g2uREp",
        "colab": {
          "base_uri": "https://localhost:8080/"
        },
        "outputId": "8eb9e711-144f-4f37-d49e-8f42593fd145"
      },
      "source": [
        "#A \"vector\" or \"rank-1\" tensor is like a list of values\n",
        "rank_1_tensor = tf.constant([2.0, 3.0, 4.0])\n",
        "print(rank_1_tensor)"
      ],
      "execution_count": null,
      "outputs": [
        {
          "output_type": "stream",
          "text": [
            "tf.Tensor([2. 3. 4.], shape=(3,), dtype=float32)\n"
          ],
          "name": "stdout"
        }
      ]
    },
    {
      "cell_type": "code",
      "metadata": {
        "id": "USw_PpgCwsN4",
        "colab": {
          "base_uri": "https://localhost:8080/"
        },
        "outputId": "2af17e0a-4c60-449b-e859-1a058fb47f6f"
      },
      "source": [
        "#A \"matrix\" or \"rank-2\" tensor has 2-axes and we can specify the dtype \n",
        "rank_2_tensor = tf.constant([[1, 2],\n",
        "                             [3, 4],\n",
        "                             [5, 6]], dtype=tf.float16)\n",
        "print(rank_2_tensor)"
      ],
      "execution_count": null,
      "outputs": [
        {
          "output_type": "stream",
          "text": [
            "tf.Tensor(\n",
            "[[1. 2.]\n",
            " [3. 4.]\n",
            " [5. 6.]], shape=(3, 2), dtype=float16)\n"
          ],
          "name": "stdout"
        }
      ]
    },
    {
      "cell_type": "code",
      "metadata": {
        "id": "ofCXF9RSxJXF",
        "colab": {
          "base_uri": "https://localhost:8080/"
        },
        "outputId": "52f7da9c-4189-47ab-d1f2-f9a53fd6e58f"
      },
      "source": [
        "# There can be an arbitrary number of\n",
        "# axes (sometimes called \"dimensions\")\n",
        "rank_3_tensor = tf.constant([\n",
        "  [[0, 1, 2, 3, 4],\n",
        "   [5, 6, 7, 8, 9]],\n",
        "  [[10, 11, 12, 13, 14],\n",
        "   [15, 16, 17, 18, 19]],\n",
        "  [[20, 21, 22, 23, 24],\n",
        "   [25, 26, 27, 28, 29]],])\n",
        "\n",
        "print(rank_3_tensor)"
      ],
      "execution_count": null,
      "outputs": [
        {
          "output_type": "stream",
          "text": [
            "tf.Tensor(\n",
            "[[[ 0  1  2  3  4]\n",
            "  [ 5  6  7  8  9]]\n",
            "\n",
            " [[10 11 12 13 14]\n",
            "  [15 16 17 18 19]]\n",
            "\n",
            " [[20 21 22 23 24]\n",
            "  [25 26 27 28 29]]], shape=(3, 2, 5), dtype=int32)\n"
          ],
          "name": "stdout"
        }
      ]
    },
    {
      "cell_type": "code",
      "metadata": {
        "id": "zS9lur2oxwK3",
        "colab": {
          "base_uri": "https://localhost:8080/"
        },
        "outputId": "fac96c30-f5bd-4ee2-e639-cf7d51a33c5e"
      },
      "source": [
        "#convert a tensor to a NumPy array with using np.array \n",
        "np.array(rank_2_tensor)\n",
        "\n",
        "\n"
      ],
      "execution_count": null,
      "outputs": [
        {
          "output_type": "execute_result",
          "data": {
            "text/plain": [
              "array([[1., 2.],\n",
              "       [3., 4.],\n",
              "       [5., 6.]], dtype=float16)"
            ]
          },
          "metadata": {
            "tags": []
          },
          "execution_count": 18
        }
      ]
    },
    {
      "cell_type": "code",
      "metadata": {
        "id": "9HjkFPl9yLxU",
        "colab": {
          "base_uri": "https://localhost:8080/"
        },
        "outputId": "c423629d-b44d-4049-f229-eb0d763f0d7e"
      },
      "source": [
        "#convert a tensor to a NumPy array with the tensor.numpy method:\n",
        "rank_2_tensor.numpy()\n"
      ],
      "execution_count": null,
      "outputs": [
        {
          "output_type": "execute_result",
          "data": {
            "text/plain": [
              "array([[1., 2.],\n",
              "       [3., 4.],\n",
              "       [5., 6.]], dtype=float16)"
            ]
          },
          "metadata": {
            "tags": []
          },
          "execution_count": 19
        }
      ]
    },
    {
      "cell_type": "code",
      "metadata": {
        "id": "U_tpARqJzQfh",
        "colab": {
          "base_uri": "https://localhost:8080/"
        },
        "outputId": "2af32816-e859-4685-be1a-f08932fd00e5"
      },
      "source": [
        "#The base tf.Tensor class requires tensors to be \"rectangular\"---that is, along each axis, every element is the same size.\n",
        "# However, there are specialized types of tensors that can handle different shapes:\n",
        "a = tf.constant([[1, 2],\n",
        "                 [3, 4]])\n",
        "b = tf.constant([[1, 1],\n",
        "                 [1, 1]]) # Could have also said `tf.ones([2,2])`\n",
        "\n",
        "print(tf.add(a, b), \"\\n\")\n",
        "print(tf.multiply(a, b), \"\\n\")\n",
        "print(tf.matmul(a, b), \"\\n\")"
      ],
      "execution_count": null,
      "outputs": [
        {
          "output_type": "stream",
          "text": [
            "tf.Tensor(\n",
            "[[2 3]\n",
            " [4 5]], shape=(2, 2), dtype=int32) \n",
            "\n",
            "tf.Tensor(\n",
            "[[1 2]\n",
            " [3 4]], shape=(2, 2), dtype=int32) \n",
            "\n",
            "tf.Tensor(\n",
            "[[3 3]\n",
            " [7 7]], shape=(2, 2), dtype=int32) \n",
            "\n"
          ],
          "name": "stdout"
        }
      ]
    },
    {
      "cell_type": "code",
      "metadata": {
        "id": "JUdxUP8yznoy",
        "colab": {
          "base_uri": "https://localhost:8080/"
        },
        "outputId": "5bf308f7-079d-4631-fd5b-37cef843ac6c"
      },
      "source": [
        "print(a + b, \"\\n\") # element-wise addition\n",
        "print(a * b, \"\\n\") # element-wise multiplication\n",
        "print(a @ b, \"\\n\") # matrix multiplication"
      ],
      "execution_count": null,
      "outputs": [
        {
          "output_type": "stream",
          "text": [
            "tf.Tensor(\n",
            "[[2 3]\n",
            " [4 5]], shape=(2, 2), dtype=int32) \n",
            "\n",
            "tf.Tensor(\n",
            "[[1 2]\n",
            " [3 4]], shape=(2, 2), dtype=int32) \n",
            "\n",
            "tf.Tensor(\n",
            "[[3 3]\n",
            " [7 7]], shape=(2, 2), dtype=int32) \n",
            "\n"
          ],
          "name": "stdout"
        }
      ]
    },
    {
      "cell_type": "code",
      "metadata": {
        "id": "BBlz7BkO0Sjb",
        "colab": {
          "base_uri": "https://localhost:8080/"
        },
        "outputId": "12ba5564-69b7-4a30-f78e-f98f28eff1fa"
      },
      "source": [
        "#Tensors are used in all kinds of operations (ops).\n",
        "\n",
        "c = tf.constant([[4.0, 5.0], [10.0, 1.0]])\n",
        "\n",
        "# Find the largest value\n",
        "print(tf.reduce_max(c))\n",
        "# Find the index of the largest value\n",
        "print(tf.argmax(c))\n",
        "# Compute the softmax\n",
        "print(tf.nn.softmax(c))"
      ],
      "execution_count": null,
      "outputs": [
        {
          "output_type": "stream",
          "text": [
            "tf.Tensor(10.0, shape=(), dtype=float32)\n",
            "tf.Tensor([1 0], shape=(2,), dtype=int64)\n",
            "tf.Tensor(\n",
            "[[2.6894143e-01 7.3105860e-01]\n",
            " [9.9987662e-01 1.2339458e-04]], shape=(2, 2), dtype=float32)\n"
          ],
          "name": "stdout"
        }
      ]
    },
    {
      "cell_type": "code",
      "metadata": {
        "id": "IR4xoQ423aUs",
        "colab": {
          "base_uri": "https://localhost:8080/"
        },
        "outputId": "b2efc1d0-e709-438e-8534-3a72609f63ff"
      },
      "source": [
        "#Shape: The length (number of elements) of each of the dimensions of a tensor.\n",
        "#Rank: Number of tensor dimensions. A scalar has rank 0, a vector has rank 1, a matrix is rank 2.\n",
        "#Axis or Dimension: A particular dimension of a tensor.\n",
        "#Size: The total number of items in the tensor, the product shape vector\n",
        "rank_4_tensor = tf.zeros([3,2, 4, 5])\n",
        "print(rank_4_tensor)\n",
        "print('--------------------------------------------------------------- ')\n",
        "print(\"Type of every element:\", rank_4_tensor.dtype)\n",
        "print(\"Number of dimensions:\", rank_4_tensor.ndim)\n",
        "print(\"Shape of tensor:\", rank_4_tensor.shape)\n",
        "print(\"Elements along axis 0 of tensor:\", rank_4_tensor.shape[0])\n",
        "print(\"Elements along the last axis of tensor:\", rank_4_tensor.shape[-1])\n",
        "print(\"Total number of elements (3*2*4*5): \", tf.size(rank_4_tensor).numpy())"
      ],
      "execution_count": null,
      "outputs": [
        {
          "output_type": "stream",
          "text": [
            "tf.Tensor(\n",
            "[[[[0. 0. 0. 0. 0.]\n",
            "   [0. 0. 0. 0. 0.]\n",
            "   [0. 0. 0. 0. 0.]\n",
            "   [0. 0. 0. 0. 0.]]\n",
            "\n",
            "  [[0. 0. 0. 0. 0.]\n",
            "   [0. 0. 0. 0. 0.]\n",
            "   [0. 0. 0. 0. 0.]\n",
            "   [0. 0. 0. 0. 0.]]]\n",
            "\n",
            "\n",
            " [[[0. 0. 0. 0. 0.]\n",
            "   [0. 0. 0. 0. 0.]\n",
            "   [0. 0. 0. 0. 0.]\n",
            "   [0. 0. 0. 0. 0.]]\n",
            "\n",
            "  [[0. 0. 0. 0. 0.]\n",
            "   [0. 0. 0. 0. 0.]\n",
            "   [0. 0. 0. 0. 0.]\n",
            "   [0. 0. 0. 0. 0.]]]\n",
            "\n",
            "\n",
            " [[[0. 0. 0. 0. 0.]\n",
            "   [0. 0. 0. 0. 0.]\n",
            "   [0. 0. 0. 0. 0.]\n",
            "   [0. 0. 0. 0. 0.]]\n",
            "\n",
            "  [[0. 0. 0. 0. 0.]\n",
            "   [0. 0. 0. 0. 0.]\n",
            "   [0. 0. 0. 0. 0.]\n",
            "   [0. 0. 0. 0. 0.]]]], shape=(3, 2, 4, 5), dtype=float32)\n",
            "--------------------------------------------------------------- \n",
            "Type of every element: <dtype: 'float32'>\n",
            "Number of dimensions: 4\n",
            "Shape of tensor: (3, 2, 4, 5)\n",
            "Elements along axis 0 of tensor: 3\n",
            "Elements along the last axis of tensor: 5\n",
            "Total number of elements (3*2*4*5):  120\n"
          ],
          "name": "stdout"
        }
      ]
    },
    {
      "cell_type": "code",
      "metadata": {
        "id": "TREPGQiB788W",
        "colab": {
          "base_uri": "https://localhost:8080/"
        },
        "outputId": "c68be576-415e-4fb5-de52-60e753d9f638"
      },
      "source": [
        "#Indexing\n",
        "rank_1_tensor = tf.constant([0, 1, 1, 2, 3, 5, 8, 13, 21, 34])\n",
        "print(rank_1_tensor.numpy())\n",
        "print(\"First:\", rank_1_tensor[0].numpy())\n",
        "print(\"Second:\", rank_1_tensor[1].numpy())\n",
        "print(\"Last:\", rank_1_tensor[-1].numpy())\n",
        "print(\"Everything:\", rank_1_tensor[:].numpy())\n",
        "print(\"Before 4:\", rank_1_tensor[:4].numpy())\n",
        "print(\"From 4 to the end:\", rank_1_tensor[4:].numpy())\n",
        "print(\"From 2, before 7:\", rank_1_tensor[2:7].numpy())\n",
        "print(\"Every other item:\", rank_1_tensor[::2].numpy())\n",
        "print(\"Reversed:\", rank_1_tensor[::-1].numpy())"
      ],
      "execution_count": null,
      "outputs": [
        {
          "output_type": "stream",
          "text": [
            "[ 0  1  1  2  3  5  8 13 21 34]\n",
            "First: 0\n",
            "Second: 1\n",
            "Last: 34\n",
            "Everything: [ 0  1  1  2  3  5  8 13 21 34]\n",
            "Before 4: [0 1 1 2]\n",
            "From 4 to the end: [ 3  5  8 13 21 34]\n",
            "From 2, before 7: [1 2 3 5 8]\n",
            "Every other item: [ 0  1  3  8 21]\n",
            "Reversed: [34 21 13  8  5  3  2  1  1  0]\n"
          ],
          "name": "stdout"
        }
      ]
    },
    {
      "cell_type": "code",
      "metadata": {
        "id": "OqygylJZ9Nvy",
        "colab": {
          "base_uri": "https://localhost:8080/"
        },
        "outputId": "01ac16df-c6f5-4453-c660-c3aa954f322a"
      },
      "source": [
        "#Multi-axis indexing\n",
        "print(rank_2_tensor.numpy())\n",
        "# Pull out a single value from a 2-rank tensor\n",
        "print(rank_2_tensor[1, 1].numpy())\n",
        "# Get row and column tensors\n",
        "print(\"Second row:\", rank_2_tensor[1, :].numpy())\n",
        "print(\"Second column:\", rank_2_tensor[:, 1].numpy())\n",
        "print(\"Last row:\", rank_2_tensor[-1, :].numpy())\n",
        "print(\"First item in last column:\", rank_2_tensor[0, -1].numpy())\n",
        "print(\"Skip the first row:\")\n",
        "print(rank_2_tensor[1:, :].numpy(), \"\\n\")"
      ],
      "execution_count": null,
      "outputs": [
        {
          "output_type": "stream",
          "text": [
            "[[1. 2.]\n",
            " [3. 4.]\n",
            " [5. 6.]]\n",
            "4.0\n",
            "Second row: [3. 4.]\n",
            "Second column: [2. 4. 6.]\n",
            "Last row: [5. 6.]\n",
            "First item in last column: 2.0\n",
            "Skip the first row:\n",
            "[[3. 4.]\n",
            " [5. 6.]] \n",
            "\n"
          ],
          "name": "stdout"
        }
      ]
    },
    {
      "cell_type": "code",
      "metadata": {
        "id": "J80au1_E9ZtN",
        "colab": {
          "base_uri": "https://localhost:8080/"
        },
        "outputId": "20067c31-200f-4434-f74e-adf7f3abd78e"
      },
      "source": [
        "#3-axis tensor\n",
        "print(rank_3_tensor)\n",
        "print('-------------------------- --------------')\n",
        "print(rank_3_tensor[:, :, 4])\n"
      ],
      "execution_count": null,
      "outputs": [
        {
          "output_type": "stream",
          "text": [
            "tf.Tensor(\n",
            "[[[ 0  1  2  3  4]\n",
            "  [ 5  6  7  8  9]]\n",
            "\n",
            " [[10 11 12 13 14]\n",
            "  [15 16 17 18 19]]\n",
            "\n",
            " [[20 21 22 23 24]\n",
            "  [25 26 27 28 29]]], shape=(3, 2, 5), dtype=int32)\n",
            "-------------------------- --------------\n",
            "tf.Tensor(\n",
            "[[ 4  9]\n",
            " [14 19]\n",
            " [24 29]], shape=(3, 2), dtype=int32)\n"
          ],
          "name": "stdout"
        }
      ]
    },
    {
      "cell_type": "code",
      "metadata": {
        "id": "tb4LQeDe-sxz",
        "colab": {
          "base_uri": "https://localhost:8080/"
        },
        "outputId": "2c9c5b96-3cb8-4973-910d-f856b401ffe0"
      },
      "source": [
        "#Manipulating Shapes\n",
        "# Shape returns a `TensorShape` object that shows the size on each dimension\n",
        "x = tf.constant([[1], [2], [3]])\n",
        "print(x.shape)\n",
        "# You can convert this object into a Python list, too\n",
        "print(x.shape.as_list())\n",
        "# You can reshape a tensor to a new shape.\n",
        "# Note that you're passing in a list\n",
        "reshaped = tf.reshape(x, [1, 3])\n",
        "print(x.shape)\n",
        "print(reshaped.shape)"
      ],
      "execution_count": null,
      "outputs": [
        {
          "output_type": "stream",
          "text": [
            "(3, 1)\n",
            "[3, 1]\n",
            "(3, 1)\n",
            "(1, 3)\n"
          ],
          "name": "stdout"
        }
      ]
    },
    {
      "cell_type": "code",
      "metadata": {
        "id": "rcapLp0cA1Mx",
        "colab": {
          "base_uri": "https://localhost:8080/"
        },
        "outputId": "ad03153f-b5b8-4f8e-a80b-f181fc0be38b"
      },
      "source": [
        "#The data maintains its layout in memory and a new tensor is created,\n",
        "#with the requested shape, pointing to the same data. TensorFlow uses C-style \"row-major\" memory ordering,\n",
        "#where incrementing the rightmost index corresponds to a single step in memory.\n",
        "print(rank_3_tensor)\n",
        "\n",
        "#If you flatten a tensor you can see what order it is laid out in memory.\n",
        "print('--------------------------------------------------------------')\n",
        "print(tf.reshape(rank_3_tensor, [-1]))"
      ],
      "execution_count": null,
      "outputs": [
        {
          "output_type": "stream",
          "text": [
            "tf.Tensor(\n",
            "[[[ 0  1  2  3  4]\n",
            "  [ 5  6  7  8  9]]\n",
            "\n",
            " [[10 11 12 13 14]\n",
            "  [15 16 17 18 19]]\n",
            "\n",
            " [[20 21 22 23 24]\n",
            "  [25 26 27 28 29]]], shape=(3, 2, 5), dtype=int32)\n",
            "--------------------------------------------------------------\n",
            "tf.Tensor(\n",
            "[ 0  1  2  3  4  5  6  7  8  9 10 11 12 13 14 15 16 17 18 19 20 21 22 23\n",
            " 24 25 26 27 28 29], shape=(30,), dtype=int32)\n"
          ],
          "name": "stdout"
        }
      ]
    },
    {
      "cell_type": "code",
      "metadata": {
        "id": "aEzu5LKTDGku",
        "colab": {
          "base_uri": "https://localhost:8080/"
        },
        "outputId": "1a50e6f2-9f9e-4338-ca77-025d01a99361"
      },
      "source": [
        "#Typically the only reasonable uses of tf.reshape are to combine or split adjacent axes (or add/remove 1s).\n",
        "#For this 3x2x5 tensor, reshaping to (3x2)x5 or 3x(2x5) are both reasonable things to do, as the slices do not mix:\n",
        "print(tf.reshape(rank_3_tensor, [3*2, 5]), \"\\n\")\n",
        "print(tf.reshape(rank_3_tensor, [3, -1]))"
      ],
      "execution_count": null,
      "outputs": [
        {
          "output_type": "stream",
          "text": [
            "tf.Tensor(\n",
            "[[ 0  1  2  3  4]\n",
            " [ 5  6  7  8  9]\n",
            " [10 11 12 13 14]\n",
            " [15 16 17 18 19]\n",
            " [20 21 22 23 24]\n",
            " [25 26 27 28 29]], shape=(6, 5), dtype=int32) \n",
            "\n",
            "tf.Tensor(\n",
            "[[ 0  1  2  3  4  5  6  7  8  9]\n",
            " [10 11 12 13 14 15 16 17 18 19]\n",
            " [20 21 22 23 24 25 26 27 28 29]], shape=(3, 10), dtype=int32)\n"
          ],
          "name": "stdout"
        }
      ]
    },
    {
      "cell_type": "code",
      "metadata": {
        "id": "nVSsMb-mDQvq",
        "colab": {
          "base_uri": "https://localhost:8080/"
        },
        "outputId": "9fc7044c-3edf-4e24-ed16-992467949223"
      },
      "source": [
        "#Reshaping will \"work\" for any new shape with the same total number of elements, but it will not do anything useful if you do not respect the order of the axes.\n",
        "#Swapping axes in tf.reshape does not work, you need tf.transpose for that.\n",
        "# Bad examples: don't do this\n",
        "\n",
        "# You can't reorder axes with reshape.\n",
        "print(tf.reshape(rank_3_tensor, [2, 3, 5]), \"\\n\") \n",
        "\n",
        "# This is a mess\n",
        "print(tf.reshape(rank_3_tensor, [5, 6]), \"\\n\")\n",
        "\n",
        "# This doesn't work at all\n",
        "try:\n",
        "  tf.reshape(rank_3_tensor, [7, -1])\n",
        "except Exception as e:\n",
        "  print(f\"{type(e).__name__}: {e}\")"
      ],
      "execution_count": null,
      "outputs": [
        {
          "output_type": "stream",
          "text": [
            "tf.Tensor(\n",
            "[[[ 0  1  2  3  4]\n",
            "  [ 5  6  7  8  9]\n",
            "  [10 11 12 13 14]]\n",
            "\n",
            " [[15 16 17 18 19]\n",
            "  [20 21 22 23 24]\n",
            "  [25 26 27 28 29]]], shape=(2, 3, 5), dtype=int32) \n",
            "\n",
            "tf.Tensor(\n",
            "[[ 0  1  2  3  4  5]\n",
            " [ 6  7  8  9 10 11]\n",
            " [12 13 14 15 16 17]\n",
            " [18 19 20 21 22 23]\n",
            " [24 25 26 27 28 29]], shape=(5, 6), dtype=int32) \n",
            "\n",
            "InvalidArgumentError: Input to reshape is a tensor with 30 values, but the requested shape requires a multiple of 7 [Op:Reshape]\n"
          ],
          "name": "stdout"
        }
      ]
    },
    {
      "cell_type": "code",
      "metadata": {
        "id": "9X3ryvxDf0nU",
        "colab": {
          "base_uri": "https://localhost:8080/"
        },
        "outputId": "7eeb6977-a072-4a40-aab9-9b49dbd575ec"
      },
      "source": [
        "#cast from type to type\n",
        "the_f64_tensor = tf.constant([2.2, 3.3, 4.4])\n",
        "print(the_f64_tensor)\n",
        "the_f16_tensor = tf.cast(the_f64_tensor ,dtype=tf.float16)\n",
        "print(the_f16_tensor)\n",
        "the_u8_tensor = tf.cast(the_f16_tensor, dtype=tf.uint8)\n",
        "print(the_u8_tensor)"
      ],
      "execution_count": null,
      "outputs": [
        {
          "output_type": "stream",
          "text": [
            "tf.Tensor([2.2 3.3 4.4], shape=(3,), dtype=float32)\n",
            "tf.Tensor([2.2 3.3 4.4], shape=(3,), dtype=float16)\n",
            "tf.Tensor([2 3 4], shape=(3,), dtype=uint8)\n"
          ],
          "name": "stdout"
        }
      ]
    },
    {
      "cell_type": "code",
      "metadata": {
        "id": "xlb1A3F_XgAV",
        "colab": {
          "base_uri": "https://localhost:8080/"
        },
        "outputId": "d5b3acde-32ac-470d-d10f-dace7873d868"
      },
      "source": [
        "# Braodcasting\n",
        "#Broadcasting is a concept borrowed from the equivalent feature in NumPy. In short, under certain conditions,\n",
        "#smaller tensors are \"stretched\" automatically to fit larger tensors when running combined operations on them.\n",
        "#The simplest and most common case is when you attempt to multiply or add a tensor to a scalar. In that case,\n",
        "#the scalar is broadcast to be the same shape as the other argument.\n",
        "x = tf.constant([1, 2, 3])\n",
        "y = tf.constant(2)\n",
        "z = tf.constant([2, 2, 2])\n",
        "# All of these are the same computation\n",
        "print(tf.multiply(x, 2))\n",
        "print(x * y)\n",
        "print(x * z)\n",
        "print('---------------------------------------' , \"\\n\")\n",
        "x = tf.constant([[1, 2, 3],[1,3,4]])\n",
        "y = tf.constant(2)\n",
        "z = tf.constant([[2, 2, 2],[2,2,2]])\n",
        "# All of these are the same computation\n",
        "m = tf.reshape(z,[3,2])\n",
        "print(m, \"\\n\")\n",
        "print(x * y, \"\\n\")\n",
        "print(x * z , \"\\n\")\n",
        "print(tf.matmul(x, m))"
      ],
      "execution_count": null,
      "outputs": [
        {
          "output_type": "stream",
          "text": [
            "tf.Tensor([2 4 6], shape=(3,), dtype=int32)\n",
            "tf.Tensor([2 4 6], shape=(3,), dtype=int32)\n",
            "tf.Tensor([2 4 6], shape=(3,), dtype=int32)\n",
            "--------------------------------------- \n",
            "\n",
            "tf.Tensor(\n",
            "[[2 2]\n",
            " [2 2]\n",
            " [2 2]], shape=(3, 2), dtype=int32) \n",
            "\n",
            "tf.Tensor(\n",
            "[[2 4 6]\n",
            " [2 6 8]], shape=(2, 3), dtype=int32) \n",
            "\n",
            "tf.Tensor(\n",
            "[[2 4 6]\n",
            " [2 6 8]], shape=(2, 3), dtype=int32) \n",
            "\n",
            "tf.Tensor(\n",
            "[[12 12]\n",
            " [16 16]], shape=(2, 2), dtype=int32)\n"
          ],
          "name": "stdout"
        }
      ]
    },
    {
      "cell_type": "code",
      "metadata": {
        "id": "CJaJ5NnJbZKd",
        "colab": {
          "base_uri": "https://localhost:8080/"
        },
        "outputId": "6cf409cd-7f1f-4e08-c263-0235c3b84909"
      },
      "source": [
        "#Likewise, 1-sized dimensions can be stretched out to match the other arguments. Both arguments can be stretched in the same computation.\n",
        "#In this case a 3x1 matrix is element-wise multiplied by a 1x4 matrix to produce a 3x4 matrix. Note how the leading 1 is optional: The shape of y is [4].\n",
        "# These are the same computations\n",
        "x = tf.constant([1, 2, 3])\n",
        "x = tf.reshape(x,[3,1])\n",
        "y = tf.range(1, 5)\n",
        "print(x, \"\\n\")\n",
        "print(y, \"\\n\")\n",
        "print(tf.multiply(x, y))"
      ],
      "execution_count": null,
      "outputs": [
        {
          "output_type": "stream",
          "text": [
            "tf.Tensor(\n",
            "[[1]\n",
            " [2]\n",
            " [3]], shape=(3, 1), dtype=int32) \n",
            "\n",
            "tf.Tensor([1 2 3 4], shape=(4,), dtype=int32) \n",
            "\n",
            "tf.Tensor(\n",
            "[[ 1  2  3  4]\n",
            " [ 2  4  6  8]\n",
            " [ 3  6  9 12]], shape=(3, 4), dtype=int32)\n"
          ],
          "name": "stdout"
        }
      ]
    },
    {
      "cell_type": "code",
      "metadata": {
        "id": "1gxu7TlAb3cv",
        "colab": {
          "base_uri": "https://localhost:8080/"
        },
        "outputId": "aa14e31b-9c21-4d39-ed3b-943bc331a171"
      },
      "source": [
        "# without broadcasting \n",
        "#Here is the same operation without broadcasting:\n",
        "x_stretch = tf.constant([[1, 1, 1, 1],\n",
        "                         [2, 2, 2, 2],\n",
        "                         [3, 3, 3, 3]])\n",
        "\n",
        "y_stretch = tf.constant([[1, 2, 3, 4],\n",
        "                         [1, 2, 3, 4],\n",
        "                         [1, 2, 3, 4]])\n",
        "\n",
        "print(x_stretch * y_stretch)  # Again, operator overloading"
      ],
      "execution_count": null,
      "outputs": [
        {
          "output_type": "stream",
          "text": [
            "tf.Tensor(\n",
            "[[ 1  2  3  4]\n",
            " [ 2  4  6  8]\n",
            " [ 3  6  9 12]], shape=(3, 4), dtype=int32)\n"
          ],
          "name": "stdout"
        }
      ]
    },
    {
      "cell_type": "code",
      "metadata": {
        "id": "7hKpwILFc9ks",
        "colab": {
          "base_uri": "https://localhost:8080/"
        },
        "outputId": "c6e91360-d500-4c15-b523-46b8840d13d7"
      },
      "source": [
        "#what broadcasting looks like using tf.broadcast_to\n",
        "print(tf.broadcast_to(tf.constant([1, 2, 3]), [6, 3]))"
      ],
      "execution_count": null,
      "outputs": [
        {
          "output_type": "stream",
          "text": [
            "tf.Tensor(\n",
            "[[1 2 3]\n",
            " [1 2 3]\n",
            " [1 2 3]\n",
            " [1 2 3]\n",
            " [1 2 3]\n",
            " [1 2 3]], shape=(6, 3), dtype=int32)\n"
          ],
          "name": "stdout"
        }
      ]
    },
    {
      "cell_type": "code",
      "metadata": {
        "id": "XYHruUO0yKwQ",
        "colab": {
          "base_uri": "https://localhost:8080/"
        },
        "outputId": "9e499fa4-9a8e-4c00-b26a-eeaa279d7a27"
      },
      "source": [
        "#Ragged Tensors\n",
        "#A tensor with variable numbers of elements along some axis is called \"ragged\". Use tf.ragged.RaggedTensor for ragged data.\n",
        "ragged_list = [\n",
        "    [0, 1, 2, 3],\n",
        "    [4, 5],\n",
        "    [6, 7, 8],\n",
        "    [9]]\n",
        "try:\n",
        "  tensor = tf.constant(ragged_list)\n",
        "except Exception as e:\n",
        "  print(f\"{type(e).__name__}: {e}\")"
      ],
      "execution_count": null,
      "outputs": [
        {
          "output_type": "stream",
          "text": [
            "ValueError: Can't convert non-rectangular Python sequence to Tensor.\n"
          ],
          "name": "stdout"
        }
      ]
    },
    {
      "cell_type": "code",
      "metadata": {
        "id": "7R42q0XwycfX",
        "colab": {
          "base_uri": "https://localhost:8080/"
        },
        "outputId": "46454207-e43b-4a92-e848-e2952a53e737"
      },
      "source": [
        "#Instead create a tf.RaggedTensor using tf.ragged.constant:\n",
        "ragged_tensor = tf.ragged.constant(ragged_list)\n",
        "print(ragged_tensor)\n",
        "# shape of ragged_tensor\n",
        "print(ragged_tensor.shape)\n"
      ],
      "execution_count": null,
      "outputs": [
        {
          "output_type": "stream",
          "text": [
            "<tf.RaggedTensor [[0, 1, 2, 3], [4, 5], [6, 7, 8], [9]]>\n",
            "(4, None)\n"
          ],
          "name": "stdout"
        }
      ]
    },
    {
      "cell_type": "code",
      "metadata": {
        "id": "w5WJW7K8yr_6"
      },
      "source": [
        "#String tensors"
      ],
      "execution_count": null,
      "outputs": []
    },
    {
      "cell_type": "markdown",
      "metadata": {
        "id": "iP0dctzEQ8Z9"
      },
      "source": [
        "# **tf.variable**"
      ]
    },
    {
      "cell_type": "code",
      "metadata": {
        "id": "0gvyBOeL1ToN"
      },
      "source": [
        "#A TensorFlow variable is the recommended way to represent shared, persistent state your program manipulates. \n",
        "#Variables are created and tracked via the tf.Variable class. A tf.Variable represents a tensor whose value can be changed by running ops on it. \n",
        "#Specific ops allow you to read and modify the values of this tensor."
      ],
      "execution_count": null,
      "outputs": []
    },
    {
      "cell_type": "code",
      "metadata": {
        "id": "QCkHpyoP19FA"
      },
      "source": [
        "#Create a variable\n",
        "my_tensor = tf.constant([[1.0, 2.0], [3.0, 4.0]])\n",
        "my_variable = tf.Variable(my_tensor)\n",
        "\n",
        "# Variables can be all kinds of types, just like tensors\n",
        "bool_variable = tf.Variable([False, False, False, True])\n",
        "complex_variable = tf.Variable([5 + 4j, 6 + 1j])"
      ],
      "execution_count": null,
      "outputs": []
    },
    {
      "cell_type": "code",
      "metadata": {
        "id": "zOd1GvCp2h6_",
        "colab": {
          "base_uri": "https://localhost:8080/"
        },
        "outputId": "9504ba65-5279-4c52-e508-82bc07953186"
      },
      "source": [
        "# variable looks and acts like a tensor, and, in fact, is a data structure backed by a tf.Tensor. \n",
        "#Like tensors, they have a dtype and a shape, and can be exported to NumPy.\n",
        "print(\"Shape: \", my_variable.shape)\n",
        "print(\"DType: \", my_variable.dtype)\n",
        "print(\"As NumPy: \", my_variable.numpy())"
      ],
      "execution_count": null,
      "outputs": [
        {
          "output_type": "stream",
          "text": [
            "Shape:  (2, 2)\n",
            "DType:  <dtype: 'float32'>\n",
            "As NumPy:  [[1. 2.]\n",
            " [3. 4.]]\n"
          ],
          "name": "stdout"
        }
      ]
    },
    {
      "cell_type": "code",
      "metadata": {
        "id": "Us8JHlUk3rCM",
        "colab": {
          "base_uri": "https://localhost:8080/"
        },
        "outputId": "4590a3db-5176-43cb-ddb4-016ceae150a0"
      },
      "source": [
        "# Most tensor operations work on variables as expected, although variables cannot be reshaped.\n",
        "print(\"A variable:\", my_variable)\n",
        "print(\"\\nViewed as a tensor:\", tf.convert_to_tensor(my_variable))\n",
        "print(\"\\nIndex of highest value:\", tf.argmax(my_variable))\n",
        "\n",
        "# This creates a new tensor; it does not reshape the variable.\n",
        "print(\"\\nCopying and reshaping: \", tf.reshape(my_variable, ([1,4])))"
      ],
      "execution_count": null,
      "outputs": [
        {
          "output_type": "stream",
          "text": [
            "A variable: <tf.Variable 'Variable:0' shape=(2, 2) dtype=float32, numpy=\n",
            "array([[1., 2.],\n",
            "       [3., 4.]], dtype=float32)>\n",
            "\n",
            "Viewed as a tensor: tf.Tensor(\n",
            "[[1. 2.]\n",
            " [3. 4.]], shape=(2, 2), dtype=float32)\n",
            "\n",
            "Index of highest value: tf.Tensor([1 1], shape=(2,), dtype=int64)\n",
            "\n",
            "Copying and reshaping:  tf.Tensor([[1. 2. 3. 4.]], shape=(1, 4), dtype=float32)\n"
          ],
          "name": "stdout"
        }
      ]
    },
    {
      "cell_type": "code",
      "metadata": {
        "id": "J4dccRkw4-bx",
        "colab": {
          "base_uri": "https://localhost:8080/"
        },
        "outputId": "8f07f5ee-953d-4c5f-a6f6-295f7c1db781"
      },
      "source": [
        "#reassign the tensor using tf.Variable.assign. Calling assign does not (usually) allocate a new tensor; instead, the existing tensor's memory is reused.\n",
        "a = tf.Variable([2.0, 3.0])\n",
        "print(a)\n",
        "# This will keep the same dtype, float32\n",
        "print(a.assign([1, 2]))\n",
        "# Not allowed as it resizes the variable: \n",
        "try:\n",
        "  a.assign([1.0, 2.0, 3.0])\n",
        "except Exception as e:\n",
        "  print(f\"{type(e).__name__}: {e}\")"
      ],
      "execution_count": null,
      "outputs": [
        {
          "output_type": "stream",
          "text": [
            "<tf.Variable 'Variable:0' shape=(2,) dtype=float32, numpy=array([2., 3.], dtype=float32)>\n",
            "<tf.Variable 'UnreadVariable' shape=(2,) dtype=float32, numpy=array([1., 2.], dtype=float32)>\n",
            "ValueError: Shapes (2,) and (3,) are incompatible\n"
          ],
          "name": "stdout"
        }
      ]
    },
    {
      "cell_type": "code",
      "metadata": {
        "id": "BxdtzbBd5vcK",
        "colab": {
          "base_uri": "https://localhost:8080/"
        },
        "outputId": "25c43d15-021f-4505-e4df-3dc6df93af43"
      },
      "source": [
        "#Creating new variables from existing variables duplicates the backing tensors. Two variables will not share the same memory.\n",
        "a = tf.Variable([2.0, 3.0])\n",
        "# Create b based on the value of a\n",
        "b = tf.Variable(a)\n",
        "a.assign([5, 6])\n",
        "\n",
        "# a and b are different\n",
        "print(a.numpy())\n",
        "print(b.numpy())\n",
        "\n",
        "# There are other versions of assign\n",
        "print(a.assign_add([2,3]).numpy())  # [7. 9.]\n",
        "print(a.assign_sub([7,9]).numpy())  # [0. 0.]\n",
        "\n"
      ],
      "execution_count": null,
      "outputs": [
        {
          "output_type": "stream",
          "text": [
            "[5. 6.]\n",
            "[2. 3.]\n",
            "[7. 9.]\n",
            "[0. 0.]\n"
          ],
          "name": "stdout"
        }
      ]
    },
    {
      "cell_type": "code",
      "metadata": {
        "id": "M-7yO5XV_L_2",
        "colab": {
          "base_uri": "https://localhost:8080/"
        },
        "outputId": "1ba3dd9b-437d-47c0-cedc-d054a9af3369"
      },
      "source": [
        "#In Python-based TensorFlow, tf.Variable instance have the same lifecycle as other Python objects. When there are no references to a variable it is automatically deallocated.\n",
        "#Variables can also be named which can help you track and debug them. You can give two variables the same name.\n",
        "my_tensor = tf.constant([[1.0, 2.0], [3.0, 4.0]])\n",
        "# Create a and b; they will have the same name but will be backed by\n",
        "# different tensors.\n",
        "a = tf.Variable(my_tensor, name=\"Mark\")\n",
        "print(a)\n",
        "# A new variable with the same name, but different value\n",
        "# Note that the scalar add is broadcast\n",
        "b = tf.Variable(my_tensor+1 , name=\"Mark\")\n",
        "print(b)\n",
        "# These are elementwise-unequal, despite having the same name\n",
        "print(a == b)\n"
      ],
      "execution_count": null,
      "outputs": [
        {
          "output_type": "stream",
          "text": [
            "<tf.Variable 'Mark:0' shape=(2, 2) dtype=float32, numpy=\n",
            "array([[1., 2.],\n",
            "       [3., 4.]], dtype=float32)>\n",
            "<tf.Variable 'Mark:0' shape=(2, 2) dtype=float32, numpy=\n",
            "array([[2., 3.],\n",
            "       [4., 5.]], dtype=float32)>\n",
            "tf.Tensor(\n",
            "[[False False]\n",
            " [False False]], shape=(2, 2), dtype=bool)\n"
          ],
          "name": "stdout"
        }
      ]
    },
    {
      "cell_type": "code",
      "metadata": {
        "id": "VyD9UbAbRKP7",
        "colab": {
          "base_uri": "https://localhost:8080/"
        },
        "outputId": "41bee7d5-028b-4a40-f5ce-1de5a4d12638"
      },
      "source": [
        "v = tf.Variable(1.)\n",
        "v"
      ],
      "execution_count": null,
      "outputs": [
        {
          "output_type": "execute_result",
          "data": {
            "text/plain": [
              "<tf.Variable 'Variable:0' shape=() dtype=float32, numpy=1.0>"
            ]
          },
          "metadata": {
            "tags": []
          },
          "execution_count": 33
        }
      ]
    },
    {
      "cell_type": "code",
      "metadata": {
        "id": "AjNSn8taS2hK",
        "colab": {
          "base_uri": "https://localhost:8080/"
        },
        "outputId": "b81639b2-37e6-46a0-97f6-4be11e473b2d"
      },
      "source": [
        "v.assign(2.)"
      ],
      "execution_count": null,
      "outputs": [
        {
          "output_type": "execute_result",
          "data": {
            "text/plain": [
              "<tf.Variable 'UnreadVariable' shape=() dtype=float32, numpy=2.0>"
            ]
          },
          "metadata": {
            "tags": []
          },
          "execution_count": 34
        }
      ]
    },
    {
      "cell_type": "code",
      "metadata": {
        "id": "EcL2bOu7S_m9",
        "colab": {
          "base_uri": "https://localhost:8080/"
        },
        "outputId": "ebd07c8a-80bf-4182-e701-b028b411b245"
      },
      "source": [
        "v.assign_add(0.5)"
      ],
      "execution_count": null,
      "outputs": [
        {
          "output_type": "execute_result",
          "data": {
            "text/plain": [
              "<tf.Variable 'UnreadVariable' shape=() dtype=float32, numpy=2.5>"
            ]
          },
          "metadata": {
            "tags": []
          },
          "execution_count": 35
        }
      ]
    },
    {
      "cell_type": "code",
      "metadata": {
        "id": "MJNJRYElTIIO",
        "colab": {
          "base_uri": "https://localhost:8080/"
        },
        "outputId": "fbbcc8c0-457d-4184-bba8-681a5b02da6c"
      },
      "source": [
        "v.assign_sub(2)"
      ],
      "execution_count": null,
      "outputs": [
        {
          "output_type": "execute_result",
          "data": {
            "text/plain": [
              "<tf.Variable 'UnreadVariable' shape=() dtype=float32, numpy=0.5>"
            ]
          },
          "metadata": {
            "tags": []
          },
          "execution_count": 36
        }
      ]
    },
    {
      "cell_type": "code",
      "metadata": {
        "id": "PFYHETpTT3Z4",
        "colab": {
          "base_uri": "https://localhost:8080/"
        },
        "outputId": "62013070-89d5-41ad-8592-07be92884abc"
      },
      "source": [
        "v = tf.Variable(1., shape=tf.TensorShape(None))\n",
        "v.assign([[1.]])"
      ],
      "execution_count": null,
      "outputs": [
        {
          "output_type": "execute_result",
          "data": {
            "text/plain": [
              "<tf.Variable 'UnreadVariable' shape=<unknown> dtype=float32, numpy=array([[1.]], dtype=float32)>"
            ]
          },
          "metadata": {
            "tags": []
          },
          "execution_count": 37
        }
      ]
    },
    {
      "cell_type": "code",
      "metadata": {
        "id": "NPMgfe92ZItj",
        "colab": {
          "base_uri": "https://localhost:8080/"
        },
        "outputId": "fcbdf07a-3b24-470f-f988-dc837d8fc6ef"
      },
      "source": [
        "w = tf.Variable([[1.], [2.]])\n",
        "x = tf.constant([[3., 4.]])\n",
        "tf.matmul(w, x)"
      ],
      "execution_count": null,
      "outputs": [
        {
          "output_type": "execute_result",
          "data": {
            "text/plain": [
              "<tf.Tensor: shape=(2, 2), dtype=float32, numpy=\n",
              "array([[3., 4.],\n",
              "       [6., 8.]], dtype=float32)>"
            ]
          },
          "metadata": {
            "tags": []
          },
          "execution_count": 38
        }
      ]
    },
    {
      "cell_type": "code",
      "metadata": {
        "id": "fbZfgAGyZb87",
        "colab": {
          "base_uri": "https://localhost:8080/"
        },
        "outputId": "eb9b3900-c4f6-41e6-86b8-ef77bfe9d27f"
      },
      "source": [
        "tf.add(w, x)"
      ],
      "execution_count": null,
      "outputs": [
        {
          "output_type": "execute_result",
          "data": {
            "text/plain": [
              "<tf.Tensor: shape=(2, 2), dtype=float32, numpy=\n",
              "array([[4., 5.],\n",
              "       [5., 6.]], dtype=float32)>"
            ]
          },
          "metadata": {
            "tags": []
          },
          "execution_count": 39
        }
      ]
    },
    {
      "cell_type": "code",
      "metadata": {
        "id": "NAOYdpyzZKbD",
        "colab": {
          "base_uri": "https://localhost:8080/"
        },
        "outputId": "2852878a-dfea-438a-d3d2-836acfaa9828"
      },
      "source": [
        "tf.sigmoid(w + x)"
      ],
      "execution_count": null,
      "outputs": [
        {
          "output_type": "execute_result",
          "data": {
            "text/plain": [
              "<tf.Tensor: shape=(2, 2), dtype=float32, numpy=\n",
              "array([[0.98201376, 0.9933071 ],\n",
              "       [0.9933071 , 0.99752736]], dtype=float32)>"
            ]
          },
          "metadata": {
            "tags": []
          },
          "execution_count": 40
        }
      ]
    },
    {
      "cell_type": "code",
      "metadata": {
        "id": "vYR5YsYCvHBC",
        "colab": {
          "base_uri": "https://localhost:8080/"
        },
        "outputId": "410ac7c8-12f8-49ca-b9ff-23081d6b20fe"
      },
      "source": [
        "print(tf.add([[1, 2, 0],[1,2,5]], [[3, 4, 5],[3,5,3]]))"
      ],
      "execution_count": null,
      "outputs": [
        {
          "output_type": "stream",
          "text": [
            "tf.Tensor(\n",
            "[[4 6 5]\n",
            " [4 7 8]], shape=(2, 3), dtype=int32)\n"
          ],
          "name": "stdout"
        }
      ]
    },
    {
      "cell_type": "code",
      "metadata": {
        "id": "BaXKJmuaw-RO",
        "colab": {
          "base_uri": "https://localhost:8080/"
        },
        "outputId": "2a2eb004-55a5-41ad-d6c4-67f42b5e66b0"
      },
      "source": [
        "x = tf.add([1, 2], [3, 4])\n",
        "print(x)\n",
        "print(x.shape)\n",
        "\n"
      ],
      "execution_count": null,
      "outputs": [
        {
          "output_type": "stream",
          "text": [
            "tf.Tensor([4 6], shape=(2,), dtype=int32)\n",
            "(2,)\n"
          ],
          "name": "stdout"
        }
      ]
    },
    {
      "cell_type": "markdown",
      "metadata": {
        "id": "i23pb0TTy-NN"
      },
      "source": [
        "# **Nupmy**"
      ]
    },
    {
      "cell_type": "code",
      "metadata": {
        "id": "oBYHxg3DzBfr",
        "colab": {
          "base_uri": "https://localhost:8080/"
        },
        "outputId": "d2371498-1cb8-4af5-c9fb-473479d24631"
      },
      "source": [
        "import numpy as np\n",
        "\n",
        "ndarray = np.ones([3, 3])\n",
        "\n",
        "print(\"TensorFlow operations convert numpy arrays to Tensors automatically\")\n",
        "tensor = tf.multiply(ndarray, 42)\n",
        "print(tensor)\n",
        "\n",
        "\n",
        "print(\"And NumPy operations convert Tensors to numpy arrays automatically\")\n",
        "print(np.add(tensor, 1))\n",
        "\n",
        "print(\"The .numpy() method explicitly converts a Tensor to a numpy array\")\n",
        "print(tensor.numpy())"
      ],
      "execution_count": null,
      "outputs": [
        {
          "output_type": "stream",
          "text": [
            "TensorFlow operations convert numpy arrays to Tensors automatically\n",
            "tf.Tensor(\n",
            "[[42. 42. 42.]\n",
            " [42. 42. 42.]\n",
            " [42. 42. 42.]], shape=(3, 3), dtype=float64)\n",
            "And NumPy operations convert Tensors to numpy arrays automatically\n",
            "[[43. 43. 43.]\n",
            " [43. 43. 43.]\n",
            " [43. 43. 43.]]\n",
            "The .numpy() method explicitly converts a Tensor to a numpy array\n",
            "[[42. 42. 42.]\n",
            " [42. 42. 42.]\n",
            " [42. 42. 42.]]\n"
          ],
          "name": "stdout"
        }
      ]
    },
    {
      "cell_type": "code",
      "metadata": {
        "id": "wDfGeVzA0cFo",
        "colab": {
          "base_uri": "https://localhost:8080/"
        },
        "outputId": "067895eb-74e4-4900-86c7-8f2c28fdc2fd"
      },
      "source": [
        "x = tf.random.uniform([3, 3])\n",
        "\n",
        "print(\"Is there a GPU available: \"),\n",
        "print(tf.config.experimental.list_physical_devices(\"GPU\"))\n",
        "\n",
        "print(\"Is the Tensor on GPU #0:  \"),\n",
        "print(x.device.endswith('GPU:0'))"
      ],
      "execution_count": null,
      "outputs": [
        {
          "output_type": "stream",
          "text": [
            "Is there a GPU available: \n",
            "[]\n",
            "Is the Tensor on GPU #0:  \n",
            "False\n"
          ],
          "name": "stdout"
        }
      ]
    },
    {
      "cell_type": "code",
      "metadata": {
        "id": "h__DUkUZ2_Ri",
        "colab": {
          "base_uri": "https://localhost:8080/"
        },
        "outputId": "7ad21b12-3491-448d-ce52-13c10f3f55b9"
      },
      "source": [
        "a = np.array([[8,1,6],[8,1,6],[8,1,6]])\n",
        "b = np.array([[7,2,2],[8,1,6],[8,1,3]])\n",
        "c = a*b\n",
        "print(c)\n",
        "print(a.shape)\n",
        "print(b.shape)"
      ],
      "execution_count": null,
      "outputs": [
        {
          "output_type": "stream",
          "text": [
            "[[56  2 12]\n",
            " [64  1 36]\n",
            " [64  1 18]]\n",
            "(3, 3)\n",
            "(3, 3)\n"
          ],
          "name": "stdout"
        }
      ]
    },
    {
      "cell_type": "code",
      "metadata": {
        "id": "uruzNYSDOKPV",
        "colab": {
          "base_uri": "https://localhost:8080/"
        },
        "outputId": "7ba50a1f-5d2b-4060-9a7c-e11463b9dd52"
      },
      "source": [
        "a = np.matrix([[8,6],[2,4]])\n",
        "b= np.matrix([[7,2],[5,5]])\n",
        "c= a*b\n",
        "print(c)\n"
      ],
      "execution_count": null,
      "outputs": [
        {
          "output_type": "stream",
          "text": [
            "[[86 46]\n",
            " [34 24]]\n"
          ],
          "name": "stdout"
        }
      ]
    },
    {
      "cell_type": "code",
      "metadata": {
        "id": "0gs5znvULMnh",
        "colab": {
          "base_uri": "https://localhost:8080/"
        },
        "outputId": "88faa6ac-558f-45f0-e88a-8770ef7bc1f4"
      },
      "source": [
        "print(np.dot(a,b))"
      ],
      "execution_count": null,
      "outputs": [
        {
          "output_type": "stream",
          "text": [
            "[[86 46]\n",
            " [34 24]]\n"
          ],
          "name": "stdout"
        }
      ]
    },
    {
      "cell_type": "code",
      "metadata": {
        "id": "3-7_gWMA4dss",
        "colab": {
          "base_uri": "https://localhost:8080/"
        },
        "outputId": "69d6ae18-d3c1-4363-aff2-a57f7f07632e"
      },
      "source": [
        "a = np.array([256,256,3])\n",
        "b= 3\n",
        "c= a*b\n",
        "print(c)"
      ],
      "execution_count": null,
      "outputs": [
        {
          "output_type": "stream",
          "text": [
            "[768 768   9]\n"
          ],
          "name": "stdout"
        }
      ]
    },
    {
      "cell_type": "code",
      "metadata": {
        "id": "cJDxqkOT_8WR",
        "colab": {
          "base_uri": "https://localhost:8080/"
        },
        "outputId": "96e6c220-482c-4d63-e913-0f9f9907f09d"
      },
      "source": [
        " x= np.array([[12,7,3],[12,7,3],[12,7,3]])\n",
        "print(x.shape)"
      ],
      "execution_count": null,
      "outputs": [
        {
          "output_type": "stream",
          "text": [
            "(3, 3)\n"
          ],
          "name": "stdout"
        }
      ]
    },
    {
      "cell_type": "code",
      "metadata": {
        "id": "XBBohqLaT7yQ",
        "colab": {
          "base_uri": "https://localhost:8080/"
        },
        "outputId": "ae1fedc3-33b6-4ba7-a598-31d265ad71d3"
      },
      "source": [
        "print(np.__version__)\n",
        "np.show_config()"
      ],
      "execution_count": null,
      "outputs": [
        {
          "output_type": "stream",
          "text": [
            "1.18.5\n",
            "blas_mkl_info:\n",
            "  NOT AVAILABLE\n",
            "blis_info:\n",
            "  NOT AVAILABLE\n",
            "openblas_info:\n",
            "    libraries = ['openblas', 'openblas']\n",
            "    library_dirs = ['/usr/local/lib']\n",
            "    language = c\n",
            "    define_macros = [('HAVE_CBLAS', None)]\n",
            "blas_opt_info:\n",
            "    libraries = ['openblas', 'openblas']\n",
            "    library_dirs = ['/usr/local/lib']\n",
            "    language = c\n",
            "    define_macros = [('HAVE_CBLAS', None)]\n",
            "lapack_mkl_info:\n",
            "  NOT AVAILABLE\n",
            "openblas_lapack_info:\n",
            "    libraries = ['openblas', 'openblas']\n",
            "    library_dirs = ['/usr/local/lib']\n",
            "    language = c\n",
            "    define_macros = [('HAVE_CBLAS', None)]\n",
            "lapack_opt_info:\n",
            "    libraries = ['openblas', 'openblas']\n",
            "    library_dirs = ['/usr/local/lib']\n",
            "    language = c\n",
            "    define_macros = [('HAVE_CBLAS', None)]\n"
          ],
          "name": "stdout"
        }
      ]
    },
    {
      "cell_type": "code",
      "metadata": {
        "id": "tn4IM9sHUMKA",
        "colab": {
          "base_uri": "https://localhost:8080/"
        },
        "outputId": "184468e0-daaf-4edc-87af-d1e2f04f128c"
      },
      "source": [
        "Z = np.zeros(10)\n",
        "print(Z)"
      ],
      "execution_count": null,
      "outputs": [
        {
          "output_type": "stream",
          "text": [
            "[0. 0. 0. 0. 0. 0. 0. 0. 0. 0.]\n"
          ],
          "name": "stdout"
        }
      ]
    },
    {
      "cell_type": "code",
      "metadata": {
        "id": "NEey5wPRUOLI",
        "colab": {
          "base_uri": "https://localhost:8080/"
        },
        "outputId": "9c9e3846-a085-4ae2-979f-5d05bd852aa4"
      },
      "source": [
        "b = tf.variable_creator_scope(np.zeros([10]))\n",
        "print(b)"
      ],
      "execution_count": null,
      "outputs": [
        {
          "output_type": "stream",
          "text": [
            "<contextlib._GeneratorContextManager object at 0x7f2c3026b940>\n"
          ],
          "name": "stdout"
        }
      ]
    },
    {
      "cell_type": "code",
      "metadata": {
        "id": "Jb58IkHFU_0Q",
        "colab": {
          "base_uri": "https://localhost:8080/"
        },
        "outputId": "8a2dcdf3-8e39-4a3b-b582-74ae460716ea"
      },
      "source": [
        "x = tf.constant([1,3,4])\n",
        "x"
      ],
      "execution_count": null,
      "outputs": [
        {
          "output_type": "execute_result",
          "data": {
            "text/plain": [
              "<tf.Tensor: shape=(3,), dtype=int32, numpy=array([1, 3, 4], dtype=int32)>"
            ]
          },
          "metadata": {
            "tags": []
          },
          "execution_count": 53
        }
      ]
    },
    {
      "cell_type": "code",
      "metadata": {
        "id": "O-2IyPilVNBa",
        "colab": {
          "base_uri": "https://localhost:8080/"
        },
        "outputId": "acd0683c-9177-48a6-8dd4-9511306db1e7"
      },
      "source": [
        "w=tf.random.normal([1,3])\n",
        "w"
      ],
      "execution_count": null,
      "outputs": [
        {
          "output_type": "execute_result",
          "data": {
            "text/plain": [
              "<tf.Tensor: shape=(1, 3), dtype=float32, numpy=array([[1.1468066 , 0.96459925, 0.87830144]], dtype=float32)>"
            ]
          },
          "metadata": {
            "tags": []
          },
          "execution_count": 54
        }
      ]
    },
    {
      "cell_type": "code",
      "metadata": {
        "id": "ivJtRuwnVqCG",
        "colab": {
          "base_uri": "https://localhost:8080/"
        },
        "outputId": "9937b69e-56ad-4420-c190-f8ecacfe2c29"
      },
      "source": [
        "#http://www.projelecom.ir/2018/08/21/%d8%b4%d8%b1%d9%88%d8%b9-%d8%a8%d9%87-%d8%a7%d8%b3%d8%aa%d9%81%d8%a7%d8%af%d9%87-%d8%a7%d8%b2-%da%a9%d8%aa%d8%a7%d8%a8%d8%ae%d8%a7%d9%86%d9%87-numpy-%d8%af%d8%b1-%d9%be%d8%a7%db%8c%d8%aa%d9%88%d9%86/\n",
        "\n",
        "Z = np.zeros((10,10))\n",
        "print(\"%d bytes\" % (Z.size * Z.itemsize))\n",
        "print(Z.size)\n",
        "print(Z.itemsize)"
      ],
      "execution_count": null,
      "outputs": [
        {
          "output_type": "stream",
          "text": [
            "800 bytes\n",
            "100\n",
            "8\n"
          ],
          "name": "stdout"
        }
      ]
    },
    {
      "cell_type": "code",
      "metadata": {
        "id": "BAwCE9NGXkHY",
        "colab": {
          "base_uri": "https://localhost:8080/"
        },
        "outputId": "de496f96-0cb8-48db-955d-ff4274dedb49"
      },
      "source": [
        "Z = np.zeros(10)\n",
        "Z[4] = 1\n",
        "print(Z)"
      ],
      "execution_count": null,
      "outputs": [
        {
          "output_type": "stream",
          "text": [
            "[0. 0. 0. 0. 1. 0. 0. 0. 0. 0.]\n"
          ],
          "name": "stdout"
        }
      ]
    },
    {
      "cell_type": "code",
      "metadata": {
        "id": "diHt8FxIYqUM",
        "colab": {
          "base_uri": "https://localhost:8080/"
        },
        "outputId": "1f547fdb-5310-47d5-df35-745273cd334e"
      },
      "source": [
        "Z = np.arange(10,50)\n",
        "print(Z)"
      ],
      "execution_count": null,
      "outputs": [
        {
          "output_type": "stream",
          "text": [
            "[10 11 12 13 14 15 16 17 18 19 20 21 22 23 24 25 26 27 28 29 30 31 32 33\n",
            " 34 35 36 37 38 39 40 41 42 43 44 45 46 47 48 49]\n"
          ],
          "name": "stdout"
        }
      ]
    },
    {
      "cell_type": "code",
      "metadata": {
        "id": "stMsXRA5Z0r_",
        "colab": {
          "base_uri": "https://localhost:8080/"
        },
        "outputId": "af084a1f-b89c-433a-a195-9cb64f5f9110"
      },
      "source": [
        "Z = np.arange(50)\n",
        "Z = Z[::-1]\n",
        "print(Z)"
      ],
      "execution_count": null,
      "outputs": [
        {
          "output_type": "stream",
          "text": [
            "[49 48 47 46 45 44 43 42 41 40 39 38 37 36 35 34 33 32 31 30 29 28 27 26\n",
            " 25 24 23 22 21 20 19 18 17 16 15 14 13 12 11 10  9  8  7  6  5  4  3  2\n",
            "  1  0]\n"
          ],
          "name": "stdout"
        }
      ]
    },
    {
      "cell_type": "code",
      "metadata": {
        "id": "Df-5ZMR4bYX0",
        "colab": {
          "base_uri": "https://localhost:8080/"
        },
        "outputId": "cff58cc7-f18d-4ae4-e560-60fb536894ee"
      },
      "source": [
        "Z = np.arange(9).reshape(3,3)\n",
        "print(Z)"
      ],
      "execution_count": null,
      "outputs": [
        {
          "output_type": "stream",
          "text": [
            "[[0 1 2]\n",
            " [3 4 5]\n",
            " [6 7 8]]\n"
          ],
          "name": "stdout"
        }
      ]
    },
    {
      "cell_type": "code",
      "metadata": {
        "id": "i6aMDuBCbtIs",
        "colab": {
          "base_uri": "https://localhost:8080/"
        },
        "outputId": "25dee5e8-3fe5-46b2-943e-001735fb1dfa"
      },
      "source": [
        "nz = np.nonzero([1,2,0,0,4,0])\n",
        "print(nz)"
      ],
      "execution_count": null,
      "outputs": [
        {
          "output_type": "stream",
          "text": [
            "(array([0, 1, 4]),)\n"
          ],
          "name": "stdout"
        }
      ]
    },
    {
      "cell_type": "code",
      "metadata": {
        "id": "qCb1sAqpb2aw",
        "colab": {
          "base_uri": "https://localhost:8080/"
        },
        "outputId": "ab332826-8d1f-4ff8-8ce1-a8024d340dd7"
      },
      "source": [
        "Z = np.eye(3)\n",
        "print(Z)"
      ],
      "execution_count": null,
      "outputs": [
        {
          "output_type": "stream",
          "text": [
            "[[1. 0. 0.]\n",
            " [0. 1. 0.]\n",
            " [0. 0. 1.]]\n"
          ],
          "name": "stdout"
        }
      ]
    },
    {
      "cell_type": "code",
      "metadata": {
        "id": "VeWprSKkcHLi",
        "colab": {
          "base_uri": "https://localhost:8080/"
        },
        "outputId": "e84b1b9c-58cf-4b71-be21-795a810abf9c"
      },
      "source": [
        "Z = np.random.random((3,3,3))\n",
        "print(Z)"
      ],
      "execution_count": null,
      "outputs": [
        {
          "output_type": "stream",
          "text": [
            "[[[0.9789358  0.14326439 0.15774863]\n",
            "  [0.64009937 0.03539458 0.97428542]\n",
            "  [0.26875201 0.28982658 0.34707366]]\n",
            "\n",
            " [[0.25450706 0.32905994 0.23628539]\n",
            "  [0.5777372  0.7812877  0.38279841]\n",
            "  [0.11214424 0.30331192 0.83385136]]\n",
            "\n",
            " [[0.60937133 0.37917787 0.79685839]\n",
            "  [0.65951182 0.82662914 0.73500126]\n",
            "  [0.80263579 0.01061178 0.18730975]]]\n"
          ],
          "name": "stdout"
        }
      ]
    },
    {
      "cell_type": "code",
      "metadata": {
        "id": "-DzV1sAZcuRT",
        "colab": {
          "base_uri": "https://localhost:8080/"
        },
        "outputId": "870c05fa-3472-481d-8262-88359a776a17"
      },
      "source": [
        "#Max and Min of random Vector \n",
        "Z = np.random.random((10,10))\n",
        "print(Z)\n",
        "Zmin, Zmax = Z.min(), Z.max()\n",
        "print(Zmin, Zmax)"
      ],
      "execution_count": null,
      "outputs": [
        {
          "output_type": "stream",
          "text": [
            "[[0.75661549 0.16135045 0.08957807 0.30653896 0.29420047 0.66834485\n",
            "  0.99154762 0.13653099 0.02152753 0.08990968]\n",
            " [0.08016174 0.43999115 0.13250694 0.85843548 0.35449436 0.8442137\n",
            "  0.12016131 0.83725723 0.13622255 0.51280345]\n",
            " [0.95086587 0.62417084 0.32695893 0.87304167 0.33285704 0.54559199\n",
            "  0.09302585 0.2446828  0.08585572 0.0414752 ]\n",
            " [0.36698214 0.65397697 0.95129053 0.66154461 0.70678874 0.35893243\n",
            "  0.38266231 0.99248437 0.38103531 0.81524195]\n",
            " [0.28257315 0.66445056 0.68438078 0.7897688  0.70144756 0.32606342\n",
            "  0.41450104 0.04122119 0.30291892 0.15312536]\n",
            " [0.65870066 0.65527995 0.41762874 0.76509541 0.91385211 0.69776533\n",
            "  0.03515784 0.96699399 0.28912828 0.18435773]\n",
            " [0.54713142 0.92867745 0.26657859 0.73898252 0.27484917 0.88061901\n",
            "  0.7712138  0.12852817 0.5381674  0.36600639]\n",
            " [0.60782747 0.2574456  0.92599492 0.05799297 0.34934865 0.9843687\n",
            "  0.85922069 0.67332157 0.30912193 0.73750088]\n",
            " [0.09152709 0.93161772 0.79671497 0.4549314  0.91452523 0.23209383\n",
            "  0.9014238  0.53171097 0.88144119 0.92877065]\n",
            " [0.70389986 0.91396093 0.97380416 0.75183812 0.44407073 0.98548093\n",
            "  0.29353784 0.49308955 0.75762678 0.76659779]]\n",
            "0.02152753213103642 0.992484372950694\n"
          ],
          "name": "stdout"
        }
      ]
    },
    {
      "cell_type": "code",
      "metadata": {
        "id": "9303USR5c6Ev",
        "colab": {
          "base_uri": "https://localhost:8080/"
        },
        "outputId": "df421839-da36-4f32-c23a-c1d6b47c11e2"
      },
      "source": [
        "# mean of random vector\n",
        "Z = np.random.random(30)\n",
        "m = Z.mean()\n",
        "print(m)"
      ],
      "execution_count": null,
      "outputs": [
        {
          "output_type": "stream",
          "text": [
            "0.5201747937665023\n"
          ],
          "name": "stdout"
        }
      ]
    },
    {
      "cell_type": "code",
      "metadata": {
        "id": "j8kRpDaSdsc3",
        "colab": {
          "base_uri": "https://localhost:8080/"
        },
        "outputId": "116900ab-1b89-4dd8-b1c6-b5a9385c0238"
      },
      "source": [
        "# two dimensional array with 1 in margin value and zero in internal values \n",
        "Z = np.ones((10,10))\n",
        "Z[1:-1,1:-1] = 0\n",
        "print(Z)"
      ],
      "execution_count": null,
      "outputs": [
        {
          "output_type": "stream",
          "text": [
            "[[1. 1. 1. 1. 1. 1. 1. 1. 1. 1.]\n",
            " [1. 0. 0. 0. 0. 0. 0. 0. 0. 1.]\n",
            " [1. 0. 0. 0. 0. 0. 0. 0. 0. 1.]\n",
            " [1. 0. 0. 0. 0. 0. 0. 0. 0. 1.]\n",
            " [1. 0. 0. 0. 0. 0. 0. 0. 0. 1.]\n",
            " [1. 0. 0. 0. 0. 0. 0. 0. 0. 1.]\n",
            " [1. 0. 0. 0. 0. 0. 0. 0. 0. 1.]\n",
            " [1. 0. 0. 0. 0. 0. 0. 0. 0. 1.]\n",
            " [1. 0. 0. 0. 0. 0. 0. 0. 0. 1.]\n",
            " [1. 1. 1. 1. 1. 1. 1. 1. 1. 1.]]\n"
          ],
          "name": "stdout"
        }
      ]
    },
    {
      "cell_type": "code",
      "metadata": {
        "id": "kLrdYYgPexih",
        "colab": {
          "base_uri": "https://localhost:8080/"
        },
        "outputId": "45fc053f-a781-44b2-ca5e-1b4268accae8"
      },
      "source": [
        "#two dimensional array with 0 in margin value and 1 in internal values\n",
        "Z = np.ones((5,5))\n",
        "Z = np.pad(Z, pad_width=1, mode='constant', constant_values=0)\n",
        "print(Z)\n",
        "\n"
      ],
      "execution_count": null,
      "outputs": [
        {
          "output_type": "stream",
          "text": [
            "[[0. 0. 0. 0. 0. 0. 0.]\n",
            " [0. 1. 1. 1. 1. 1. 0.]\n",
            " [0. 1. 1. 1. 1. 1. 0.]\n",
            " [0. 1. 1. 1. 1. 1. 0.]\n",
            " [0. 1. 1. 1. 1. 1. 0.]\n",
            " [0. 1. 1. 1. 1. 1. 0.]\n",
            " [0. 0. 0. 0. 0. 0. 0.]]\n"
          ],
          "name": "stdout"
        }
      ]
    },
    {
      "cell_type": "code",
      "metadata": {
        "id": "enUJQdsHeJ0I",
        "colab": {
          "base_uri": "https://localhost:8080/"
        },
        "outputId": "13c6fcc9-cbfa-43a9-8e1d-0c6a70bd835c"
      },
      "source": [
        "print(0 * np.nan)\n",
        "print(np.nan == np.nan)\n",
        "print(np.inf > np.nan)\n",
        "print(np.nan - np.nan)\n",
        "print(0.3 == 3 * 0.1)"
      ],
      "execution_count": null,
      "outputs": [
        {
          "output_type": "stream",
          "text": [
            "nan\n",
            "False\n",
            "False\n",
            "nan\n",
            "False\n"
          ],
          "name": "stdout"
        }
      ]
    },
    {
      "cell_type": "code",
      "metadata": {
        "id": "epKh_9h7hLW3",
        "colab": {
          "base_uri": "https://localhost:8080/"
        },
        "outputId": "18595910-cabf-436c-959f-023fd26c416d"
      },
      "source": [
        "x = np.arange(4)\n",
        "print(x)\n",
        "xx = x.reshape(4,1)\n",
        "print(xx)\n",
        "y = np.ones(5)\n",
        "print(y)\n",
        "z = np.ones((3,4))\n",
        "print(z)"
      ],
      "execution_count": null,
      "outputs": [
        {
          "output_type": "stream",
          "text": [
            "[0 1 2 3]\n",
            "[[0]\n",
            " [1]\n",
            " [2]\n",
            " [3]]\n",
            "[1. 1. 1. 1. 1.]\n",
            "[[1. 1. 1. 1.]\n",
            " [1. 1. 1. 1.]\n",
            " [1. 1. 1. 1.]]\n"
          ],
          "name": "stdout"
        }
      ]
    },
    {
      "cell_type": "code",
      "metadata": {
        "id": "Uyl3P25rmB1M",
        "colab": {
          "base_uri": "https://localhost:8080/"
        },
        "outputId": "52538da3-ec15-47aa-e83f-c50f5320cf56"
      },
      "source": [
        "print(x.shape)\n",
        "\n",
        "print(y.shape)\n",
        "##print(x + y)\n",
        "##ValueError: operands could not be broadcast together with shapes (4,) (5,)\n",
        "\n",
        "print(xx.shape)\n",
        "\n",
        "print(y.shape)\n",
        "\n",
        "print((xx + y).shape)\n",
        "\n",
        "print(xx + y)\n",
        "print( x.shape)\n",
        "\n",
        "print(z.shape)\n",
        "\n",
        "print((x + z).shape)\n",
        "\n",
        "print(x + z)\n"
      ],
      "execution_count": null,
      "outputs": [
        {
          "output_type": "stream",
          "text": [
            "(4,)\n",
            "(5,)\n",
            "(4, 1)\n",
            "(5,)\n",
            "(4, 5)\n",
            "[[1. 1. 1. 1. 1.]\n",
            " [2. 2. 2. 2. 2.]\n",
            " [3. 3. 3. 3. 3.]\n",
            " [4. 4. 4. 4. 4.]]\n",
            "(4,)\n",
            "(3, 4)\n",
            "(3, 4)\n",
            "[[1. 2. 3. 4.]\n",
            " [1. 2. 3. 4.]\n",
            " [1. 2. 3. 4.]]\n"
          ],
          "name": "stdout"
        }
      ]
    },
    {
      "cell_type": "code",
      "metadata": {
        "id": "ltFL5A5lnHFJ",
        "colab": {
          "base_uri": "https://localhost:8080/"
        },
        "outputId": "8131dcae-285b-4863-a3e9-d524badb0122"
      },
      "source": [
        "a = np.array([0.0, 10.0, 20.0, 30.0])\n",
        "b = np.array([1.0, 2.0, 3.0])\n",
        "# we can use reshape operator \n",
        "A=a.reshape(4,1)\n",
        "print(A+b)\n",
        "print('-----------------')\n",
        "#Or we can use newaxis operator\n",
        "print(a[:, np.newaxis] + b) "
      ],
      "execution_count": null,
      "outputs": [
        {
          "output_type": "stream",
          "text": [
            "[[ 1.  2.  3.]\n",
            " [11. 12. 13.]\n",
            " [21. 22. 23.]\n",
            " [31. 32. 33.]]\n",
            "-----------------\n",
            "[[ 1.  2.  3.]\n",
            " [11. 12. 13.]\n",
            " [21. 22. 23.]\n",
            " [31. 32. 33.]]\n"
          ],
          "name": "stdout"
        }
      ]
    },
    {
      "cell_type": "markdown",
      "metadata": {
        "id": "ro1Kws_GEhbU"
      },
      "source": [
        "\n",
        "# **Gradients and Automatic Differentiation**"
      ]
    },
    {
      "cell_type": "code",
      "metadata": {
        "id": "IO2Ge4SBE29R",
        "colab": {
          "base_uri": "https://localhost:8080/"
        },
        "outputId": "defbd5f1-f266-4ce3-f7b6-13457361e857"
      },
      "source": [
        "#Computing gradients\n",
        "#To differentiate automatically, TensorFlow needs to remember what operations happen in what order during the forward pass.\n",
        "#Then, during the backward pass, TensorFlow traverses this list of operations in reverse order to compute gradients.\n",
        "tf.GradientTape(\n",
        "    persistent=False, watch_accessed_variables=True\n",
        ")\n",
        "\n",
        "x = tf.constant(3.0)\n",
        "with tf.GradientTape() as g:\n",
        "#Operations are recorded if they are executed within this context manager and at least one of their inputs is being \"watched\".\n",
        "#Trainable variables (created by tf.Variable or tf.compat.v1.get_variable, where trainable=True is default in both cases) are automatically watched.\n",
        "#Tensors can be manually watched by invoking the watch method on this context manager.\n",
        "  g.watch(x)\n",
        "  y = x * x\n",
        "dy_dx = g.gradient(y, x) # Will compute to 6.0\n",
        "print(\"dy_dx =\" , dy_dx.numpy())\n",
        "\n",
        "x = tf.constant(3.0)\n",
        "with tf.GradientTape() as g:\n",
        "  g.watch(x)\n",
        "  with tf.GradientTape() as gg:\n",
        "    gg.watch(x)\n",
        "    y = x * x\n",
        "  dy_dx = gg.gradient(y, x) # Will compute to 6.0\n",
        "  print(\"dy_dx =\" , dy_dx.numpy())\n",
        "d2y_dx2 = g.gradient(dy_dx, x)  # Will compute to 2.0\n",
        "print(\"d2y_dx2 =\" , d2y_dx2.numpy())"
      ],
      "execution_count": null,
      "outputs": [
        {
          "output_type": "stream",
          "text": [
            "dy_dx = 6.0\n",
            "dy_dx = 6.0\n",
            "d2y_dx2 = 2.0\n"
          ],
          "name": "stdout"
        }
      ]
    },
    {
      "cell_type": "code",
      "metadata": {
        "id": "z0Q5ckmrqyrA",
        "colab": {
          "base_uri": "https://localhost:8080/"
        },
        "outputId": "9b716e89-79ca-4652-ffa9-33a14a9d9694"
      },
      "source": [
        "#To compute multiple gradients over the same computation, create a persistent gradient tape.\n",
        "#This allows multiple calls to the gradient() method as resources are released when the tape object is garbage collected.\n",
        "x = tf.constant(3.0)\n",
        "with tf.GradientTape(persistent=True) as g:\n",
        "  g.watch(x)\n",
        "  y = x * x\n",
        "  z = y * y\n",
        "dz_dx = g.gradient(z, x)  # 108.0 (4*x^3 at x = 3)\n",
        "dy_dx = g.gradient(y, x)  # 6.0\n",
        "print(\"dz_dx =\" , dz_dx.numpy())\n",
        "print(\"dy_dx =\" , dy_dx.numpy())\n",
        "del g  # Drop the reference to the tape"
      ],
      "execution_count": null,
      "outputs": [
        {
          "output_type": "stream",
          "text": [
            "dz_dx = 108.0\n",
            "dy_dx = 6.0\n"
          ],
          "name": "stdout"
        }
      ]
    },
    {
      "cell_type": "code",
      "metadata": {
        "id": "61oAvjFPsB7u",
        "colab": {
          "base_uri": "https://localhost:8080/"
        },
        "outputId": "3987c746-3433-45ab-aaf1-1630d3246409"
      },
      "source": [
        "#y default GradientTape will automatically watch any trainable variables that are accessed inside the context.\n",
        "#If you want fine grained control over which variables are watched you can disable automatic tracking by passing watch_accessed_variables=False to the tape constructor:\n",
        "import numpy as np\n",
        "import matplotlib.pyplot as plt\n",
        "\n",
        "import tensorflow as tf\n",
        "B = tf.constant(3.0)\n",
        "L = tf.constant(9.0)\n",
        "with tf.GradientTape(persistent=True, watch_accessed_variables=False) as tape:\n",
        "  tape.watch(B)\n",
        "  tape.watch(L)\n",
        "\n",
        "  C = B ** 2  # Gradients will be available for `variable_a`.\n",
        "  V =L ** 3  # No gradients will be available since `variable_b` is not being watched.\n",
        "  G1 = tape.gradient(C,B)\n",
        "  G2 = tape.gradient(V ,L)\n",
        "  print(\"G1 =\" , G1.numpy())\n",
        "  print(\"G2 =\" , G2.numpy())\n",
        "\n"
      ],
      "execution_count": null,
      "outputs": [
        {
          "output_type": "stream",
          "text": [
            "WARNING:tensorflow:Calling GradientTape.gradient on a persistent tape inside its context is significantly less efficient than calling it outside the context (it causes the gradient ops to be recorded on the tape, leading to increased CPU and memory usage). Only call GradientTape.gradient inside the context if you actually want to trace the gradient in order to compute higher order derivatives.\n",
            "WARNING:tensorflow:Calling GradientTape.gradient on a persistent tape inside its context is significantly less efficient than calling it outside the context (it causes the gradient ops to be recorded on the tape, leading to increased CPU and memory usage). Only call GradientTape.gradient inside the context if you actually want to trace the gradient in order to compute higher order derivatives.\n",
            "G1 = 6.0\n",
            "G2 = 243.0\n"
          ],
          "name": "stdout"
        }
      ]
    },
    {
      "cell_type": "code",
      "metadata": {
        "id": "uVrlPq8NC6kl",
        "colab": {
          "base_uri": "https://localhost:8080/"
        },
        "outputId": "67fe7b06-71ab-4ab3-e61a-f8de87efff65"
      },
      "source": [
        "w = tf.Variable(tf.random.normal((3, 2)), name='w')\n",
        "print(w)\n",
        "b = tf.Variable(tf.zeros(2, dtype=tf.float32), name='b')\n",
        "print(b.numpy())\n",
        "x = [[1., 2., 3.]]\n",
        "print(x)\n",
        "with tf.GradientTape(persistent=True) as tape:\n",
        "  y = x @ w + b\n",
        "  print(y.numpy())"
      ],
      "execution_count": null,
      "outputs": [
        {
          "output_type": "stream",
          "text": [
            "<tf.Variable 'w:0' shape=(3, 2) dtype=float32, numpy=\n",
            "array([[ 0.80348307, -0.36864725],\n",
            "       [-0.76201993, -0.34643286],\n",
            "       [-0.87193286, -1.3989494 ]], dtype=float32)>\n",
            "[0. 0.]\n",
            "[[1.0, 2.0, 3.0]]\n",
            "[[-3.3363554 -5.258361 ]]\n"
          ],
          "name": "stdout"
        }
      ]
    }
  ]
}